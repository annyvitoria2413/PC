{
  "cells": [
    {
      "cell_type": "markdown",
      "metadata": {
        "id": "view-in-github",
        "colab_type": "text"
      },
      "source": [
        "<a href=\"https://colab.research.google.com/github/lomurta/PC/blob/main/roteiro4.ipynb\" target=\"_parent\"><img src=\"https://colab.research.google.com/assets/colab-badge.svg\" alt=\"Open In Colab\"/></a>"
      ]
    },
    {
      "cell_type": "markdown",
      "metadata": {
        "id": "lg2bG9y_ELCr"
      },
      "source": [
        "## <center>Introdução ao Python</center>\n",
        "---\n",
        "## <center>Roteiro 4. Listas</center>\n"
      ]
    },
    {
      "cell_type": "markdown",
      "metadata": {
        "id": "VRoFEzZiELC7"
      },
      "source": [
        "### Objetivos. \n",
        "\n",
        "Após este roteiro você deverá ser capaz de:\n",
        "* Reconhecer a utilidade das listas como estruturas de dados;\n",
        "* Construir e combinar listas;\n",
        "* Recuperar elementos de uma lista."
      ]
    },
    {
      "cell_type": "markdown",
      "metadata": {
        "id": "L4xFKu-0ELC8"
      },
      "source": [
        "## 1. Construindo uma lista"
      ]
    },
    {
      "cell_type": "markdown",
      "metadata": {
        "id": "9RFAXPfZELC9"
      },
      "source": [
        "Existem algumas formas diferentes de se construir uma lista em *Python*. A mais simples consiste em inserir uma sequência de itens separados por vírgulas entre colchetes.\n",
        "Note que a ordem dos itens permanece a mesma em que foram inseridos durante s criação da lista."
      ]
    },
    {
      "cell_type": "code",
      "execution_count": null,
      "metadata": {
        "id": "4Yn_NpiIELC_"
      },
      "outputs": [],
      "source": [
        "# Como exemplo, uma lista contendo um nome, uma idade e uma altura\n",
        "[\"Pedro\", 29, 1.83]"
      ]
    },
    {
      "cell_type": "markdown",
      "metadata": {
        "id": "rc0DH_v_ELDC"
      },
      "source": [
        "Podemos também usar a função `list`, passando como argumento uma sequência de números inteiros (ou *range*). Uma *range* pode ser criada usando a função `range`."
      ]
    },
    {
      "cell_type": "code",
      "execution_count": null,
      "metadata": {
        "id": "z0aMX9e4ELDD"
      },
      "outputs": [],
      "source": [
        "# Lista de 0 até 10\n",
        "list(range(11))"
      ]
    },
    {
      "cell_type": "code",
      "execution_count": null,
      "metadata": {
        "id": "2YeoeUHnELDF"
      },
      "outputs": [],
      "source": [
        "# Lista de 1 até 10\n",
        "list(range(1,11))"
      ]
    },
    {
      "cell_type": "code",
      "execution_count": null,
      "metadata": {
        "id": "o9oSClIMELDG"
      },
      "outputs": [],
      "source": [
        "# Lista de 1 até 10 de 2 em 2\n",
        "list(range(1,11,2))"
      ]
    },
    {
      "cell_type": "markdown",
      "metadata": {
        "id": "-dGRBKdyELDH"
      },
      "source": [
        "A linguagem *Python* fornece outras formas mais eficientes de se criar listas, como o método de [**compreensão de listas**](https://docs.python.org/3/tutorial/datastructures.html#list-comprehensions). Mas para manter a simplicidade do material não abordaremos este método por enquanto. Fica apenas a referência para os mais curiosos."
      ]
    },
    {
      "cell_type": "markdown",
      "metadata": {
        "id": "a1foqLt8ELDI"
      },
      "source": [
        "## 2. Acessando elementos da lista"
      ]
    },
    {
      "cell_type": "markdown",
      "metadata": {
        "id": "mHjbDvFVELDI"
      },
      "source": [
        "Agora que temos uma lista, como acessar os elementos dentro dela? Existem basicamente duas formas: a indexação (**indexing**) e o recorte (**slicing**). Por fim, podemos usar também algumas funções aplicáveis a listas. Vejamos cada um deles."
      ]
    },
    {
      "cell_type": "markdown",
      "metadata": {
        "id": "ic8OSid7ELDJ"
      },
      "source": [
        "#### Indexing"
      ]
    },
    {
      "cell_type": "markdown",
      "metadata": {
        "id": "LsLQ3zS2ELDJ"
      },
      "source": [
        "Usando a **notação de indexação** `[i]` podemos recuperar o elemento em determinada posição em uma lista. Para isso basta indicar o índice `i` do elemento que queremos entre colchetes, ao lado da nossa lista (ou da variável que a armazena).\n",
        "Se tentarmos passar um índice que não exista na lista (por exemplo o índice 9 em uma lista de comprimento 5), o interpretador encerrará a execução do programa e nos mostrará uma mensagem de erro."
      ]
    },
    {
      "cell_type": "code",
      "execution_count": null,
      "metadata": {
        "id": "BCps1aKwELDK"
      },
      "outputs": [],
      "source": [
        "l = [\"Pedro\", 29, 1.83]"
      ]
    },
    {
      "cell_type": "code",
      "execution_count": null,
      "metadata": {
        "id": "G_tjcuoWELDL"
      },
      "outputs": [],
      "source": [
        "l[0]"
      ]
    },
    {
      "cell_type": "code",
      "execution_count": null,
      "metadata": {
        "id": "3DFuA_cOELDL"
      },
      "outputs": [],
      "source": [
        "l[1]"
      ]
    },
    {
      "cell_type": "code",
      "execution_count": null,
      "metadata": {
        "id": "L5mquG-YELDM"
      },
      "outputs": [],
      "source": [
        "l[2]"
      ]
    },
    {
      "cell_type": "code",
      "execution_count": null,
      "metadata": {
        "id": "AUcXC8IbELDM"
      },
      "outputs": [],
      "source": [
        "l[3]"
      ]
    },
    {
      "cell_type": "markdown",
      "metadata": {
        "id": "N96FlkC8ELDM"
      },
      "source": [
        "Podemos usar números negativos para nos referir a elementos na lista seguindo uma lógica de ordem reversa. Por exemplo, podemos usar o índice -1 para nos referir ao último elemento, -2 ao penúltimo, e assim por diante."
      ]
    },
    {
      "cell_type": "code",
      "execution_count": null,
      "metadata": {
        "id": "JJnFoufWELDO"
      },
      "outputs": [],
      "source": [
        "l[-1]"
      ]
    },
    {
      "cell_type": "code",
      "execution_count": null,
      "metadata": {
        "id": "rbqMfj4BELDO"
      },
      "outputs": [],
      "source": [
        "l[-2]"
      ]
    },
    {
      "cell_type": "code",
      "execution_count": null,
      "metadata": {
        "id": "UWAVMa6FELDP"
      },
      "outputs": [],
      "source": [
        "l[-3]"
      ]
    },
    {
      "cell_type": "markdown",
      "metadata": {
        "id": "u_c3xtywELDP"
      },
      "source": [
        "#### Slicing"
      ]
    },
    {
      "cell_type": "markdown",
      "metadata": {
        "id": "njyuiBTyELDP"
      },
      "source": [
        "Usando a **notação de recorte** `[i:j]` podemos recuperar um conjunto de elementos de uma lista. A diferença para a indexação é que o recorte retorna uma sublista (um pedaço, ou *slice* da lista original), em vez de um único elemento. Para isso indicamos, entre colchetes e separados por dois pontos, dois números: o primeiro (`i`) é o índice do elemento no começo do recorte; o segundo (`j`) é o índice do elemento que delimita o fim do pedaço (não-inclusivo). "
      ]
    },
    {
      "cell_type": "code",
      "execution_count": null,
      "metadata": {
        "id": "CpzmVmBKELDP"
      },
      "outputs": [],
      "source": [
        "l = [1,2,3,4,5,6,7,8,9,10]"
      ]
    },
    {
      "cell_type": "code",
      "execution_count": null,
      "metadata": {
        "id": "ulpf1NRMELDQ"
      },
      "outputs": [],
      "source": [
        "l[0:3]"
      ]
    },
    {
      "cell_type": "markdown",
      "metadata": {
        "id": "NLkCIEfGELDQ"
      },
      "source": [
        "Podemos omitir o número `i` ou `j` se quisermos que o pedaço comece do primeiro elemento da lista ou que termine no último elemento da lista, respectivamente."
      ]
    },
    {
      "cell_type": "code",
      "execution_count": null,
      "metadata": {
        "id": "HwmlmB-dELDR"
      },
      "outputs": [],
      "source": [
        "l[:3]"
      ]
    },
    {
      "cell_type": "code",
      "execution_count": null,
      "metadata": {
        "id": "mBR_dIXxELDR"
      },
      "outputs": [],
      "source": [
        "l[3:]"
      ]
    },
    {
      "cell_type": "markdown",
      "metadata": {
        "id": "JAoMuRpjELDR"
      },
      "source": [
        "Embora pouco usual, podemos definir o **passo** do recorte alterando a notação de recorte para `[i:j:k]`. Neste caso, `k` é o tamanho do passo, ou seja, o número de elementos que devem ser pulados."
      ]
    },
    {
      "cell_type": "code",
      "execution_count": null,
      "metadata": {
        "id": "IIcvpIQsELDR"
      },
      "outputs": [],
      "source": [
        "l[2:9:2]"
      ]
    },
    {
      "cell_type": "code",
      "execution_count": null,
      "metadata": {
        "id": "mIjC70hsELDS"
      },
      "outputs": [],
      "source": [
        "# Percorrendo toda a lista de 2 em 2\n",
        "l[::2]"
      ]
    },
    {
      "cell_type": "code",
      "execution_count": null,
      "metadata": {
        "id": "MKVJ-hNFELDS"
      },
      "outputs": [],
      "source": [
        "# Percorrendo toda a lista de 3 em 3\n",
        "l[::3]"
      ]
    },
    {
      "cell_type": "markdown",
      "metadata": {
        "id": "eY8KRYMqELDS"
      },
      "source": [
        "#### Funções aplicáveis a listas"
      ]
    },
    {
      "cell_type": "markdown",
      "metadata": {
        "id": "4hy8uxi7ELDS"
      },
      "source": [
        "E se quisermos obter o elemento de maior ou menor valor dentro da lista? Para isso podemos usar as funções `max` e `min`, respectivamente."
      ]
    },
    {
      "cell_type": "code",
      "execution_count": null,
      "metadata": {
        "id": "urcysPP4ELDS"
      },
      "outputs": [],
      "source": [
        "l = [34, 5, -1, 8, 43, -7, 0, 1]"
      ]
    },
    {
      "cell_type": "code",
      "execution_count": null,
      "metadata": {
        "id": "0SRcz7GuELDT"
      },
      "outputs": [],
      "source": [
        "max(l)"
      ]
    },
    {
      "cell_type": "code",
      "execution_count": null,
      "metadata": {
        "id": "57RidhBIELDT"
      },
      "outputs": [],
      "source": [
        "min(l)"
      ]
    },
    {
      "cell_type": "markdown",
      "metadata": {
        "id": "1Ux1TK78ELDT"
      },
      "source": [
        "A função `reversed` espera receber uma lista e retorna uma nova lista com os elementos em ordem inversa."
      ]
    },
    {
      "cell_type": "code",
      "execution_count": null,
      "metadata": {
        "id": "edlehi9LELDT"
      },
      "outputs": [],
      "source": [
        "l = [1,2,3,4,5,6,7,8,9,10]"
      ]
    },
    {
      "cell_type": "code",
      "execution_count": null,
      "metadata": {
        "id": "-0lK2SqUELDT"
      },
      "outputs": [],
      "source": [
        "list(reversed(l))"
      ]
    },
    {
      "cell_type": "markdown",
      "metadata": {
        "id": "scbM1QlnELDT"
      },
      "source": [
        "Finalmente, podemos verificar se um elemento com determinado valor existe dentro de uma lista. Para isso, construímos uma expressão utilizando o operador `in`. Caso o elemento exista na lista, a expressão retornará o valor booleano `True` e, caso contrário, `False`."
      ]
    },
    {
      "cell_type": "code",
      "execution_count": null,
      "metadata": {
        "id": "ECXN_kU4ELDU"
      },
      "outputs": [],
      "source": [
        "nomes = [\"Pedro\", \"Adriana\", \"Nicole\"]"
      ]
    },
    {
      "cell_type": "code",
      "execution_count": null,
      "metadata": {
        "id": "PS7mvpWMELDU"
      },
      "outputs": [],
      "source": [
        "\"Pedro\" in nomes"
      ]
    },
    {
      "cell_type": "code",
      "execution_count": null,
      "metadata": {
        "id": "UVJxNOgeELDU"
      },
      "outputs": [],
      "source": [
        "\"Adriana\" in nomes"
      ]
    },
    {
      "cell_type": "code",
      "execution_count": null,
      "metadata": {
        "id": "OW_Lj7qUELDU"
      },
      "outputs": [],
      "source": [
        "\"Ana\" in nomes"
      ]
    },
    {
      "cell_type": "markdown",
      "metadata": {
        "id": "Qg4upT62ELDU"
      },
      "source": [
        "## 3. Combinando listas"
      ]
    },
    {
      "cell_type": "markdown",
      "metadata": {
        "id": "niSuYRcKELDV"
      },
      "source": [
        "É possível construir listas facilmente a partir de outras. Para isso usamos o operador `+`, que pode ser usado para concatenar listas. É importante que ambos os operandos sejam do mesmo tipo: lista."
      ]
    },
    {
      "cell_type": "code",
      "execution_count": null,
      "metadata": {
        "id": "jT-Wk13FELDV"
      },
      "outputs": [],
      "source": [
        "l1 = [1,2,3,4,5]\n",
        "l2 = ['a','b','c','d','e']\n",
        "\n",
        "l1 + l2"
      ]
    },
    {
      "cell_type": "markdown",
      "metadata": {
        "id": "PuIn8sb7ELDX"
      },
      "source": [
        "Este operador é comumente usado para inserir novos elementos em uma lista. Mas lembre-se que listas só podem ser somadas a listas!"
      ]
    },
    {
      "cell_type": "code",
      "execution_count": null,
      "metadata": {
        "id": "zScYl_vRELDX"
      },
      "outputs": [],
      "source": [
        "[1,2,3,4,5] + [6]"
      ]
    },
    {
      "cell_type": "code",
      "execution_count": null,
      "metadata": {
        "id": "fYZ9C-91ELDY"
      },
      "outputs": [],
      "source": [
        "[1,2,3,4,5] + 6 # este erro ocorreu pq tentamos somar um inteiro a uma lista!"
      ]
    },
    {
      "cell_type": "markdown",
      "metadata": {
        "id": "rEJoukdkELDY"
      },
      "source": [
        "---"
      ]
    },
    {
      "cell_type": "markdown",
      "metadata": {
        "id": "GCDTpTJHELDY"
      },
      "source": [
        "## Exercícios."
      ]
    },
    {
      "cell_type": "markdown",
      "metadata": {
        "id": "0nK4M-p_ELDY"
      },
      "source": [
        "**Ex 1.** Você recebeu a seguinte tabela com dados de espécies coletadas pela sua turma na saída de Zoologia dos Vertebrados:\n",
        "\n",
        "|id| Localidade | Espécie| Nome comum | Contagem | Turma\n",
        "|--|--|--|--|--|--|\n",
        "|0| FAL | *Ameiva ameiva*| Calango | 4 | Zoovert 1/2018\n",
        "|1| FAL | *Phyllomedusa oreades* | Perereca-arborícola | 2 | Zoovert 1/2018\n",
        "|2| FAL | *Artibeus sp.* | Morcego | 4 | Zoovert 1/2018\n",
        "|3| FAL | *Athene cunicularia* | Coruja-buraqueira | 5 | Zoovert 1/2018\n",
        "|4| FAL | *Hypostomus sp.* | Peixe-cascudo | 7 | Zoovert 1/2018\n",
        "|5| FAL | *Cariama cristata* | Seriema | 4 | Zoovert 1/2018\n",
        "|6| JBB | *Ameiva ameiva* | Calango | 1 | Zoovert 1/2018\n",
        "|7| JBB | *Chrysocyon brachyurus* | Lobo-guará | 1 | Zoovert 1/2018\n",
        "|8| JBB | *Cariama cristata* | Seriema | 2 | Zoovert 1/2018\n",
        "|9| IBGE | *Bothrops neuwiedi*  | Jararaca | 1 | Zoovert 1/2018"
      ]
    },
    {
      "cell_type": "markdown",
      "metadata": {
        "id": "y2f8oCCDELDZ"
      },
      "source": [
        "**(i)** Armazene os nomes científicos das espécies coletadas em uma lista, e guarde a referência à lista em uma variável chamada `especies`. Observe se as listas permitem armazenar mais de um elemento com um mesmo valor."
      ]
    },
    {
      "cell_type": "code",
      "execution_count": null,
      "metadata": {
        "id": "zM9HYZBUELDZ"
      },
      "outputs": [],
      "source": [
        "especies = [ 'Ameiva ameiva','Phyllomedusa oreades', 'Artibeus sp.', \n",
        "             'Athene cunicularia', 'Hypostomus sp.', 'Cariama cristata',\n",
        "             'Ameiva ameiva', 'Chrysocyon brachyurus', 'Cariama cristata',\n",
        "            'Bothrops neuwiedi' ]"
      ]
    },
    {
      "cell_type": "code",
      "execution_count": null,
      "metadata": {
        "id": "H6Sbz7RoELDZ"
      },
      "outputs": [],
      "source": [
        "especies"
      ]
    },
    {
      "cell_type": "markdown",
      "metadata": {
        "id": "GeXoffwTELDZ"
      },
      "source": [
        "**(ii)** Usando a notação de *slicing*, obtenha três pedaços da lista `especies`: o primeiro com as espécies coletadas na FAL, o segundo com as espécies coletadas no JBB e o terceiro com as espécies coletadas no IBGE. Armazene cada uma dessas sublistas em variáveis de nome `especies_fal`, `especies_jbb` e `especies_ibge`, respectivamente.  "
      ]
    },
    {
      "cell_type": "code",
      "execution_count": null,
      "metadata": {
        "id": "aQJrU0mpELDZ"
      },
      "outputs": [],
      "source": [
        "especies_fal = especies[:6]\n",
        "especies_fal"
      ]
    },
    {
      "cell_type": "code",
      "execution_count": null,
      "metadata": {
        "id": "O3Z6dSKrELDa"
      },
      "outputs": [],
      "source": [
        "especies_jbb = especies[6:9]\n",
        "especies_jbb"
      ]
    },
    {
      "cell_type": "code",
      "execution_count": null,
      "metadata": {
        "id": "0Fk8altaELDa"
      },
      "outputs": [],
      "source": [
        "especies_ibge = especies[-1:]\n",
        "especies_ibge"
      ]
    },
    {
      "cell_type": "markdown",
      "metadata": {
        "id": "vv115yyqELDa"
      },
      "source": [
        "**(iii)** Agora vamos guardar cada uma três listas de cada localidade em uma única estrutura!\n",
        "Você deverá construir uma lista armazenando as três listas criadas no item anterior (cada uma por sua vez contendo nomes de espécies).\n",
        "Armazene o resultado em uma variável chamada `listas_especies`.\n",
        "Em seguida, tente recuperar a lista de espécies para cada uma das localidades usando a variável que você acabou de criar."
      ]
    },
    {
      "cell_type": "code",
      "execution_count": null,
      "metadata": {
        "id": "32YNh8iBELDa"
      },
      "outputs": [],
      "source": [
        "listas_especies = [\n",
        "    especies_fal,\n",
        "    especies_jbb,\n",
        "    especies_ibge\n",
        "]\n",
        "\n",
        "listas_especies"
      ]
    },
    {
      "cell_type": "markdown",
      "metadata": {
        "id": "wdPxNbp0ELDa"
      },
      "source": [
        "**(iv)** Escreva uma função `coletadaEm`, que recebe como argumentos: \n",
        "* o nome científico de alguma espécie;\n",
        "* a lista contendo a lista de espécies para cada uma das três localidades (você a criou no item acima). \n",
        "\n",
        "Sua função deve retornar uma lista com os nomes das localidades em que a espécie passada como argumento ocorre. Em que localidades *Cariama cristata* ocorre? E *Phyllomedusa oreades*?"
      ]
    },
    {
      "cell_type": "code",
      "execution_count": null,
      "metadata": {
        "id": "5STtoW4NELDb"
      },
      "outputs": [],
      "source": [
        "def coletadaEm( especie, listas_especies ):\n",
        "    res = [] # esta lista começa vazia, e deve ir sendo preenchida ao longo do código\n",
        "    \n",
        "    if especie in listas_especies[0]:\n",
        "        res = res + [ 'fal' ]\n",
        "      \n",
        "    if especie in listas_especies[1]:\n",
        "        res = res + [ 'jbb' ]\n",
        "    \n",
        "    if especie in listas_especies[2]:\n",
        "        res = res + [ 'ibge' ]\n",
        "    \n",
        "    return res"
      ]
    },
    {
      "cell_type": "code",
      "execution_count": null,
      "metadata": {
        "id": "B5d15AexELDc"
      },
      "outputs": [],
      "source": [
        "# Cariama cristata foi coletada na FAL e no JBB\n",
        "coletadaEm('Cariama cristata', listas_especies)"
      ]
    },
    {
      "cell_type": "code",
      "execution_count": null,
      "metadata": {
        "id": "g4GUOFpfELDd"
      },
      "outputs": [],
      "source": [
        "# Hypostomus sp. foi coletada apenas na FAL\n",
        "coletadaEm('Hypostomus sp.', listas_especies)"
      ]
    },
    {
      "cell_type": "code",
      "execution_count": null,
      "metadata": {
        "id": "iUGtTGNaELDd"
      },
      "outputs": [],
      "source": [
        "# Puma concolor não foi coletada em nenhuma das localidades\n",
        "coletadaEm('Puma concolor', listas_especies)"
      ]
    },
    {
      "cell_type": "markdown",
      "metadata": {
        "id": "xhExuxUgELDe"
      },
      "source": [
        "**Ex 2.** Em um levantamento florístico, você definiu um *grid* espacial de $5 \\times 5$ células para registrar a ocorrência de espécies. Para cada espécie, armazenamos os dados em uma matriz da seguinte forma: \n",
        "* Cada elemento da matriz representa uma célula do *grid*;\n",
        "* Caso a espécie tenha sido registrada em uma célula do grid, sua presença é registrada como um $1$ no elemento correspondente da matriz;\n",
        "* Caso a espécie não tenha sido registrada em uma célula, sua ausência é registrada como um $0$ no elemento correspondente da matriz.\n",
        "\n",
        "Os dados de ocorrência de *Caryocar brasiliense* (vulgo Pequi) foram registrados em uma lista de listas! \n",
        "Pare por um instante e tente entender como uma lista de listas pode ser usada para representar uma matriz."
      ]
    },
    {
      "cell_type": "code",
      "execution_count": null,
      "metadata": {
        "id": "dNatLa9OELDe"
      },
      "outputs": [],
      "source": [
        "# Apenas execute esta célula\n",
        "grid_caryocar = [ [1,0,0,1,0],\n",
        "                  [0,0,0,1,0],\n",
        "                  [1,0,1,1,1],\n",
        "                  [0,0,1,0,0],\n",
        "                  [1,0,1,1,0] ]"
      ]
    },
    {
      "cell_type": "markdown",
      "metadata": {
        "id": "Zneb3VuuELDe"
      },
      "source": [
        "Agora, seu desafio é acessar apenas os elementos da matriz acima em que a ocorrência de *Caryocar brasiliense* foi registrada (ou seja, os $1$s)."
      ]
    },
    {
      "cell_type": "code",
      "execution_count": null,
      "metadata": {
        "id": "_J4pF6_HELDe"
      },
      "outputs": [],
      "source": [
        "grid_caryocar[0][0]"
      ]
    },
    {
      "cell_type": "code",
      "execution_count": null,
      "metadata": {
        "id": "BNy2w_cHELDe"
      },
      "outputs": [],
      "source": [
        "grid_caryocar[0][3]"
      ]
    },
    {
      "cell_type": "code",
      "execution_count": null,
      "metadata": {
        "id": "peCeWdb9ELDe"
      },
      "outputs": [],
      "source": [
        "grid_caryocar[1][3]"
      ]
    },
    {
      "cell_type": "code",
      "execution_count": null,
      "metadata": {
        "id": "afXNixuWELDf"
      },
      "outputs": [],
      "source": [
        "grid_caryocar[4][0]"
      ]
    }
  ],
  "metadata": {
    "kernelspec": {
      "display_name": "Python 3",
      "language": "python",
      "name": "python3"
    },
    "language_info": {
      "codemirror_mode": {
        "name": "ipython",
        "version": 3
      },
      "file_extension": ".py",
      "mimetype": "text/x-python",
      "name": "python",
      "nbconvert_exporter": "python",
      "pygments_lexer": "ipython3",
      "version": "3.6.5"
    },
    "toc": {
      "base_numbering": 1,
      "nav_menu": {},
      "number_sections": false,
      "sideBar": true,
      "skip_h1_title": false,
      "title_cell": "Table of Contents",
      "title_sidebar": "Contents",
      "toc_cell": false,
      "toc_position": {},
      "toc_section_display": true,
      "toc_window_display": false
    },
    "colab": {
      "name": "roteiro4.ipynb",
      "provenance": [],
      "include_colab_link": true
    }
  },
  "nbformat": 4,
  "nbformat_minor": 0
}