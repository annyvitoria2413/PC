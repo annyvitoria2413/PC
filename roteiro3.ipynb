{
  "cells": [
    {
      "cell_type": "markdown",
      "metadata": {
        "id": "view-in-github",
        "colab_type": "text"
      },
      "source": [
        "<a href=\"https://colab.research.google.com/github/lomurta/PC/blob/main/roteiro3.ipynb\" target=\"_parent\"><img src=\"https://colab.research.google.com/assets/colab-badge.svg\" alt=\"Open In Colab\"/></a>"
      ]
    },
    {
      "cell_type": "markdown",
      "metadata": {
        "id": "nzBrYI_TqmoL"
      },
      "source": [
        "## <center>Introdução ao Python</center>\n",
        "\n",
        "---\n",
        "## <center>Roteiro 3. Estruturas Condicionais</center>\n"
      ]
    },
    {
      "cell_type": "markdown",
      "metadata": {
        "id": "A-Yea20nqmoQ"
      },
      "source": [
        "Estruturas condicionais permitem alterar o fluxo de execução de um programa através da verificação de **condições**, que podem ser codificadas em nosso programa por meio de **expressões lógicas**."
      ]
    },
    {
      "cell_type": "markdown",
      "metadata": {
        "id": "4KqNGdRcqmoR"
      },
      "source": [
        "### Objetivos. \n",
        "\n",
        "Após este roteiro você deverá ser capaz de:\n",
        "* Reconhecer os principais **operadores lógicos** e de **comparação**;\n",
        "* Construir e computar **expressões lógicas**;\n",
        "* Construir **estruturas condicionais**."
      ]
    },
    {
      "cell_type": "markdown",
      "metadata": {
        "id": "7Dt4cI0HqmoR"
      },
      "source": [
        "## 1. Expressões lógicas"
      ]
    },
    {
      "cell_type": "markdown",
      "metadata": {
        "id": "2I54Rm8DqmoS"
      },
      "source": [
        "Expressões lógicas são aquelas cuja avaliação resulta em valores do tipo **booleano**: verdadeiro (**True**) ou falso (**False**).\n",
        "Os dois principais tipos de operadores para construir expressões lógicas são:\n",
        "* **operadores de comparação**: permitem comparar os valores de um par de objetos, e retornam `True` caso sejam equivalentes e `False` caso contrário; \n",
        "* **operadores lógicos**: úteis para combinar resultados booleanos obtidos de várias comparações, permitindo construir estruturas de decisão mais complexas."
      ]
    },
    {
      "cell_type": "markdown",
      "metadata": {
        "id": "PP4GvEgCqmoS"
      },
      "source": [
        "| Operador | Descrição |\n",
        "| -------- | --------- |\n",
        "| **Operadores de comparação** | |\n",
        "|    `==`  | `True` se valores de dois operandos são iguais |\n",
        "|    `!=`  | `True` se valores de dois operandos são diferentes |\n",
        "|    `<`  | `True` se valor do operando à esquerda é menor que o da direita |\n",
        "|    `<=`  | `True` se valor do operando à esquerda é menor ou igual ao da direita|\n",
        "|    `>`  | `True` se valor do operando à esquerda é maior que o da direita |\n",
        "|    `>=`  | `True` se valor do operando à esquerda é maior ou igual ao da direita |\n",
        "| **Operadores lógicos**| |\n",
        "|    `and`  | Operador lógico \"E\" |\n",
        "|    `or`  | Operador lógico \"OU\" |\n",
        "|    `not`  |Operador lógico \"NÃO\" |"
      ]
    },
    {
      "cell_type": "markdown",
      "metadata": {
        "id": "1j5TpLqeqmoT"
      },
      "source": [
        "Vamos escrever algumas expressões lógicas."
      ]
    },
    {
      "cell_type": "markdown",
      "metadata": {
        "id": "ea8ZqDNfqmoV"
      },
      "source": [
        "##### Operações de comparação"
      ]
    },
    {
      "cell_type": "code",
      "execution_count": null,
      "metadata": {
        "id": "W55vmdFFqmoW"
      },
      "outputs": [],
      "source": [
        "# A expressão 5=5 é válida?\n",
        "5==5"
      ]
    },
    {
      "cell_type": "code",
      "execution_count": null,
      "metadata": {
        "id": "qprR_K55qmoY"
      },
      "outputs": [],
      "source": [
        "# A expressão 5=3 é válida?\n",
        "5==3"
      ]
    },
    {
      "cell_type": "code",
      "execution_count": null,
      "metadata": {
        "id": "7NMAWfPGqmoZ"
      },
      "outputs": [],
      "source": [
        "# 5 é diferente de 7?\n",
        "5 != 7"
      ]
    },
    {
      "cell_type": "code",
      "execution_count": null,
      "metadata": {
        "id": "_kO3GNRhqmoZ"
      },
      "outputs": [],
      "source": [
        "# 5 é maior ou igual a 5?\n",
        "5 >= 5"
      ]
    },
    {
      "cell_type": "code",
      "execution_count": null,
      "metadata": {
        "id": "M9Ci8iPyqmoa"
      },
      "outputs": [],
      "source": [
        "# 7 é menor que 10?\n",
        "7 < 10"
      ]
    },
    {
      "cell_type": "markdown",
      "metadata": {
        "id": "S1zd4eATqmoa"
      },
      "source": [
        "##### Operações lógicas"
      ]
    },
    {
      "cell_type": "code",
      "execution_count": null,
      "metadata": {
        "id": "PN8ItTs7qmoa"
      },
      "outputs": [],
      "source": [
        "p = True\n",
        "q = True\n",
        "\n",
        "print(\"P and Q:\", p and q )\n",
        "print(\"P or Q:\", p or q )\n",
        "print(\"not P:\", not p )\n",
        "print(\"not Q:\", not q)"
      ]
    },
    {
      "cell_type": "code",
      "execution_count": null,
      "metadata": {
        "id": "n8MC92jvqmob"
      },
      "outputs": [],
      "source": [
        "p = True\n",
        "q = False\n",
        "\n",
        "print(\"P and Q:\", p and q )\n",
        "print(\"P or Q:\", p or q )\n",
        "print(\"not P:\", not p )\n",
        "print(\"not Q:\", not q)"
      ]
    },
    {
      "cell_type": "code",
      "execution_count": null,
      "metadata": {
        "id": "0vHxlzqpqmob"
      },
      "outputs": [],
      "source": [
        "p = False\n",
        "q = True\n",
        "\n",
        "print(\"P and Q:\", p and q )\n",
        "print(\"P or Q:\", p or q )\n",
        "print(\"not P:\", not p )\n",
        "print(\"not Q:\", not q)"
      ]
    },
    {
      "cell_type": "code",
      "execution_count": null,
      "metadata": {
        "id": "0u63UwYdqmob"
      },
      "outputs": [],
      "source": [
        "p = False\n",
        "q = False\n",
        "\n",
        "print(\"P and Q:\", p and q )\n",
        "print(\"P or Q:\", p or q )\n",
        "print(\"not P:\", not p )\n",
        "print(\"not Q:\", not q)"
      ]
    },
    {
      "cell_type": "code",
      "execution_count": null,
      "metadata": {
        "id": "nRYoIBMoqmoc"
      },
      "outputs": [],
      "source": [
        "True and not False and True"
      ]
    },
    {
      "cell_type": "code",
      "execution_count": null,
      "metadata": {
        "id": "UJI4lwnHqmoc"
      },
      "outputs": [],
      "source": [
        "True or False and True"
      ]
    },
    {
      "cell_type": "markdown",
      "metadata": {
        "id": "GtZg2nlvqmoc"
      },
      "source": [
        "##### Operações lógicas envolvendo comparação"
      ]
    },
    {
      "cell_type": "code",
      "execution_count": null,
      "metadata": {
        "id": "lLJpco0Sqmod"
      },
      "outputs": [],
      "source": [
        "# False and True -> False\n",
        "(4 > 5) and (3==3)"
      ]
    },
    {
      "cell_type": "code",
      "execution_count": null,
      "metadata": {
        "id": "t1ucnzo7qmod"
      },
      "outputs": [],
      "source": [
        "# True or False -> True\n",
        "(4 > 5) or (3==3)"
      ]
    },
    {
      "cell_type": "code",
      "execution_count": null,
      "metadata": {
        "id": "eZXasovlqmod"
      },
      "outputs": [],
      "source": [
        "# not(True or False) -> False\n",
        "not( 4>5 or 3==3 )"
      ]
    },
    {
      "cell_type": "code",
      "execution_count": null,
      "metadata": {
        "id": "mn7aDhCUqmod"
      },
      "outputs": [],
      "source": [
        "# True and True and False -> False\n",
        "4<5 and 3==3 and 5>5"
      ]
    },
    {
      "cell_type": "code",
      "execution_count": null,
      "metadata": {
        "id": "0sUIP1atqmoe"
      },
      "outputs": [],
      "source": [
        "# True or True or False -> True\n",
        "4<5 or 3==3 or 5>5"
      ]
    },
    {
      "cell_type": "markdown",
      "metadata": {
        "id": "gYcTcduvqmoe"
      },
      "source": [
        "Agora que já sabemos codificar **condições**, podemos de fato construir estruturas condicionais."
      ]
    },
    {
      "cell_type": "markdown",
      "metadata": {
        "id": "S7G2aSI0qmoe"
      },
      "source": [
        "## 2. Construindo Condicionais"
      ]
    },
    {
      "cell_type": "markdown",
      "metadata": {
        "id": "qr-Cvrbsqmoe"
      },
      "source": [
        "Estruturas condicionais podem ter diferentes níveis de complexidade, dependendo do conjunto de condições"
      ]
    },
    {
      "cell_type": "markdown",
      "metadata": {
        "id": "m4x7WUROqmoe"
      },
      "source": [
        "### A construção `if`"
      ]
    },
    {
      "cell_type": "markdown",
      "metadata": {
        "id": "0UeVwo5Cqmoe"
      },
      "source": [
        "A construção `if` é a estrutura mais simples de escrevermos um bloco de código $A$ que somente deve ser executado caso uma determinada condição **seja satisfeita** (ou seja, avaliada como `True`). Caso contrário, o código $A$ é simplesmente ignorado."
      ]
    },
    {
      "cell_type": "code",
      "execution_count": null,
      "metadata": {
        "id": "kv3744ODqmof"
      },
      "outputs": [],
      "source": [
        "cond = True\n",
        "\n",
        "print(\"Antes de chegar na estrutura condicional (sempre executa)\")\n",
        "\n",
        "if cond:\n",
        "    print(\"Executo código A\")\n",
        "\n",
        "print(\"Depois da estrutura condicional (sempre executa)\")"
      ]
    },
    {
      "cell_type": "code",
      "execution_count": null,
      "metadata": {
        "id": "kL73HwuBqmof"
      },
      "outputs": [],
      "source": [
        "cond = False\n",
        "\n",
        "print(\"Antes de chegar na estrutura condicional (sempre executa)\")\n",
        "\n",
        "if cond:\n",
        "    print(\"Executo código A\")\n",
        "\n",
        "print(\"Depois da estrutura condicional (sempre executa)\")"
      ]
    },
    {
      "cell_type": "markdown",
      "metadata": {
        "id": "aHi5uz8iqmof"
      },
      "source": [
        "### A construção `if` `else`"
      ]
    },
    {
      "cell_type": "markdown",
      "metadata": {
        "id": "4yHFFQeNqmog"
      },
      "source": [
        "Um `if` pode ser associado a um `else`, contendo um bloco de código que é executado casa a condição do `if` **não seja satisfeita** (ou seja, avaliada como `False`).\n",
        " "
      ]
    },
    {
      "cell_type": "code",
      "execution_count": null,
      "metadata": {
        "id": "YxUU6zySqmog"
      },
      "outputs": [],
      "source": [
        "cond = True\n",
        "\n",
        "print(\"Antes de chegar na estrutura condicional (sempre executa)\")\n",
        "\n",
        "if cond:\n",
        "    print(\"Executo código A\")\n",
        "else:\n",
        "    print(\"Executo código B\")\n",
        "print(\"Depois da estrutura condicional (sempre executa)\")"
      ]
    },
    {
      "cell_type": "code",
      "execution_count": null,
      "metadata": {
        "id": "NOoK7nxHqmog"
      },
      "outputs": [],
      "source": [
        "cond = False\n",
        "\n",
        "print(\"Antes de chegar na estrutura condicional (sempre executa)\")\n",
        "\n",
        "if cond:\n",
        "    print(\"Executo código A\")\n",
        "else:\n",
        "    print(\"Executo código B\")\n",
        "print(\"Depois da estrutura condicional (sempre executa)\")"
      ]
    },
    {
      "cell_type": "markdown",
      "metadata": {
        "id": "oLo9CQplqmog"
      },
      "source": [
        "As duas construções tratadas acima se baseiam na verificação de apenas uma condição, que dependendo de como for avaliada (`True` ou `False`), desencadeia um dentre dois possíveis comportamentos. \n",
        "Mas e se desejarmos construir uma estrutura condicional que permita **mais do que apenas dois \"caminhos\" diferentes**? \n",
        "Neste caso precisamos verificar mais do que uma única condição."
      ]
    },
    {
      "cell_type": "markdown",
      "metadata": {
        "id": "gwUCUVfjqmoh"
      },
      "source": [
        "### Condicionais aninhadas"
      ]
    },
    {
      "cell_type": "markdown",
      "metadata": {
        "id": "ZnOg4zLgqmoh"
      },
      "source": [
        "A primeira forma de incluir mais mais do que uma condição a ser testada na estrutura condicional é por **aninhamento**. Como resultado, teremos uma estrutura hierárquica, em que a execução de uma segunda condição depende do resultado de uma primeira condição. \n",
        "Não há limites para o número de níveis hierárquicos em uma estrutura condicional, apesar de que muitos níveis hierárquicos podem tornar o código mais difícil de entender.\n",
        "\n",
        "**<span style=\"color:red\">Cuidado!</span>** Em *Python* é fundamental respeitar o nível de indentação dos blocos de código em cada nível hierárquico!"
      ]
    },
    {
      "cell_type": "code",
      "execution_count": null,
      "metadata": {
        "id": "N1CfM-tMqmoh"
      },
      "outputs": [],
      "source": [
        "cond1 = True\n",
        "cond2 = False\n",
        "\n",
        "print(\"Antes de chegar na estrutura condicional (sempre executa)\")\n",
        "\n",
        "if cond1:\n",
        "    print(\"Executo código A. Não importa a cond2\")\n",
        "else:\n",
        "    if cond2:\n",
        "        print(\"Executo código B. A cond1 foi False\")\n",
        "    else:\n",
        "        print(\"Executo código C. A cond1 foi False\")\n",
        "\n",
        "print(\"Depois da estrutura condicional (sempre executa)\")"
      ]
    },
    {
      "cell_type": "code",
      "execution_count": null,
      "metadata": {
        "id": "Na_fTIeeqmoi"
      },
      "outputs": [],
      "source": [
        "cond1 = True\n",
        "cond2 = True\n",
        "\n",
        "print(\"Antes de chegar na estrutura condicional (sempre executa)\")\n",
        "\n",
        "if cond1:\n",
        "    print(\"Executo código A. Não importa a cond2\")\n",
        "else:\n",
        "    if cond2:\n",
        "        print(\"Executo código B. A cond1 foi False\")\n",
        "    else:\n",
        "        print(\"Executo código C. A cond1 foi False\")\n",
        "\n",
        "print(\"Depois da estrutura condicional (sempre executa)\")"
      ]
    },
    {
      "cell_type": "code",
      "execution_count": null,
      "metadata": {
        "id": "eDIljwTUqmoi"
      },
      "outputs": [],
      "source": [
        "cond1 = False\n",
        "cond2 = True\n",
        "\n",
        "print(\"Antes de chegar na estrutura condicional (sempre executa)\")\n",
        "\n",
        "if cond1:\n",
        "    print(\"Executo código A. Não importa a cond2\")\n",
        "else:\n",
        "    if cond2:\n",
        "        print(\"Executo código B. A cond1 foi False\")\n",
        "    else:\n",
        "        print(\"Executo código C. A cond1 foi False\")\n",
        "\n",
        "print(\"Depois da estrutura condicional (sempre executa)\")"
      ]
    },
    {
      "cell_type": "code",
      "execution_count": null,
      "metadata": {
        "id": "nPIGhyK5qmoi"
      },
      "outputs": [],
      "source": [
        "cond1 = False\n",
        "cond2 = False\n",
        "\n",
        "print(\"Antes de chegar na estrutura condicional (sempre executa)\")\n",
        "\n",
        "if cond1:\n",
        "    print(\"Executo código A. Não importa a cond2\")\n",
        "else:\n",
        "    if cond2:\n",
        "        print(\"Executo código B. A cond1 foi False\")\n",
        "    else:\n",
        "        print(\"Executo código C. A cond1 foi False\")\n",
        "\n",
        "print(\"Depois da estrutura condicional (sempre executa)\")"
      ]
    },
    {
      "cell_type": "markdown",
      "metadata": {
        "id": "QkiKF7Erqmoj"
      },
      "source": [
        "### A construção `if` `elif` `else`"
      ]
    },
    {
      "cell_type": "markdown",
      "metadata": {
        "id": "BkUbB2JGqmoj"
      },
      "source": [
        "Uma sequência de vários `if` e `else` aninhados pode inserir muitos níveis de indentação no código, tornando-o confuso. Para evitar este problema, usamos a construção podemos inserir novas condições a serem verificadas usando a palavra `elif`. Pense no `elif` como uma fusão entre um  `else` e um `if`. O `else` no final captura qualquer caso em que nenhuma das condições anteriores foram satisfeitas."
      ]
    },
    {
      "cell_type": "code",
      "execution_count": null,
      "metadata": {
        "id": "Qf8B092Dqmoj"
      },
      "outputs": [],
      "source": [
        "cond1 = False\n",
        "cond2 = False\n",
        "\n",
        "print(\"Antes de chegar na estrutura condicional (sempre executa)\")\n",
        "\n",
        "if cond1:\n",
        "    print(\"Executo código A. Não importa a cond2\")\n",
        "elif cond2:\n",
        "    print(\"Executo código B. A cond1 foi False\")\n",
        "else:\n",
        "    print(\"Executo código C. A cond1 foi False\")\n",
        "\n",
        "print(\"Depois da estrutura condicional (sempre executa)\")"
      ]
    },
    {
      "cell_type": "markdown",
      "metadata": {
        "id": "ghJG-xMKqmok"
      },
      "source": [
        "---"
      ]
    },
    {
      "cell_type": "markdown",
      "metadata": {
        "id": "jcRo-FMIqmol"
      },
      "source": [
        "## Exercícios"
      ]
    },
    {
      "cell_type": "markdown",
      "metadata": {
        "id": "IR1chm8yqmol"
      },
      "source": [
        "**Ex 1.** Verifique se as igualdades abaixo são verdadeiras:"
      ]
    },
    {
      "cell_type": "markdown",
      "metadata": {
        "id": "E_KDjYjSqmon"
      },
      "source": [
        "**(a)** $2 \\times 2.0 = 4$"
      ]
    },
    {
      "cell_type": "code",
      "execution_count": null,
      "metadata": {
        "id": "_4BYTqY0qmon"
      },
      "outputs": [],
      "source": [
        "2*2.0==4"
      ]
    },
    {
      "cell_type": "markdown",
      "metadata": {
        "id": "gMh4kPNfqmoo"
      },
      "source": [
        "**(b)** $2 \\times 3 = 5$"
      ]
    },
    {
      "cell_type": "code",
      "execution_count": null,
      "metadata": {
        "id": "QxghmOXfqmoo"
      },
      "outputs": [],
      "source": [
        "2*3==5"
      ]
    },
    {
      "cell_type": "markdown",
      "metadata": {
        "id": "nJCtqOpnqmoo"
      },
      "source": [
        "**(c)** $4a + 3 = b$, para $a=3$ e $b=15$ (primeiro declare as variáveis `a` e `b`)"
      ]
    },
    {
      "cell_type": "code",
      "execution_count": null,
      "metadata": {
        "id": "TUnceuWVqmop"
      },
      "outputs": [],
      "source": [
        "a=3\n",
        "b=15\n",
        "\n",
        "4*a+3 == b"
      ]
    },
    {
      "cell_type": "markdown",
      "metadata": {
        "id": "_SECOw37qmop"
      },
      "source": [
        "**Ex 2.** Complete o código na célula abaixo para imprimir uma mensagem informando se um aluno foi aprovado ou reprovado em uma disciplina com base em sua nota final. A nota mínima necessária para aprovação é $5$."
      ]
    },
    {
      "cell_type": "code",
      "execution_count": null,
      "metadata": {
        "id": "V_KhIb0kqmop"
      },
      "outputs": [],
      "source": [
        "notaAluno = 5 # insira aqui a nota do aluno\n",
        "\n",
        "if notaAluno >= 5:\n",
        "    print(\"Aprovado! =]\")\n",
        "else:\n",
        "    print(\"Reprovado =(\")"
      ]
    },
    {
      "cell_type": "markdown",
      "metadata": {
        "id": "bYigIKLOqmop"
      },
      "source": [
        "**Ex 3.** Construa uma função que calcule a média final e menção dos alunos com base nas notas das três provas (com pesos de 20% para as duas primeiras e 60% para a terceira). Divida o problema em duas etapas. Primeiro, você deverá calcular a média das provas com os devidos pesos. Depois, atribuir a menção conforme a seguinte regra:\n",
        "\n",
        "$\n",
        "se  \\quad média \\ final \\geq 9 : menção = SS \\\\\n",
        "se \\quad 7 \\leq média \\ final < 9 : menção = MS \\\\ \n",
        "se \\quad 5 \\leq média \\ final < 7 : menção = MM \\\\ \n",
        "se \\quad 3 \\leq média \\ final < 5 : menção = MI \\\\ \n",
        "se \\quad média \\ final < 3 : menção = II \\\\ \n",
        "$"
      ]
    },
    {
      "cell_type": "code",
      "execution_count": null,
      "metadata": {
        "id": "1dc8y1cJqmoq"
      },
      "outputs": [],
      "source": [
        "def calculaMedia(p1,p2,p3):\n",
        "    return p1*0.2 + p2*0.2 + p3*0.6\n",
        "\n",
        "def calculaMencao( p1,p2,p3 ):\n",
        "    media = calculaMedia(p1,p2,p3)\n",
        "    print(\"Média foi\",media)\n",
        "    \n",
        "    if media >= 9:\n",
        "        return \"SS\"\n",
        "    elif media >= 7:\n",
        "        return \"MS\"\n",
        "    elif media >= 5:\n",
        "        return \"MM\"\n",
        "    elif media >= 3:\n",
        "        return \"MI\"\n",
        "    else:\n",
        "        return \"II\""
      ]
    },
    {
      "cell_type": "code",
      "execution_count": null,
      "metadata": {
        "id": "iGBY3Dimqmoq"
      },
      "outputs": [],
      "source": [
        "calculaMencao(3,2,3)"
      ]
    },
    {
      "cell_type": "code",
      "execution_count": null,
      "metadata": {
        "id": "RkufsERrqmoq"
      },
      "outputs": [],
      "source": [
        "calculaMencao(3,3,4)"
      ]
    },
    {
      "cell_type": "code",
      "execution_count": null,
      "metadata": {
        "id": "B2ESlcNeqmoq"
      },
      "outputs": [],
      "source": [
        "calculaMencao(3,3,7)"
      ]
    },
    {
      "cell_type": "code",
      "execution_count": null,
      "metadata": {
        "id": "W3HpnrChqmoq"
      },
      "outputs": [],
      "source": [
        "calculaMencao(7,8,10)"
      ]
    },
    {
      "cell_type": "markdown",
      "metadata": {
        "id": "NKQshp6uqmoq"
      },
      "source": [
        "**Ex 4.** Construa uma pequena **chave dicotômica** para identificar uma determinada planta como membro de um dos principais grupos: *Bryophyta*, *Pteridophyta*, *Gymnospermae* ou *Angiospermae*.\n",
        "A identificação se dá com base na presença (1) ou ausência (0) de três caracteres: **vascularização**, **sementes** e **flores**. \n",
        "Utilize a tabela abaixo como referência."
      ]
    },
    {
      "cell_type": "markdown",
      "metadata": {
        "id": "5UNKzxtPqmor"
      },
      "source": [
        "| Grupo | Vascularização| Sementes| Flores |\n",
        "|--|--|--|--|\n",
        "| Bryophyta | 0 | 0 | 0 |\n",
        "| Pteridophyta | 1| 0 | 0 |\n",
        "| Gymnospermae | 1 | 1 | 0 |\n",
        "| Angiospermae | 1 | 1 | 1 |\n"
      ]
    },
    {
      "cell_type": "code",
      "execution_count": null,
      "metadata": {
        "id": "vHMMJFTiqmor"
      },
      "outputs": [],
      "source": [
        "# Estas variáveis armazenam a presença (1) ou ausência (0) de cada caractere\n",
        "vasc = 1\n",
        "sem = 1\n",
        "flor = 0\n",
        "\n",
        "if vasc==0 and sem==0 and flor==0:\n",
        "    print(\"Bryophyta\")\n",
        "elif vasc==1 and sem==0 and flor==0:\n",
        "    print(\"Pteridophyta\")\n",
        "elif vasc==1 and sem==1 and flor==0:\n",
        "    print(\"Gymnospermae\")\n",
        "elif vasc==1 and sem==1 and flor==1:\n",
        "    print(\"Angiospermae\")\n",
        "else:\n",
        "    print(\"Não há plantas com estas características\")"
      ]
    },
    {
      "cell_type": "markdown",
      "metadata": {
        "id": "_5wSKuLIqmor"
      },
      "source": [
        "**Ex 5.** Encapsule o código que você construiu no exercício anterior. Para isso, construa uma função de nome `chave`, que recebe como argumentos cada um dos caracteres e retorna o nome do devido grupo botânico."
      ]
    },
    {
      "cell_type": "code",
      "execution_count": null,
      "metadata": {
        "id": "Af9ira3lqmor"
      },
      "outputs": [],
      "source": [
        "def chave(vasc, sem, flor):\n",
        "    if vasc==0 and sem==0 and flor==0:\n",
        "        return \"Bryophyta\"\n",
        "    elif vasc==1 and sem==0 and flor==0:\n",
        "        return \"Pteridophyta\"\n",
        "    elif vasc==1 and sem==1 and flor==0:\n",
        "        return \"Gymnospermae\"\n",
        "    elif vasc==1 and sem==1 and flor==1:\n",
        "        return \"Angiospermae\"\n",
        "    else:\n",
        "        print(\"Não há plantas com estas características\")\n",
        "        return\n",
        "    return"
      ]
    },
    {
      "cell_type": "code",
      "execution_count": null,
      "metadata": {
        "id": "66MEvWYjqmor"
      },
      "outputs": [],
      "source": [
        "chave(vasc=0, sem=0, flor=0)"
      ]
    },
    {
      "cell_type": "code",
      "execution_count": null,
      "metadata": {
        "id": "MDyU2t5-qmor"
      },
      "outputs": [],
      "source": [
        "chave(vasc=1, sem=0, flor=0)"
      ]
    },
    {
      "cell_type": "code",
      "execution_count": null,
      "metadata": {
        "id": "5eeB4pKyqmos"
      },
      "outputs": [],
      "source": [
        "chave(vasc=1, sem=1, flor=0)"
      ]
    },
    {
      "cell_type": "code",
      "execution_count": null,
      "metadata": {
        "id": "3TmggcOgqmos"
      },
      "outputs": [],
      "source": [
        "chave(vasc=1, sem=1, flor=1)"
      ]
    },
    {
      "cell_type": "code",
      "execution_count": null,
      "metadata": {
        "id": "RDJgzVH1qmos"
      },
      "outputs": [],
      "source": [
        "chave(vasc=0, sem=1, flor=0)"
      ]
    }
  ],
  "metadata": {
    "kernelspec": {
      "display_name": "Python 3",
      "language": "python",
      "name": "python3"
    },
    "language_info": {
      "codemirror_mode": {
        "name": "ipython",
        "version": 3
      },
      "file_extension": ".py",
      "mimetype": "text/x-python",
      "name": "python",
      "nbconvert_exporter": "python",
      "pygments_lexer": "ipython3",
      "version": "3.6.5"
    },
    "toc": {
      "base_numbering": 1,
      "nav_menu": {},
      "number_sections": false,
      "sideBar": true,
      "skip_h1_title": false,
      "title_cell": "Table of Contents",
      "title_sidebar": "Contents",
      "toc_cell": false,
      "toc_position": {},
      "toc_section_display": true,
      "toc_window_display": false
    },
    "colab": {
      "name": "roteiro3.ipynb",
      "provenance": [],
      "include_colab_link": true
    }
  },
  "nbformat": 4,
  "nbformat_minor": 0
}