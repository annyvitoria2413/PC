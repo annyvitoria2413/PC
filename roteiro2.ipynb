{
  "cells": [
    {
      "cell_type": "markdown",
      "metadata": {
        "id": "view-in-github",
        "colab_type": "text"
      },
      "source": [
        "<a href=\"https://colab.research.google.com/github/lomurta/PC/blob/main/roteiro2.ipynb\" target=\"_parent\"><img src=\"https://colab.research.google.com/assets/colab-badge.svg\" alt=\"Open In Colab\"/></a>"
      ]
    },
    {
      "cell_type": "markdown",
      "metadata": {
        "id": "4qGTj0RdExya"
      },
      "source": [
        "## <center>Introdução ao Python</center>\n",
        "---\n",
        "## <center>Roteiro 2. Funções</center>\n"
      ]
    },
    {
      "cell_type": "markdown",
      "metadata": {
        "id": "yFDTqU5pExyl"
      },
      "source": [
        "### Objetivos.\n",
        "\n",
        "Após este roteiro você deverá ser capaz de:\n",
        "* **Definir** e **executar** funções;\n",
        "* Delimitar o **escopo** de uma função;\n",
        "* Reutilizar funcionalidades distribuídas em **pacotes** pela comunidade *Python*."
      ]
    },
    {
      "cell_type": "markdown",
      "metadata": {
        "id": "edbRy_zbExym"
      },
      "source": [
        "## 1. Definindo uma nova função"
      ]
    },
    {
      "cell_type": "markdown",
      "metadata": {
        "id": "ZDk4Z3juExyn"
      },
      "source": [
        "Para definir uma nova função precisamos obedecer à seguinte sintaxe:\n",
        "* a palavra `def` indica que uma nova função está sendo definida;\n",
        "* após `def`, deve ser escrito o **nome** da função;\n",
        "* após o nome da função, entre parênteses, os **parâmetros** são separados por vírgulas;\n",
        "* Os dois pontos `:` após os parênteses indica que o **corpo** da função vem a seguir, no bloco de código abaixo;\n",
        "* O bloco de código deve ser escrito com uma **indentação**, o distanciamento em relação à margem esquerda da célula;\n",
        "* No fim do corpo da função, o valor de saída (*output*) é indicado após a palavra `return`."
      ]
    },
    {
      "cell_type": "markdown",
      "metadata": {
        "id": "quY_SwGhExyo"
      },
      "source": [
        "Para ilustrar, vamos construir uma nova função, batizada com o nome `foo` (poderia ser qualquer outro nome, tipo `dinossauro`). Ela simplesmente deve imprimir no console os valores que passamos em cada um dos parâmetros e, no fim, retornar como *output* o valor $1$."
      ]
    },
    {
      "cell_type": "code",
      "execution_count": null,
      "metadata": {
        "id": "f5HPNfJuExyp"
      },
      "outputs": [],
      "source": [
        "def foo(par1, par2):\n",
        "    print(par1)\n",
        "    print(par2)\n",
        "    return 1"
      ]
    },
    {
      "cell_type": "markdown",
      "metadata": {
        "id": "0hkg-9ALExyq"
      },
      "source": [
        "Uma vez definida, a função fica guardada na memória, mas não é automaticamente executada. Para de fato executá-la, precisamos **chamá-la**, escrevendo seu nome e passando argumentos no lugar dos parâmetros, entre parênteses."
      ]
    },
    {
      "cell_type": "code",
      "execution_count": null,
      "metadata": {
        "id": "bCWhnL7uExyq"
      },
      "outputs": [],
      "source": [
        "foo(\"Santos\", \"Dumont\")"
      ]
    },
    {
      "cell_type": "markdown",
      "metadata": {
        "id": "WlcrOHsjExyr"
      },
      "source": [
        "Vamos definir agora uma função chamada `funcaoSoma`, que simplesmente soma dois números e retorna o resultado. Ela possui os parâmetros `n1` e `n2`, que esperam receber como valores (ou argumentos) dois valores numéricos. "
      ]
    },
    {
      "cell_type": "code",
      "execution_count": null,
      "metadata": {
        "id": "lp0lCRkiExyr"
      },
      "outputs": [],
      "source": [
        "def funcaoSoma(n1,n2):\n",
        "    res = n1 + n2\n",
        "    return res"
      ]
    },
    {
      "cell_type": "code",
      "execution_count": null,
      "metadata": {
        "id": "jrUjRczVExys"
      },
      "outputs": [],
      "source": [
        "funcaoSoma(3,5)"
      ]
    },
    {
      "cell_type": "code",
      "execution_count": null,
      "metadata": {
        "id": "Z7Uo9JqjExys"
      },
      "outputs": [],
      "source": [
        "funcaoSoma(-3,23)"
      ]
    },
    {
      "cell_type": "code",
      "execution_count": null,
      "metadata": {
        "id": "77HSDcbeExyt"
      },
      "outputs": [],
      "source": [
        "funcaoSoma(42,0)"
      ]
    },
    {
      "cell_type": "markdown",
      "metadata": {
        "id": "wNDYNm06Exyt"
      },
      "source": [
        "Podemos também armazenar o resultado de funções em variáveis! Vamos declarar as variáveis `a`, `b`, `c` e `d`, com quaisquer valores numéricos. Em seguida, usaremos a função `funcaoSoma` para somar `a` e `b` e armazene o resultado em uma variável `a_b`. Depois, usaremos novamente a função `funcaoSoma` para somar `c` e `d` e armazene o resultado em uma variável `c_d`. Finalmente, somaremos os valores em `a_b` e `c_d` usando a mesma `funcaoSoma`, armazenando o resultado final em uma variável `resFinal`."
      ]
    },
    {
      "cell_type": "code",
      "execution_count": null,
      "metadata": {
        "id": "F0JTw2U_Exyu"
      },
      "outputs": [],
      "source": [
        "a = 3\n",
        "b = 5\n",
        "c = 9\n",
        "d = 11\n",
        "\n",
        "a_b = funcaoSoma(a,b)\n",
        "c_d = funcaoSoma(c,d)\n",
        "\n",
        "resFinal = funcaoSoma( a_b, c_d )\n",
        "\n",
        "resFinal"
      ]
    },
    {
      "cell_type": "markdown",
      "metadata": {
        "id": "686lyL4QExyu"
      },
      "source": [
        "Podemos também passar resultados de funções como argumentos para outras funções, sem precisar utilizar variáveis intermediárias! Podemos, por exemplo, realizar as mesmas computações da célula acima sem precisar declarar `a_b` e `c_d`."
      ]
    },
    {
      "cell_type": "code",
      "execution_count": null,
      "metadata": {
        "id": "ruXXgCZ-Exyu"
      },
      "outputs": [],
      "source": [
        "a = 3\n",
        "b = 5\n",
        "c = 9\n",
        "d = 11\n",
        "\n",
        "resFinal = funcaoSoma( funcaoSoma(a,b), funcaoSoma(c,d) )\n",
        "\n",
        "resFinal"
      ]
    },
    {
      "cell_type": "markdown",
      "metadata": {
        "id": "T_5H_6fRExyv"
      },
      "source": [
        "## 2. Escopo de funções"
      ]
    },
    {
      "cell_type": "markdown",
      "metadata": {
        "id": "i9FQD1cgExyv"
      },
      "source": [
        "Funções operam em um \"contexto\" próprio. \n",
        "É como se criássemos uma \"bolha\" toda vez que executamos uma função. Tudo o que está dentro desta bolha não é visível de fora dela, mas todo o conteúdo que está fora dela é visível de dentro.\n",
        "Nos referimos ao contexto de \"dentro da bolha\" como o **escopo local** da função, e tudo o que está fora como o **escopo global**.\n",
        "\n",
        "Sendo assim, uma funçao \"enxerga\" todas as variáveis em escopo local, ou seja, aquelas que são definidas dentro dela própria (incluindo os parâmetros); e as variáveis em escopo global, definidas fora dela.\n",
        "No entanto, variáveis locais, definidas dentro de funções, não são visíveis de fora delas!"
      ]
    },
    {
      "cell_type": "code",
      "execution_count": null,
      "metadata": {
        "id": "M5pUArjeExyv"
      },
      "outputs": [],
      "source": [
        "a = 3\n",
        "print(\"Variável a ANTES da execução da função:\",a)\n",
        "\n",
        "b = 5\n",
        "print(\"Variável b ANTES da execução da função:\",b)\n",
        "\n",
        "def foo(): # A função é apenas definida aqui\n",
        "    a = 7\n",
        "    print(\"Variável a DENTRO da função foo:\",a)\n",
        "    print(\"Variável b DENTRO da função foo:\",b)\n",
        "    m = 11\n",
        "    print(\"Variável m DENTRO da função foo:\",m)\n",
        "    \n",
        "print('---')\n",
        "foo() # A função apenas é de fato executada aqui\n",
        "print('---')\n",
        "\n",
        "print(\"Variável a APÓS a execução da função\",a)\n",
        "print(\"Variável b APÓS da execução da função:\",b)\n",
        "print(\"Variável m\",m)"
      ]
    },
    {
      "cell_type": "markdown",
      "metadata": {
        "id": "ChQdod2NExyw"
      },
      "source": [
        "**Obs:** Um mesmo nome pode ser dado para variáveis em escopos diferentes (que podem conter valores diferentes)! Nestes casos, a variável que foi definida em escopo local prevalece sobre a global."
      ]
    },
    {
      "cell_type": "markdown",
      "metadata": {
        "id": "mViKpyRWExyw"
      },
      "source": [
        "## 3. Reutilizando funcionalidades"
      ]
    },
    {
      "cell_type": "markdown",
      "metadata": {
        "id": "S-gRR-ktExyw"
      },
      "source": [
        "O segredo para um bom desempenho como programador é jamais reinventar a roda! Sempre que possível, devemos buscar reutilizar código que já foi escrito por outros programadores. \n",
        "**Pacotes** são uma forma eficiente usada pelos programadores para estruturar e compartilhar seu código com a comunidade, sendo criados com o intuito de entregar aos usuários um conjunto de funcionalidades. \n",
        "O código dentro de um pacote é organizado em **módulos**, cada qual contendo um conjunto de funções e variáveis que implementam funcionalidades mais específicas.\n",
        "\n",
        "<img src=\"img/package_module.jpg\">"
      ]
    },
    {
      "cell_type": "markdown",
      "metadata": {
        "id": "CnDRs7UVExyw"
      },
      "source": [
        "Veja uma lista de pacotes potencialmente interessantes para um biólogo:\n",
        "* [Biopython](http://biopython.org/) com funcionalidades específicas para aplicações em biologia molecular computacional, na **bioinformática**;\n",
        "* [Numpy](http://www.numpy.org/) para computação científica, com representações e operações otimizadas sobre objetos matemáticos;\n",
        "* [Pandas](http://pandas.pydata.org/) para representação de *Data frames* e análise de dados;\n",
        "* [Matplotlib](https://matplotlib.org/) para construção de figuras (visualização de dados);\n",
        "* [Statsmodels](http://www.statsmodels.org/stable/index.html) para trabalhar com modelos estatísticos;\n",
        "* [ScikitLearn](http://scikit-learn.org/stable/) para trabalhar com algoritmos de aprendizado de máquina;\n",
        "* [Networkx](https://networkx.github.io/) para construir modelos em redes complexas;\n",
        "* [ArcPy](http://desktop.arcgis.com/en/arcmap/10.3/analyze/arcpy/what-is-arcpy-.htm) é um pacote para automação de tarefas de análise e geração de mapas em ArcGis;\n",
        "* [Matplotlib Basemap](https://matplotlib.org/basemap/) é um conjunto de ferramentas para plotar mapas em python, utilizando como base a *Matplotlib*;\n",
        "* [Pygbif](http://pygbif.readthedocs.io/en/latest/) é um cliente *Python* que facilita o acesso a dados de ocorrência de espécies no [GBIF](https://www.gbif.org/) (Global Biodiversity Information Facility)."
      ]
    },
    {
      "cell_type": "markdown",
      "metadata": {
        "id": "P0VQ5zfDExyw"
      },
      "source": [
        "Em *Python*, existem algumas funções que são carregadas com a inicialização do interpretador, por serem utilizadas de forma mais ampla pelos programadores. Alguns exemplos são as funções `print`, `type`, `range` e `open`. \n",
        "Outras, no entanto, são mais específicas e portanto não são carregadas automaticamente.\n",
        "Usamos a palavra `import` para carregar um pacote ou módulo."
      ]
    },
    {
      "cell_type": "markdown",
      "metadata": {
        "id": "NWG497jsExyx"
      },
      "source": [
        "O módulo `math`, por exemplo, reúne um conjunto de funções e constantes que facilitam muito trabalhar com elementos da matemática. Estas funções não são carregadas automaticamente, e portanto devemos **importar o módulo** para utilizá-las.\n",
        "Vamos carregar o módulo `math` e, em seguida, executar a função `factorial` provida por ele. Conforme podemos consultar na documentação, esta função espera um número como *input* e retorna seu fatorial, como *output*."
      ]
    },
    {
      "cell_type": "code",
      "execution_count": null,
      "metadata": {
        "id": "y01GUnSYExyx"
      },
      "outputs": [],
      "source": [
        "import math\n",
        "\n",
        "print(\"Fatorial de 1:\",math.factorial(1))\n",
        "print(\"Fatorial de 2:\",math.factorial(2))\n",
        "print(\"Fatorial de 3:\",math.factorial(3))\n",
        "print(\"Fatorial de 10:\",math.factorial(10))"
      ]
    },
    {
      "cell_type": "markdown",
      "metadata": {
        "id": "UOXII0KuExyx"
      },
      "source": [
        "---"
      ]
    },
    {
      "cell_type": "markdown",
      "metadata": {
        "id": "1E_u84RaExyy"
      },
      "source": [
        "## Exercícios"
      ]
    },
    {
      "cell_type": "markdown",
      "metadata": {
        "id": "yGGXKiVPExyy"
      },
      "source": [
        "**Ex 1.** Defina uma função `calculaMedia`, que calcula a média entre **três** números quaisquer. Em seguida, execute sua função com valores diferentes. O que acontece se você definir a função com três parâmetros mas passar um número diferente de argumentos?"
      ]
    },
    {
      "cell_type": "code",
      "execution_count": null,
      "metadata": {
        "id": "A1I_Zv6KExyy"
      },
      "outputs": [],
      "source": [
        "def calculaMedia(n1,n2,n3):\n",
        "    res = (n1+n2+n3)/3\n",
        "    return res"
      ]
    },
    {
      "cell_type": "code",
      "execution_count": null,
      "metadata": {
        "id": "X9zPXoX9Exyy"
      },
      "outputs": [],
      "source": [
        "calculaMedia(1,3,5)"
      ]
    },
    {
      "cell_type": "code",
      "execution_count": null,
      "metadata": {
        "id": "_ManoUWKExyz"
      },
      "outputs": [],
      "source": [
        "calculaMedia(1,2,5)"
      ]
    },
    {
      "cell_type": "code",
      "execution_count": null,
      "metadata": {
        "id": "BfOebIwUExyz"
      },
      "outputs": [],
      "source": [
        "# Este código vai gerar um erro: A função esperava três argumentos mas nós só passamos 2\n",
        "calculaMedia(1,5)"
      ]
    },
    {
      "cell_type": "markdown",
      "metadata": {
        "id": "E8L_SN7iExy0"
      },
      "source": [
        "**Ex 2.** Defina uma função `multiplica`, que multiplica dois números quaisquer. Em seguida, declare as variáveis `a`, `b` e `c` com quaisquer valores numéricos. Multiplique `a` e `b` utilizando a função `multiplica` e, em seguida, execute novamente a função `multiplica` para multiplicar o resultado do passo anterior pelo número em `c`."
      ]
    },
    {
      "cell_type": "code",
      "execution_count": null,
      "metadata": {
        "id": "IUAUnXUkExy0"
      },
      "outputs": [],
      "source": [
        "def multiplica(n1,n2):\n",
        "    return n1*n2"
      ]
    },
    {
      "cell_type": "code",
      "execution_count": null,
      "metadata": {
        "id": "TjOR0IJEExy0"
      },
      "outputs": [],
      "source": [
        "a=3\n",
        "b=5\n",
        "c=7\n",
        "\n",
        "multiplica( multiplica(a,b), c)"
      ]
    },
    {
      "cell_type": "markdown",
      "metadata": {
        "id": "78P8riIBExy0"
      },
      "source": [
        "**Ex 3.** A função `exponencia` abaixo deve realizar uma exponenciação do número `n1` à potência `n2`. Mas ao executar a célula para definir a função recebemos uma mensagem de erro. Corrija o código e experimente executar a função com alguns pares de números."
      ]
    },
    {
      "cell_type": "code",
      "execution_count": null,
      "metadata": {
        "id": "etBDcDG3Exy0"
      },
      "outputs": [],
      "source": [
        "def exponencia(n1,n2):\n",
        "    return n1**n2"
      ]
    },
    {
      "cell_type": "code",
      "execution_count": null,
      "metadata": {
        "id": "Jb-H__z1Exy0"
      },
      "outputs": [],
      "source": [
        "exponencia(2,3)"
      ]
    },
    {
      "cell_type": "code",
      "execution_count": null,
      "metadata": {
        "id": "4IbLo2DZExy1"
      },
      "outputs": [],
      "source": [
        "exponencia(5,2)"
      ]
    },
    {
      "cell_type": "markdown",
      "metadata": {
        "id": "bwNT-fxFExy1"
      },
      "source": [
        "**Ex 4.** A função `mensagemMeuNome` abaixo deveria receber como argumento o seu nome, imprimir uma mensagem com ele e, por fim, retornar o seu nome como *output*. No entanto, existe um *bug*. Você consegue identificá-lo e corrigí-lo? "
      ]
    },
    {
      "cell_type": "code",
      "execution_count": null,
      "metadata": {
        "id": "s6LMQmRbExy1"
      },
      "outputs": [],
      "source": [
        "nome = \"Luke Skywalker\"\n",
        "\n",
        "def mensagemMeuNome( meuNome ):\n",
        "    print(\"Olá! Me chamo\", meuNome)\n",
        "    return meuNome\n",
        "\n",
        "mensagemMeuNome(\"Pedro\") # insira seu nome entre parênteses"
      ]
    },
    {
      "cell_type": "markdown",
      "metadata": {
        "id": "HbXL9wW4Exy1"
      },
      "source": [
        "**Ex 5.** A função `type` é automaticamente carregada com a inicialização do interpretador *Python*. Você consegue descobrir o que ela faz? Experimente passar diferentes tipos de dados."
      ]
    },
    {
      "cell_type": "code",
      "execution_count": null,
      "metadata": {
        "id": "IqXcQw2ZExy1"
      },
      "outputs": [],
      "source": [
        "# A função type retorna o tipo do valor passado como argumento\n",
        "print(\"Tipo de 'Algum texto':\", type(\"Algum texto\") )\n",
        "print( \"Tipo de 43:\",type(43) )\n",
        "print( \"Tipo de True:\", type(True) )\n",
        "print( \"Tipo de 32.21:\", type(32.21) )"
      ]
    }
  ],
  "metadata": {
    "kernelspec": {
      "display_name": "Python 3",
      "language": "python",
      "name": "python3"
    },
    "language_info": {
      "codemirror_mode": {
        "name": "ipython",
        "version": 3
      },
      "file_extension": ".py",
      "mimetype": "text/x-python",
      "name": "python",
      "nbconvert_exporter": "python",
      "pygments_lexer": "ipython3",
      "version": "3.6.5"
    },
    "toc": {
      "base_numbering": 1,
      "nav_menu": {},
      "number_sections": false,
      "sideBar": true,
      "skip_h1_title": false,
      "title_cell": "Table of Contents",
      "title_sidebar": "Contents",
      "toc_cell": false,
      "toc_position": {},
      "toc_section_display": true,
      "toc_window_display": false
    },
    "colab": {
      "name": "roteiro2.ipynb",
      "provenance": [],
      "include_colab_link": true
    }
  },
  "nbformat": 4,
  "nbformat_minor": 0
}