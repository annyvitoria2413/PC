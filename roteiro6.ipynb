{
  "cells": [
    {
      "attachments": {},
      "cell_type": "markdown",
      "metadata": {},
      "source": [
        "## <center>Programação de Computadores</center>\n",
        "###  <center>Física Médica</center>\n",
        "---\n",
        "## <center>Aula 6. Variáveis compostas homogêneas e Numpy</center>"
      ]
    },
    {
      "attachments": {},
      "cell_type": "markdown",
      "metadata": {
        "id": "5eNk0Ma2E-V_"
      },
      "source": [
        "## NumPy\n",
        "--------------------------------------"
      ]
    },
    {
      "attachments": {},
      "cell_type": "markdown",
      "metadata": {
        "id": "cmqPERuUE-WA"
      },
      "source": [
        "### O que é?\n",
        "\n",
        "É um pacote fundamental para aplicações de computação científica em Python. Com ele, o desenvolvedor é capaz de:\n",
        "\n",
        "* Montar objetos matriciais N-dimensionais e objetos derivados desses;\n",
        "* Realizar operações eficientes de Álgebra Linear computacional;\n",
        "* Operações básicas de Estatística;\n",
        "* Utilizar geração de números pseudo-aleatórios;\n",
        "* Operações vetorizadas;\n",
        "* Integrar com códigos em C/C++ e Fortran;\n",
        "\n",
        "E muito mais!"
      ]
    },
    {
      "attachments": {},
      "cell_type": "markdown",
      "metadata": {
        "id": "HG3V6E_mE-WA"
      },
      "source": [
        "### Conceitos básicos"
      ]
    },
    {
      "attachments": {},
      "cell_type": "markdown",
      "metadata": {
        "id": "YQytkW09E-WB"
      },
      "source": [
        "#### Importando o pacote"
      ]
    },
    {
      "cell_type": "code",
      "execution_count": null,
      "metadata": {
        "id": "jBBt5BneE-WB"
      },
      "outputs": [],
      "source": [
        "import numpy as np"
      ]
    },
    {
      "attachments": {},
      "cell_type": "markdown",
      "metadata": {
        "id": "jqjQuYwzE-WB"
      },
      "source": [
        "#### Tipo básico: `numpy.ndarray`"
      ]
    },
    {
      "attachments": {},
      "cell_type": "markdown",
      "metadata": {
        "id": "dWfwOCIiE-WC"
      },
      "source": [
        "O tipo básico da `numpy` é o `numpy.ndarray`, o quão chamaremos aqui frequentemente de \"array\"."
      ]
    },
    {
      "attachments": {},
      "cell_type": "markdown",
      "metadata": {
        "id": "DyAFgO6gE-WC"
      },
      "source": [
        "##### Inicializando"
      ]
    },
    {
      "attachments": {},
      "cell_type": "markdown",
      "metadata": {
        "id": "yjd9LIAmE-WC"
      },
      "source": [
        "Um simples vetor:"
      ]
    },
    {
      "cell_type": "code",
      "execution_count": null,
      "metadata": {
        "id": "J-5ebugoE-WD",
        "outputId": "4c1f8ab4-48d1-4724-cb0d-1df609000086"
      },
      "outputs": [
        {
          "data": {
            "text/plain": [
              "array([1., 2., 3.])"
            ]
          },
          "execution_count": 3,
          "metadata": {},
          "output_type": "execute_result"
        }
      ],
      "source": [
        "array1 = np.array([1., 2., 3.])\n",
        "\n",
        "array1"
      ]
    },
    {
      "attachments": {},
      "cell_type": "markdown",
      "metadata": {
        "id": "JatoHeiRE-WD"
      },
      "source": [
        "Uma matriz:"
      ]
    },
    {
      "cell_type": "code",
      "execution_count": null,
      "metadata": {
        "id": "G1onvgaqE-WE",
        "outputId": "fbab7704-70f8-49ed-f73f-48f0ba1d8393"
      },
      "outputs": [
        {
          "data": {
            "text/plain": [
              "array([[1., 2., 3.],\n",
              "       [4., 5., 6.],\n",
              "       [7., 8., 9.]])"
            ]
          },
          "execution_count": 4,
          "metadata": {},
          "output_type": "execute_result"
        }
      ],
      "source": [
        "matrix1 = np.array(\n",
        "    [[1., 2., 3.],\n",
        "     [4., 5., 6.],\n",
        "     [7., 8., 9.]]\n",
        ")\n",
        "\n",
        "matrix1"
      ]
    },
    {
      "attachments": {},
      "cell_type": "markdown",
      "metadata": {
        "id": "aYE87r_tE-WG"
      },
      "source": [
        "Note que a matriz nada mais é que um array de arrays.\n",
        "\n",
        "Ao longo do curso, veremos outras formas de inicializar arrays."
      ]
    },
    {
      "attachments": {},
      "cell_type": "markdown",
      "metadata": {
        "id": "OFopnhJEE-WG"
      },
      "source": [
        "**Atenção!!!**\n",
        "\n",
        "A entrada para a criação de arrays deve ser listas ou tuplas:"
      ]
    },
    {
      "cell_type": "code",
      "execution_count": null,
      "metadata": {
        "id": "qVnTUMMVE-WG",
        "outputId": "1f9ec34e-7694-4284-c119-4a10cff7dd27"
      },
      "outputs": [
        {
          "data": {
            "text/plain": [
              "array([1, 2, 3])"
            ]
          },
          "execution_count": 5,
          "metadata": {},
          "output_type": "execute_result"
        }
      ],
      "source": [
        "array_tuple = np.array((1, 2, 3))\n",
        "\n",
        "array_tuple"
      ]
    },
    {
      "cell_type": "code",
      "execution_count": null,
      "metadata": {
        "id": "6IognxcvE-WH",
        "outputId": "584e00bd-d3ab-4ebd-b21a-bc1ada4b0a45"
      },
      "outputs": [
        {
          "data": {
            "text/plain": [
              "array([[1, 2, 3],\n",
              "       [4, 5, 6]])"
            ]
          },
          "execution_count": 6,
          "metadata": {},
          "output_type": "execute_result"
        }
      ],
      "source": [
        "matrix_mixed = np.array(\n",
        "    [(1, 2, 3),\n",
        "    [4, 5, 6]]\n",
        ")\n",
        "\n",
        "matrix_mixed"
      ]
    },
    {
      "attachments": {},
      "cell_type": "markdown",
      "metadata": {
        "id": "VVfshikuE-WI"
      },
      "source": [
        "##### Inicializando arrays preenchidos com zeros ou um"
      ]
    },
    {
      "attachments": {},
      "cell_type": "markdown",
      "metadata": {
        "id": "shSf1Lj2E-WJ"
      },
      "source": [
        "Em algumas situações, já são conhecidas as demandas e estruturas dos arrays que vão ser utilizados. Neste caso, o numpy oferece funções para criar arrays preenchidos com zeros ou um."
      ]
    },
    {
      "attachments": {},
      "cell_type": "markdown",
      "metadata": {
        "id": "zMlTRo8gE-WJ"
      },
      "source": [
        "* Vetor"
      ]
    },
    {
      "cell_type": "code",
      "execution_count": null,
      "metadata": {
        "id": "-RB0ecgZE-WK",
        "outputId": "bb9f5b3d-552f-42a6-a75f-af9985a0fd89"
      },
      "outputs": [
        {
          "data": {
            "text/plain": [
              "array([0., 0., 0.])"
            ]
          },
          "execution_count": 7,
          "metadata": {},
          "output_type": "execute_result"
        }
      ],
      "source": [
        "array_zeros = np.zeros(3)\n",
        "array_zeros"
      ]
    },
    {
      "attachments": {},
      "cell_type": "markdown",
      "metadata": {
        "id": "8AtfKBwFE-WL"
      },
      "source": [
        "* Matriz"
      ]
    },
    {
      "cell_type": "code",
      "execution_count": null,
      "metadata": {
        "id": "U89Ld6M6E-WM",
        "outputId": "394cce3b-9895-4cce-a3e6-46c0eaeb5b3b"
      },
      "outputs": [
        {
          "data": {
            "text/plain": [
              "array([[0., 0., 0., 0.],\n",
              "       [0., 0., 0., 0.],\n",
              "       [0., 0., 0., 0.],\n",
              "       [0., 0., 0., 0.]])"
            ]
          },
          "execution_count": 8,
          "metadata": {},
          "output_type": "execute_result"
        }
      ],
      "source": [
        "shape = (4, 4)\n",
        "matrix_zeros = np.zeros(shape)\n",
        "matrix_zeros"
      ]
    },
    {
      "attachments": {},
      "cell_type": "markdown",
      "metadata": {
        "id": "1LVhtKBJE-WN"
      },
      "source": [
        "Analogamente, podemos fazer com valor unitário."
      ]
    },
    {
      "attachments": {},
      "cell_type": "markdown",
      "metadata": {
        "id": "ZwSQRxc1E-WN"
      },
      "source": [
        "* Vetor"
      ]
    },
    {
      "cell_type": "code",
      "execution_count": null,
      "metadata": {
        "id": "griKC_VNE-WN",
        "outputId": "ed0cc72a-790a-4c71-9549-899114e1a090"
      },
      "outputs": [
        {
          "data": {
            "text/plain": [
              "array([1., 1., 1.])"
            ]
          },
          "execution_count": 9,
          "metadata": {},
          "output_type": "execute_result"
        }
      ],
      "source": [
        "array_ones = np.ones(3)\n",
        "array_ones"
      ]
    },
    {
      "attachments": {},
      "cell_type": "markdown",
      "metadata": {
        "id": "tv8MzY3lE-WO"
      },
      "source": [
        "* Matriz"
      ]
    },
    {
      "cell_type": "code",
      "execution_count": null,
      "metadata": {
        "id": "SxWxGcrtE-WO",
        "outputId": "69e6d44d-beb7-43e7-a411-e8dafb9c5755"
      },
      "outputs": [
        {
          "data": {
            "text/plain": [
              "array([[1., 1., 1., 1.],\n",
              "       [1., 1., 1., 1.],\n",
              "       [1., 1., 1., 1.],\n",
              "       [1., 1., 1., 1.]])"
            ]
          },
          "execution_count": 10,
          "metadata": {},
          "output_type": "execute_result"
        }
      ],
      "source": [
        "shape = (4, 4)\n",
        "matrix_ones = np.ones(shape)\n",
        "matrix_ones"
      ]
    },
    {
      "attachments": {},
      "cell_type": "markdown",
      "metadata": {
        "id": "A2m8VxR3E-WO"
      },
      "source": [
        "##### Atributos básicos"
      ]
    },
    {
      "attachments": {},
      "cell_type": "markdown",
      "metadata": {
        "id": "ebiUtmYcE-Wa"
      },
      "source": [
        "* Número de eixos (axes) do array:"
      ]
    },
    {
      "cell_type": "code",
      "execution_count": null,
      "metadata": {
        "id": "BHwdywhdE-Wb",
        "outputId": "161f5c1d-5b22-4c9e-91ef-2395625ed3b2"
      },
      "outputs": [
        {
          "data": {
            "text/plain": [
              "1"
            ]
          },
          "execution_count": 11,
          "metadata": {},
          "output_type": "execute_result"
        }
      ],
      "source": [
        "array1.ndim"
      ]
    },
    {
      "cell_type": "code",
      "execution_count": null,
      "metadata": {
        "id": "_qC68H8dE-Wc",
        "outputId": "c1de53d8-5d3f-4903-cfd8-812c0c2f0264"
      },
      "outputs": [
        {
          "data": {
            "text/plain": [
              "2"
            ]
          },
          "execution_count": 12,
          "metadata": {},
          "output_type": "execute_result"
        }
      ],
      "source": [
        "matrix1.ndim"
      ]
    },
    {
      "attachments": {},
      "cell_type": "markdown",
      "metadata": {
        "id": "NTUUT8pEE-Wf"
      },
      "source": [
        "Note que uma matriz, nesse caso, é considerado um objeto bidimensional, já que são arrays dentro de um array."
      ]
    },
    {
      "attachments": {},
      "cell_type": "markdown",
      "metadata": {
        "id": "G85a0x-_E-Wg"
      },
      "source": [
        "* Forma de um array:"
      ]
    },
    {
      "cell_type": "code",
      "execution_count": null,
      "metadata": {
        "id": "Tjg-zAtTE-Wg",
        "outputId": "67e07873-741e-47e2-ac51-fd754d4c4bd1"
      },
      "outputs": [
        {
          "data": {
            "text/plain": [
              "(3,)"
            ]
          },
          "execution_count": 13,
          "metadata": {},
          "output_type": "execute_result"
        }
      ],
      "source": [
        "array1.shape"
      ]
    },
    {
      "cell_type": "code",
      "execution_count": null,
      "metadata": {
        "id": "1Awmoe8ME-Wi",
        "outputId": "925b20c7-4450-4566-da98-13dc8f8d4635"
      },
      "outputs": [
        {
          "data": {
            "text/plain": [
              "(3, 3)"
            ]
          },
          "execution_count": 14,
          "metadata": {},
          "output_type": "execute_result"
        }
      ],
      "source": [
        "matrix1.shape"
      ]
    },
    {
      "attachments": {},
      "cell_type": "markdown",
      "metadata": {
        "id": "iZpX0nFRE-Wj"
      },
      "source": [
        "`ndarray.shape` fornece as dimensões de cada eixo. No caso de uma matriz $A \\in \\mathbb{R}^{m\\,\\times\\,n}$, como temos em `matrix1`, `ndarray.shape` retorna justamente $(m, n)$."
      ]
    },
    {
      "attachments": {},
      "cell_type": "markdown",
      "metadata": {
        "id": "V8OiXzsGE-Wj"
      },
      "source": [
        "* Tamanho de um array:"
      ]
    },
    {
      "cell_type": "code",
      "execution_count": null,
      "metadata": {
        "id": "O0OZJ2jYE-Wk",
        "outputId": "89d2e70e-36bd-4fbe-cbdb-2807428407f5"
      },
      "outputs": [
        {
          "data": {
            "text/plain": [
              "3"
            ]
          },
          "execution_count": 15,
          "metadata": {},
          "output_type": "execute_result"
        }
      ],
      "source": [
        "array1.size"
      ]
    },
    {
      "cell_type": "code",
      "execution_count": null,
      "metadata": {
        "id": "Ev2ErplPE-Wk",
        "outputId": "9dadf005-1c3a-499d-d2a5-8808b0c43c88"
      },
      "outputs": [
        {
          "data": {
            "text/plain": [
              "9"
            ]
          },
          "execution_count": 16,
          "metadata": {},
          "output_type": "execute_result"
        }
      ],
      "source": [
        "matrix1.size"
      ]
    },
    {
      "attachments": {},
      "cell_type": "markdown",
      "metadata": {
        "id": "8zKJHtT1E-Wl"
      },
      "source": [
        "Retorna o número de entrada de valores no objeto `ndarray`."
      ]
    },
    {
      "attachments": {},
      "cell_type": "markdown",
      "metadata": {
        "id": "0j42x9RPE-Wm"
      },
      "source": [
        "* Tipo dos elementos em um array:"
      ]
    },
    {
      "cell_type": "code",
      "execution_count": null,
      "metadata": {
        "id": "VpGte6ljE-Wm",
        "outputId": "0c7d2461-2655-4e6f-dc2b-1a726df1e3c5"
      },
      "outputs": [
        {
          "data": {
            "text/plain": [
              "dtype('float64')"
            ]
          },
          "execution_count": 17,
          "metadata": {},
          "output_type": "execute_result"
        }
      ],
      "source": [
        "array1.dtype"
      ]
    },
    {
      "cell_type": "code",
      "execution_count": null,
      "metadata": {
        "id": "U_VSUIIyE-Wn",
        "outputId": "3c6087d1-5690-4df1-d5ef-26c6d6bde68a"
      },
      "outputs": [
        {
          "data": {
            "text/plain": [
              "dtype('float64')"
            ]
          },
          "execution_count": 18,
          "metadata": {},
          "output_type": "execute_result"
        }
      ],
      "source": [
        "matrix1.dtype"
      ]
    },
    {
      "attachments": {},
      "cell_type": "markdown",
      "metadata": {
        "id": "Iqx69ZkhE-Wo"
      },
      "source": [
        "Ou seja, todas as entradas foram compostas por números em representação de ponto flutuante de dupla precisão. Caso seja necessário utilizar outro tipo de representação, podemos especificar isso na hora de declaramos o array por meio do argumento `dtype`:"
      ]
    },
    {
      "cell_type": "code",
      "execution_count": null,
      "metadata": {
        "id": "UN_ngSjsE-Wp"
      },
      "outputs": [],
      "source": [
        "matrix1_32 = np.array(\n",
        "    [[1., 2., 3.],\n",
        "     [4., 5., 6.],\n",
        "     [7., 8., 9.]],\n",
        "    dtype=np.float32\n",
        ")"
      ]
    },
    {
      "cell_type": "code",
      "execution_count": null,
      "metadata": {
        "id": "acsKWzZcE-Wp",
        "outputId": "025912e7-7bd9-4d25-b9e6-eb027376b77a"
      },
      "outputs": [
        {
          "data": {
            "text/plain": [
              "dtype('float32')"
            ]
          },
          "execution_count": 20,
          "metadata": {},
          "output_type": "execute_result"
        }
      ],
      "source": [
        "matrix1_32.dtype"
      ]
    },
    {
      "attachments": {},
      "cell_type": "markdown",
      "metadata": {
        "id": "meX6u3XQE-Wq"
      },
      "source": [
        "Ou mesmo podemos criar arrays de números complexos:"
      ]
    },
    {
      "cell_type": "code",
      "execution_count": null,
      "metadata": {
        "id": "uNH4t6dLE-Wr",
        "outputId": "6827b516-783c-4c8e-b928-b5c0a5cc6ed0"
      },
      "outputs": [
        {
          "data": {
            "text/plain": [
              "array([[2.+3.j, 1.+0.j]])"
            ]
          },
          "execution_count": 21,
          "metadata": {},
          "output_type": "execute_result"
        }
      ],
      "source": [
        "array_complex = np.array([[2. + 3.j, 1.]], dtype=np.complex)\n",
        "\n",
        "array_complex"
      ]
    },
    {
      "cell_type": "code",
      "execution_count": null,
      "metadata": {
        "id": "C0uia5THE-Ws",
        "outputId": "eb75109b-39bb-4072-d8b1-e00aed079f71"
      },
      "outputs": [
        {
          "data": {
            "text/plain": [
              "array([[2.+1.j, 1.+0.j],\n",
              "       [0.+0.j, 0.+1.j]])"
            ]
          },
          "execution_count": 22,
          "metadata": {},
          "output_type": "execute_result"
        }
      ],
      "source": [
        "matrix_complex = np.array(\n",
        "    [[2. + 1.j, 1.],\n",
        "     [0., 1.j]], \n",
        "    dtype=np.complex\n",
        ")\n",
        "\n",
        "matrix_complex"
      ]
    },
    {
      "attachments": {},
      "cell_type": "markdown",
      "metadata": {
        "id": "Y3nR_3z8E-Ws"
      },
      "source": [
        "* Tamanhos dos itens em bytes de um array:"
      ]
    },
    {
      "cell_type": "code",
      "execution_count": null,
      "metadata": {
        "id": "nAHgLWMRE-Wt",
        "outputId": "59ed6c47-5d7c-49ad-9def-4f36c5236acf"
      },
      "outputs": [
        {
          "data": {
            "text/plain": [
              "8"
            ]
          },
          "execution_count": 23,
          "metadata": {},
          "output_type": "execute_result"
        }
      ],
      "source": [
        "array1.itemsize"
      ]
    },
    {
      "cell_type": "code",
      "execution_count": null,
      "metadata": {
        "id": "57JHHyDGE-Ww",
        "outputId": "0588b11d-2346-4828-f59e-da54a51ad8df"
      },
      "outputs": [
        {
          "data": {
            "text/plain": [
              "8"
            ]
          },
          "execution_count": 24,
          "metadata": {},
          "output_type": "execute_result"
        }
      ],
      "source": [
        "matrix1.itemsize"
      ]
    },
    {
      "cell_type": "code",
      "execution_count": null,
      "metadata": {
        "id": "WwKOR_zsE-Wy",
        "outputId": "79ecf706-6952-4821-c591-e1201130eecb"
      },
      "outputs": [
        {
          "data": {
            "text/plain": [
              "4"
            ]
          },
          "execution_count": 25,
          "metadata": {},
          "output_type": "execute_result"
        }
      ],
      "source": [
        "matrix1_32.itemsize"
      ]
    },
    {
      "attachments": {},
      "cell_type": "markdown",
      "metadata": {
        "id": "Oa3QymbrE-Wz"
      },
      "source": [
        "Note que um array de `float64` tem $\\dfrac{64}{8} = 8$ bytes, enquanto um `float32` tem $\\dfrac{32}{8} = 4$ bytes."
      ]
    },
    {
      "attachments": {},
      "cell_type": "markdown",
      "metadata": {
        "id": "87YrAApTE-Wz"
      },
      "source": [
        "* Endereço dos dados em memória:"
      ]
    },
    {
      "cell_type": "code",
      "execution_count": null,
      "metadata": {
        "id": "j-h-u4mzE-Wz",
        "outputId": "47f60ae0-946f-436e-b56b-9e97116b1aef"
      },
      "outputs": [
        {
          "data": {
            "text/plain": [
              "<memory at 0x7f6fa4667288>"
            ]
          },
          "execution_count": 26,
          "metadata": {},
          "output_type": "execute_result"
        }
      ],
      "source": [
        "array1.data"
      ]
    },
    {
      "cell_type": "code",
      "execution_count": null,
      "metadata": {
        "id": "SO-OYlEmE-W0",
        "outputId": "cf38402e-536d-4674-89f4-5b4add63183d"
      },
      "outputs": [
        {
          "data": {
            "text/plain": [
              "<memory at 0x7f6fb8067630>"
            ]
          },
          "execution_count": 27,
          "metadata": {},
          "output_type": "execute_result"
        }
      ],
      "source": [
        "matrix1.data"
      ]
    },
    {
      "cell_type": "code",
      "execution_count": null,
      "metadata": {
        "id": "Rfm-EWiCE-W1",
        "outputId": "2eba39f0-6834-496e-f105-befa6c1979f0"
      },
      "outputs": [
        {
          "data": {
            "text/plain": [
              "<memory at 0x7f6fb8067b40>"
            ]
          },
          "execution_count": 28,
          "metadata": {},
          "output_type": "execute_result"
        }
      ],
      "source": [
        "matrix1_32.data"
      ]
    },
    {
      "attachments": {},
      "cell_type": "markdown",
      "metadata": {
        "id": "ZmZdwbBdE-W1"
      },
      "source": [
        "Em Python, geralmente não utilizamos esse tipo de acesso ou informação. Utilizamos apenas a **_parte boa_** do C."
      ]
    },
    {
      "attachments": {},
      "cell_type": "markdown",
      "metadata": {
        "id": "2_JJR1MBE-W2"
      },
      "source": [
        "### Operações e utilitários básicos"
      ]
    },
    {
      "attachments": {},
      "cell_type": "markdown",
      "metadata": {
        "id": "ztyEA5CPE-W2"
      },
      "source": [
        "#### Criação de arrays a partir de intervalos:"
      ]
    },
    {
      "cell_type": "code",
      "execution_count": null,
      "metadata": {
        "id": "qzFQnMwME-W3",
        "outputId": "ac6500ad-2226-44b7-b686-ec19a63ae93a"
      },
      "outputs": [
        {
          "data": {
            "text/plain": [
              "array([2, 4, 6, 8])"
            ]
          },
          "execution_count": 29,
          "metadata": {},
          "output_type": "execute_result"
        }
      ],
      "source": [
        "sequence_1 = np.arange(start=2, stop=10, step=2)\n",
        "\n",
        "sequence_1"
      ]
    },
    {
      "attachments": {},
      "cell_type": "markdown",
      "metadata": {
        "id": "QgdoiKJdE-W3"
      },
      "source": [
        "ou"
      ]
    },
    {
      "cell_type": "code",
      "execution_count": null,
      "metadata": {
        "id": "MvFEdqIgE-W4",
        "outputId": "abb15111-5f13-48cc-c995-6398733539f0"
      },
      "outputs": [
        {
          "data": {
            "text/plain": [
              "array([2., 4., 6., 8.])"
            ]
          },
          "execution_count": 30,
          "metadata": {},
          "output_type": "execute_result"
        }
      ],
      "source": [
        "sequence_2 = np.linspace(start=2, stop=8, num=4)\n",
        "\n",
        "sequence_2"
      ]
    },
    {
      "attachments": {},
      "cell_type": "markdown",
      "metadata": {
        "id": "FRGbQebXE-W4"
      },
      "source": [
        "Note que embora ambos criem arrays igualmente espaçados, exite uma diferença na forma de uso. O `np.arange` te possibilita dizer o início e o fim, sendo que o fim não está incluso (assim como ocorre com os _slicing_ de listas). Além disso, o `np.arange` controla o incremento que será utilizado até alcançar o fim da sequência.\n",
        "\n",
        "Em contrapartida, o `np.linspace` controla precisamente o início e o fim (que estará incluso). No entanto, ele tem como entrada no terceiro argumento (aqui explicitado) a quantidade de pontos que terá entre o início e o fim. O incremento será consequência disso."
      ]
    },
    {
      "attachments": {},
      "cell_type": "markdown",
      "metadata": {
        "id": "7X1HH1o6E-W4"
      },
      "source": [
        "Para simplificar, geralmente ambos os métodos são usados com o nome dos argumentos implícitos:"
      ]
    },
    {
      "cell_type": "code",
      "execution_count": null,
      "metadata": {
        "id": "4l6oDkE8E-W4",
        "outputId": "bef26943-f599-4c63-bb67-ac25655c4796"
      },
      "outputs": [
        {
          "data": {
            "text/plain": [
              "array([2, 4, 6, 8])"
            ]
          },
          "execution_count": 31,
          "metadata": {},
          "output_type": "execute_result"
        }
      ],
      "source": [
        "sequence_1 = np.arange(2, 10, 2)\n",
        "\n",
        "sequence_1"
      ]
    },
    {
      "cell_type": "code",
      "execution_count": null,
      "metadata": {
        "id": "BLfEXUTLE-W5",
        "outputId": "1d5c9b47-10e5-48c2-a092-d18ed27dd87c"
      },
      "outputs": [
        {
          "data": {
            "text/plain": [
              "array([2., 4., 6., 8.])"
            ]
          },
          "execution_count": 32,
          "metadata": {},
          "output_type": "execute_result"
        }
      ],
      "source": [
        "sequence_2 = np.linspace(2, 8, 4)\n",
        "\n",
        "sequence_2"
      ]
    },
    {
      "cell_type": "code",
      "execution_count": null,
      "metadata": {
        "id": "DeyY_SheE-W5",
        "outputId": "9e8e2e3e-d202-46a0-fb23-9fc3d7ca1e4b"
      },
      "outputs": [
        {
          "data": {
            "text/plain": [
              "array([  0.        ,   0.50251256,   1.00502513,   1.50753769,\n",
              "         2.01005025,   2.51256281,   3.01507538,   3.51758794,\n",
              "         4.0201005 ,   4.52261307,   5.02512563,   5.52763819,\n",
              "         6.03015075,   6.53266332,   7.03517588,   7.53768844,\n",
              "         8.04020101,   8.54271357,   9.04522613,   9.54773869,\n",
              "        10.05025126,  10.55276382,  11.05527638,  11.55778894,\n",
              "        12.06030151,  12.56281407,  13.06532663,  13.5678392 ,\n",
              "        14.07035176,  14.57286432,  15.07537688,  15.57788945,\n",
              "        16.08040201,  16.58291457,  17.08542714,  17.5879397 ,\n",
              "        18.09045226,  18.59296482,  19.09547739,  19.59798995,\n",
              "        20.10050251,  20.60301508,  21.10552764,  21.6080402 ,\n",
              "        22.11055276,  22.61306533,  23.11557789,  23.61809045,\n",
              "        24.12060302,  24.62311558,  25.12562814,  25.6281407 ,\n",
              "        26.13065327,  26.63316583,  27.13567839,  27.63819095,\n",
              "        28.14070352,  28.64321608,  29.14572864,  29.64824121,\n",
              "        30.15075377,  30.65326633,  31.15577889,  31.65829146,\n",
              "        32.16080402,  32.66331658,  33.16582915,  33.66834171,\n",
              "        34.17085427,  34.67336683,  35.1758794 ,  35.67839196,\n",
              "        36.18090452,  36.68341709,  37.18592965,  37.68844221,\n",
              "        38.19095477,  38.69346734,  39.1959799 ,  39.69849246,\n",
              "        40.20100503,  40.70351759,  41.20603015,  41.70854271,\n",
              "        42.21105528,  42.71356784,  43.2160804 ,  43.71859296,\n",
              "        44.22110553,  44.72361809,  45.22613065,  45.72864322,\n",
              "        46.23115578,  46.73366834,  47.2361809 ,  47.73869347,\n",
              "        48.24120603,  48.74371859,  49.24623116,  49.74874372,\n",
              "        50.25125628,  50.75376884,  51.25628141,  51.75879397,\n",
              "        52.26130653,  52.7638191 ,  53.26633166,  53.76884422,\n",
              "        54.27135678,  54.77386935,  55.27638191,  55.77889447,\n",
              "        56.28140704,  56.7839196 ,  57.28643216,  57.78894472,\n",
              "        58.29145729,  58.79396985,  59.29648241,  59.79899497,\n",
              "        60.30150754,  60.8040201 ,  61.30653266,  61.80904523,\n",
              "        62.31155779,  62.81407035,  63.31658291,  63.81909548,\n",
              "        64.32160804,  64.8241206 ,  65.32663317,  65.82914573,\n",
              "        66.33165829,  66.83417085,  67.33668342,  67.83919598,\n",
              "        68.34170854,  68.84422111,  69.34673367,  69.84924623,\n",
              "        70.35175879,  70.85427136,  71.35678392,  71.85929648,\n",
              "        72.36180905,  72.86432161,  73.36683417,  73.86934673,\n",
              "        74.3718593 ,  74.87437186,  75.37688442,  75.87939698,\n",
              "        76.38190955,  76.88442211,  77.38693467,  77.88944724,\n",
              "        78.3919598 ,  78.89447236,  79.39698492,  79.89949749,\n",
              "        80.40201005,  80.90452261,  81.40703518,  81.90954774,\n",
              "        82.4120603 ,  82.91457286,  83.41708543,  83.91959799,\n",
              "        84.42211055,  84.92462312,  85.42713568,  85.92964824,\n",
              "        86.4321608 ,  86.93467337,  87.43718593,  87.93969849,\n",
              "        88.44221106,  88.94472362,  89.44723618,  89.94974874,\n",
              "        90.45226131,  90.95477387,  91.45728643,  91.95979899,\n",
              "        92.46231156,  92.96482412,  93.46733668,  93.96984925,\n",
              "        94.47236181,  94.97487437,  95.47738693,  95.9798995 ,\n",
              "        96.48241206,  96.98492462,  97.48743719,  97.98994975,\n",
              "        98.49246231,  98.99497487,  99.49748744, 100.        ])"
            ]
          },
          "execution_count": 33,
          "metadata": {},
          "output_type": "execute_result"
        }
      ],
      "source": [
        "sequence_3 = np.linspace(0, 100, 200)\n",
        "\n",
        "sequence_3"
      ]
    },
    {
      "attachments": {},
      "cell_type": "markdown",
      "metadata": {
        "id": "0OnKLUhNE-W5"
      },
      "source": [
        "#### Operações aritméticas"
      ]
    },
    {
      "attachments": {},
      "cell_type": "markdown",
      "metadata": {
        "id": "lSIlEWxoE-W5"
      },
      "source": [
        "Com o numpy, as operações aritméticas são realizadas elemento-por-elemento do array."
      ]
    },
    {
      "cell_type": "code",
      "execution_count": null,
      "metadata": {
        "id": "SApyZV2BE-W6",
        "outputId": "5aca459c-bfea-478f-8b42-bd083202536d"
      },
      "outputs": [
        {
          "data": {
            "text/plain": [
              "array([0, 1, 2, 3, 4])"
            ]
          },
          "execution_count": 34,
          "metadata": {},
          "output_type": "execute_result"
        }
      ],
      "source": [
        "a = np.arange(5)\n",
        "\n",
        "a"
      ]
    },
    {
      "attachments": {},
      "cell_type": "markdown",
      "metadata": {
        "id": "r7EXvPRtE-W6"
      },
      "source": [
        "(note que se `np.arange` tiver apenas um argumento, ele gerará uma sequência igualmente espaçada até o número inteiro imediatamente antes ao argumento)"
      ]
    },
    {
      "cell_type": "code",
      "execution_count": null,
      "metadata": {
        "id": "bjHjq5xsE-W6",
        "outputId": "f21ecbbc-898e-4bdb-c7b6-dccb2eff3339"
      },
      "outputs": [
        {
          "data": {
            "text/plain": [
              "array([ 0, 10, 20, 30, 40])"
            ]
          },
          "execution_count": 35,
          "metadata": {},
          "output_type": "execute_result"
        }
      ],
      "source": [
        "b = np.arange(0, 50, 10)\n",
        "\n",
        "b"
      ]
    },
    {
      "cell_type": "code",
      "execution_count": null,
      "metadata": {
        "id": "g9QHSQ-qE-W6",
        "outputId": "38af599a-392a-4400-bd4c-51e5174f3dec"
      },
      "outputs": [
        {
          "name": "stdout",
          "output_type": "stream",
          "text": [
            "[ 0 11 22 33 44]\n",
            "[ 0  9 18 27 36]\n",
            "[ 0  1  4  9 16]\n",
            "[10. 10. 10. 10.]\n",
            "[  0  10  40  90 160]\n"
          ]
        }
      ],
      "source": [
        "soma = a + b\n",
        "subtracao = b - a\n",
        "potenciacao = a ** 2\n",
        "divisao = b[1:] / a[1:]\n",
        "produto = a * b\n",
        "\n",
        "print(soma)\n",
        "print(subtracao)\n",
        "print(potenciacao)\n",
        "print(divisao)\n",
        "print(produto)"
      ]
    },
    {
      "attachments": {},
      "cell_type": "markdown",
      "metadata": {
        "id": "mSVu5332E-W7"
      },
      "source": [
        "Note que a operação de divisão de vetores não é matematicamente definida, mas aqui é possível pois se trata de operações elemento-por-elemento. Além disso, o produto entre vetores matematicamente definido como produto interno não ocorre por meio do operador `*` (iremos ver isso em breve). Podemos fazer com matrizes de maneira similar:"
      ]
    },
    {
      "cell_type": "code",
      "execution_count": null,
      "metadata": {
        "id": "frSQHlaiE-W7",
        "outputId": "6be4ccb1-4b02-4753-e78e-223e8e1af4f6"
      },
      "outputs": [
        {
          "name": "stdout",
          "output_type": "stream",
          "text": [
            "[[1. 3.]\n",
            " [2. 4.]] \n",
            "\n",
            "[[10.  0.]\n",
            " [10. 20.]]\n"
          ]
        }
      ],
      "source": [
        "A = np.array(\n",
        "    [[1., 3.], \n",
        "     [2., 4.]]\n",
        ")\n",
        "B = np.array(\n",
        "    [[10., 0.], \n",
        "     [10., 20.]]\n",
        ")\n",
        "\n",
        "print(A, '\\n')\n",
        "print(B)"
      ]
    },
    {
      "cell_type": "code",
      "execution_count": null,
      "metadata": {
        "id": "CLhkz7RJE-W8",
        "outputId": "2ffd3a17-e9d2-4f24-d627-863a1490a82f"
      },
      "outputs": [
        {
          "name": "stdout",
          "output_type": "stream",
          "text": [
            "[[11.  3.]\n",
            " [12. 24.]] \n",
            "\n",
            "[[ 9. -3.]\n",
            " [ 8. 16.]] \n",
            "\n",
            "[[ 1.  9.]\n",
            " [ 4. 16.]] \n",
            "\n",
            "[[10.  0.]\n",
            " [ 5.  5.]] \n",
            "\n",
            "[[10.  0.]\n",
            " [20. 80.]]\n"
          ]
        }
      ],
      "source": [
        "soma = A + B\n",
        "subtracao = B - A\n",
        "potenciacao = A ** 2\n",
        "divisao = B / A\n",
        "produto = A * B\n",
        "\n",
        "print(soma, '\\n')\n",
        "print(subtracao, '\\n')\n",
        "print(potenciacao, '\\n')\n",
        "print(divisao, '\\n')\n",
        "print(produto)"
      ]
    },
    {
      "attachments": {},
      "cell_type": "markdown",
      "metadata": {
        "id": "oGZX1hmTE-W8"
      },
      "source": [
        "Novamente, note que a operação de divisão em matrizes matematicamente não existe e o produto entre matrizes também não é o usual. As operações que ocorrem acima foram realizadas elemento-por-elemento. Caso desejemos realizar o produto de matrizes, o Python oferece um operador específico para isso:"
      ]
    },
    {
      "cell_type": "code",
      "execution_count": null,
      "metadata": {
        "id": "SydPjMTDE-W9",
        "outputId": "61385486-d416-4cf4-a119-3e9ee3ae4791"
      },
      "outputs": [
        {
          "data": {
            "text/plain": [
              "array([[40., 60.],\n",
              "       [60., 80.]])"
            ]
          },
          "execution_count": 39,
          "metadata": {},
          "output_type": "execute_result"
        }
      ],
      "source": [
        "produto_matrizes = A @ B\n",
        "\n",
        "produto_matrizes"
      ]
    },
    {
      "attachments": {},
      "cell_type": "markdown",
      "metadata": {
        "id": "dnIjjv-KE-W-"
      },
      "source": [
        "ou"
      ]
    },
    {
      "cell_type": "code",
      "execution_count": null,
      "metadata": {
        "id": "smwjGf4sE-W-",
        "outputId": "4cfce6e3-1338-49dd-ea71-bb5b4f91f6fd"
      },
      "outputs": [
        {
          "data": {
            "text/plain": [
              "array([[40., 60.],\n",
              "       [60., 80.]])"
            ]
          },
          "execution_count": 40,
          "metadata": {},
          "output_type": "execute_result"
        }
      ],
      "source": [
        "produto_matrizes_alternativo = A.dot(B)\n",
        "\n",
        "produto_matrizes_alternativo"
      ]
    },
    {
      "attachments": {},
      "cell_type": "markdown",
      "metadata": {
        "id": "PG72j4OvE-W_"
      },
      "source": [
        "sendo esse último uma notação mais verbosa do que está ocorrendo. Podemos, dessa forma, fazer a clássica operação entre matrizes e vetores do tipo $Ax$:"
      ]
    },
    {
      "cell_type": "code",
      "execution_count": null,
      "metadata": {
        "id": "vQHHfSgWE-W_",
        "outputId": "cf46f7e0-2d28-441f-c5a8-004baec8faef"
      },
      "outputs": [
        {
          "data": {
            "text/plain": [
              "array([2., 1.])"
            ]
          },
          "execution_count": 41,
          "metadata": {},
          "output_type": "execute_result"
        }
      ],
      "source": [
        "mat = np.array([[2., 1.], [1, 2.]])\n",
        "vec = np.array([1., 0.])\n",
        "prod_matvec = mat @ vec\n",
        "\n",
        "prod_matvec"
      ]
    },
    {
      "attachments": {},
      "cell_type": "markdown",
      "metadata": {
        "id": "G7wxr20DE-XA"
      },
      "source": [
        "#### Comentários sobre operações com tipos de dados distintos"
      ]
    },
    {
      "attachments": {},
      "cell_type": "markdown",
      "metadata": {
        "id": "LZXP2IxWE-XA"
      },
      "source": [
        "Quando se opera objetos `ndarray` com tipos diferentes, o que será que acontece?"
      ]
    },
    {
      "cell_type": "code",
      "execution_count": null,
      "metadata": {
        "id": "INuXLdZIE-XA",
        "outputId": "28bfb3eb-c100-4dc7-e2be-ae43a542c645"
      },
      "outputs": [
        {
          "data": {
            "text/plain": [
              "array([1, 1, 1], dtype=int32)"
            ]
          },
          "execution_count": 42,
          "metadata": {},
          "output_type": "execute_result"
        }
      ],
      "source": [
        "a = np.ones(3, dtype=np.int32)\n",
        "\n",
        "a"
      ]
    },
    {
      "cell_type": "code",
      "execution_count": null,
      "metadata": {
        "id": "fcvVx0-mE-XB",
        "outputId": "e7bfcda0-2355-411c-eb2c-486c7de9fcd2"
      },
      "outputs": [
        {
          "data": {
            "text/plain": [
              "array([0. , 2.5, 5. ])"
            ]
          },
          "execution_count": 43,
          "metadata": {},
          "output_type": "execute_result"
        }
      ],
      "source": [
        "b = np.linspace(0, 5, 3)\n",
        "\n",
        "b"
      ]
    },
    {
      "cell_type": "code",
      "execution_count": null,
      "metadata": {
        "id": "ppg3c2p9E-XB",
        "outputId": "5e594826-ae26-4cb0-ea97-6d5310f87cc9"
      },
      "outputs": [
        {
          "data": {
            "text/plain": [
              "array([1. , 3.5, 6. ])"
            ]
          },
          "execution_count": 44,
          "metadata": {},
          "output_type": "execute_result"
        }
      ],
      "source": [
        "a + b"
      ]
    },
    {
      "attachments": {},
      "cell_type": "markdown",
      "metadata": {
        "id": "NhBlRPJ8E-XC"
      },
      "source": [
        "Note que ocorre uma coerção de tipo para o que apresentar maior grau de precisão (ou mais genérico)."
      ]
    },
    {
      "attachments": {},
      "cell_type": "markdown",
      "metadata": {
        "id": "ulxU77tAE-XC"
      },
      "source": [
        "### Funções universais da NumPy"
      ]
    },
    {
      "attachments": {},
      "cell_type": "markdown",
      "metadata": {
        "id": "7xqJI9MdE-XC"
      },
      "source": [
        "A NumPy fornece as principais funções matemáticas capazes de operar de forma vetorial. Em outras palavras, capaz de retornar arrays, ao contrário da biblioteca-padrão `math`. Vamos ver um exemplo simples:"
      ]
    },
    {
      "cell_type": "code",
      "execution_count": null,
      "metadata": {
        "id": "lkZzLKzaE-XD"
      },
      "outputs": [],
      "source": [
        "import math\n",
        "\n",
        "\n",
        "def sin_function(x):\n",
        "    return math.sin(x)"
      ]
    },
    {
      "cell_type": "code",
      "execution_count": null,
      "metadata": {
        "id": "U8Ug2MZ1E-XD",
        "outputId": "922d218d-7a92-41c8-e054-f40e2e9565ac"
      },
      "outputs": [
        {
          "ename": "TypeError",
          "evalue": "only size-1 arrays can be converted to Python scalars",
          "output_type": "error",
          "traceback": [
            "\u001b[0;31m---------------------------------------------------------------------------\u001b[0m",
            "\u001b[0;31mTypeError\u001b[0m                                 Traceback (most recent call last)",
            "\u001b[0;32m<ipython-input-46-f2b7933f87d0>\u001b[0m in \u001b[0;36m<module>\u001b[0;34m\u001b[0m\n\u001b[1;32m      1\u001b[0m \u001b[0mvec\u001b[0m \u001b[0;34m=\u001b[0m \u001b[0mnp\u001b[0m\u001b[0;34m.\u001b[0m\u001b[0marray\u001b[0m\u001b[0;34m(\u001b[0m\u001b[0;34m[\u001b[0m\u001b[0;36m1\u001b[0m \u001b[0;34m/\u001b[0m \u001b[0;36m3\u001b[0m\u001b[0;34m,\u001b[0m \u001b[0;36m1\u001b[0m \u001b[0;34m/\u001b[0m \u001b[0;36m2\u001b[0m\u001b[0;34m]\u001b[0m\u001b[0;34m)\u001b[0m\u001b[0;34m\u001b[0m\u001b[0;34m\u001b[0m\u001b[0m\n\u001b[0;32m----> 2\u001b[0;31m \u001b[0msin_vec\u001b[0m \u001b[0;34m=\u001b[0m \u001b[0msin_function\u001b[0m\u001b[0;34m(\u001b[0m\u001b[0mvec\u001b[0m\u001b[0;34m)\u001b[0m\u001b[0;34m\u001b[0m\u001b[0;34m\u001b[0m\u001b[0m\n\u001b[0m\u001b[1;32m      3\u001b[0m \u001b[0;34m\u001b[0m\u001b[0m\n\u001b[1;32m      4\u001b[0m \u001b[0msin_vec\u001b[0m\u001b[0;34m\u001b[0m\u001b[0;34m\u001b[0m\u001b[0m\n",
            "\u001b[0;32m<ipython-input-45-f0da795297e3>\u001b[0m in \u001b[0;36msin_function\u001b[0;34m(x)\u001b[0m\n\u001b[1;32m      3\u001b[0m \u001b[0;34m\u001b[0m\u001b[0m\n\u001b[1;32m      4\u001b[0m \u001b[0;32mdef\u001b[0m \u001b[0msin_function\u001b[0m\u001b[0;34m(\u001b[0m\u001b[0mx\u001b[0m\u001b[0;34m)\u001b[0m\u001b[0;34m:\u001b[0m\u001b[0;34m\u001b[0m\u001b[0;34m\u001b[0m\u001b[0m\n\u001b[0;32m----> 5\u001b[0;31m     \u001b[0;32mreturn\u001b[0m \u001b[0mmath\u001b[0m\u001b[0;34m.\u001b[0m\u001b[0msin\u001b[0m\u001b[0;34m(\u001b[0m\u001b[0mx\u001b[0m\u001b[0;34m)\u001b[0m\u001b[0;34m\u001b[0m\u001b[0;34m\u001b[0m\u001b[0m\n\u001b[0m",
            "\u001b[0;31mTypeError\u001b[0m: only size-1 arrays can be converted to Python scalars"
          ]
        }
      ],
      "source": [
        "vec = np.array([1 / 3, 1 / 2])\n",
        "sin_vec = sin_function(vec)\n",
        "\n",
        "sin_vec"
      ]
    },
    {
      "attachments": {},
      "cell_type": "markdown",
      "metadata": {
        "id": "D8qAgkKgE-XD"
      },
      "source": [
        "Pela numpy:"
      ]
    },
    {
      "cell_type": "code",
      "execution_count": null,
      "metadata": {
        "id": "RUaZ8tMnE-XE"
      },
      "outputs": [],
      "source": [
        "def sin_function_np(x):\n",
        "    return np.sin(x)"
      ]
    },
    {
      "cell_type": "code",
      "execution_count": null,
      "metadata": {
        "id": "BArBlmEcE-XE",
        "outputId": "de71d043-41d0-4bfe-9301-a5ca52c4a1c4"
      },
      "outputs": [
        {
          "data": {
            "text/plain": [
              "array([0.3271947 , 0.47942554])"
            ]
          },
          "execution_count": 48,
          "metadata": {},
          "output_type": "execute_result"
        }
      ],
      "source": [
        "sin_vec = sin_function_np(vec)\n",
        "\n",
        "sin_vec"
      ]
    },
    {
      "attachments": {},
      "cell_type": "markdown",
      "metadata": {
        "id": "rz_5QEL6E-XF"
      },
      "source": [
        "Basicamente, as funções fornecidas são as mesmas que as da lib `math`, porém com a capacidade exibida acima. Lembrando que essas funções também são executadas elemento-por-elemento. A lista completa de funções disponíveis pode ser acessada [aqui](https://docs.scipy.org/doc/numpy-1.13.0/reference/routines.math.html)."
      ]
    },
    {
      "attachments": {},
      "cell_type": "markdown",
      "metadata": {
        "id": "cwifGE7AE-XG"
      },
      "source": [
        "### Alguns métodos de `numpy.ndarray` úteis"
      ]
    },
    {
      "attachments": {},
      "cell_type": "markdown",
      "metadata": {
        "id": "2yALidtYE-XG"
      },
      "source": [
        "No dia-a-dia científico, muitas vezes necessitamos de algumas operações com certa frequência, como somas em vetores, valores máximos ou mínimos e etc. Os objetos `ndarray` são munidos de métodos que executam esses cálculos. Vejamos alguns deles a seguir."
      ]
    },
    {
      "attachments": {},
      "cell_type": "markdown",
      "metadata": {
        "id": "IbSlzEvlE-XG"
      },
      "source": [
        "#### Valores máximos e mínimos em um array"
      ]
    },
    {
      "attachments": {},
      "cell_type": "markdown",
      "metadata": {
        "id": "2fN4UshCE-XG"
      },
      "source": [
        "Vamos antes gerar um vetor de valores aleatórios com o pacote `random` do numpy:"
      ]
    },
    {
      "cell_type": "code",
      "execution_count": null,
      "metadata": {
        "id": "j2gH_mulE-XH",
        "outputId": "cb5d2d04-2334-4c7d-8f6e-b3bc1a13de77"
      },
      "outputs": [
        {
          "data": {
            "text/plain": [
              "array([0.34336861, 0.27182526, 0.13845444, 0.90895815, 0.02422253,\n",
              "       0.42396994, 0.74019314, 0.9223146 , 0.50825702, 0.16044042])"
            ]
          },
          "execution_count": 49,
          "metadata": {},
          "output_type": "execute_result"
        }
      ],
      "source": [
        "from numpy import random as rnd\n",
        "\n",
        "array1 = rnd.random(10)\n",
        "\n",
        "array1"
      ]
    },
    {
      "attachments": {},
      "cell_type": "markdown",
      "metadata": {
        "id": "I9radOCFE-XH"
      },
      "source": [
        "Criamos um vetor com 10 entradas aleatórias entre 0 e 1. Agora vamos retirar algumas informações sobre ele."
      ]
    },
    {
      "attachments": {},
      "cell_type": "markdown",
      "metadata": {
        "id": "XbY0IyLbE-XH"
      },
      "source": [
        "* Valor máximo"
      ]
    },
    {
      "cell_type": "code",
      "execution_count": null,
      "metadata": {
        "id": "mhVurtDAE-XI",
        "outputId": "077bfa22-6bce-4ebc-9cc8-318bb65c25c8"
      },
      "outputs": [
        {
          "data": {
            "text/plain": [
              "0.9223146022241675"
            ]
          },
          "execution_count": 50,
          "metadata": {},
          "output_type": "execute_result"
        }
      ],
      "source": [
        "array1.max()"
      ]
    },
    {
      "attachments": {},
      "cell_type": "markdown",
      "metadata": {
        "id": "SOTeRUcxE-XJ"
      },
      "source": [
        "* Índice da entrada de valor máximo"
      ]
    },
    {
      "cell_type": "code",
      "execution_count": null,
      "metadata": {
        "id": "j5JrBT45E-XK",
        "outputId": "6f3d70f2-4fea-4b1f-ada8-fc3ec0dcbf27"
      },
      "outputs": [
        {
          "data": {
            "text/plain": [
              "7"
            ]
          },
          "execution_count": 51,
          "metadata": {},
          "output_type": "execute_result"
        }
      ],
      "source": [
        "imax = array1.argmax()\n",
        "imax"
      ]
    },
    {
      "cell_type": "code",
      "execution_count": null,
      "metadata": {
        "id": "f0tA_xU0E-XK",
        "outputId": "2b63dc81-e4b3-4acc-f930-340df9327e80"
      },
      "outputs": [
        {
          "data": {
            "text/plain": [
              "0.9223146022241675"
            ]
          },
          "execution_count": 52,
          "metadata": {},
          "output_type": "execute_result"
        }
      ],
      "source": [
        "array1[imax]"
      ]
    },
    {
      "attachments": {},
      "cell_type": "markdown",
      "metadata": {
        "id": "fYHZT-nME-XL"
      },
      "source": [
        "* Valor mínimo"
      ]
    },
    {
      "cell_type": "code",
      "execution_count": null,
      "metadata": {
        "id": "EhUHNQP6E-XL",
        "outputId": "6915df10-758c-42ac-dec2-4f51673b46fb"
      },
      "outputs": [
        {
          "data": {
            "text/plain": [
              "0.024222528975309188"
            ]
          },
          "execution_count": 53,
          "metadata": {},
          "output_type": "execute_result"
        }
      ],
      "source": [
        "array1.min()"
      ]
    },
    {
      "attachments": {},
      "cell_type": "markdown",
      "metadata": {
        "id": "v_T3S9IhE-XL"
      },
      "source": [
        "* Índice da entrada de valor mínimo"
      ]
    },
    {
      "cell_type": "code",
      "execution_count": null,
      "metadata": {
        "id": "DZvwPMucE-XL",
        "outputId": "27c7dd8c-f374-4490-8b28-b5ca0bd02856"
      },
      "outputs": [
        {
          "data": {
            "text/plain": [
              "4"
            ]
          },
          "execution_count": 54,
          "metadata": {},
          "output_type": "execute_result"
        }
      ],
      "source": [
        "array1.argmin()"
      ]
    },
    {
      "attachments": {},
      "cell_type": "markdown",
      "metadata": {
        "id": "ApADch_ME-XM"
      },
      "source": [
        "#### Somatório e produtórios dos valores em um array"
      ]
    },
    {
      "attachments": {},
      "cell_type": "markdown",
      "metadata": {
        "id": "2lGEV_0-E-XM"
      },
      "source": [
        "* Soma dos valores"
      ]
    },
    {
      "cell_type": "code",
      "execution_count": null,
      "metadata": {
        "id": "K6DkKsN1E-XN",
        "outputId": "dbf7a455-1df1-410a-c17a-c781118a069a"
      },
      "outputs": [
        {
          "data": {
            "text/plain": [
              "4.442004105570682"
            ]
          },
          "execution_count": 55,
          "metadata": {},
          "output_type": "execute_result"
        }
      ],
      "source": [
        "array1.sum()"
      ]
    },
    {
      "attachments": {},
      "cell_type": "markdown",
      "metadata": {
        "id": "ullzXXQcE-XN"
      },
      "source": [
        "* Soma cumulativa"
      ]
    },
    {
      "cell_type": "code",
      "execution_count": null,
      "metadata": {
        "id": "V6Jk3UzjE-XN",
        "outputId": "81406939-633b-49f1-c637-497ab192fcb1"
      },
      "outputs": [
        {
          "data": {
            "text/plain": [
              "array([0.34336861, 0.61519386, 0.7536483 , 1.66260645, 1.68682898,\n",
              "       2.11079892, 2.85099206, 3.77330666, 4.28156368, 4.44200411])"
            ]
          },
          "execution_count": 56,
          "metadata": {},
          "output_type": "execute_result"
        }
      ],
      "source": [
        "array1.cumsum()"
      ]
    },
    {
      "attachments": {},
      "cell_type": "markdown",
      "metadata": {
        "id": "GlfHy8x5E-XO"
      },
      "source": [
        "Note que:"
      ]
    },
    {
      "cell_type": "code",
      "execution_count": null,
      "metadata": {
        "id": "VFObNo6lE-XO",
        "outputId": "1e6ae162-fc03-4c04-e5a8-029e8d8dca65"
      },
      "outputs": [
        {
          "data": {
            "text/plain": [
              "True"
            ]
          },
          "execution_count": 57,
          "metadata": {},
          "output_type": "execute_result"
        }
      ],
      "source": [
        "np.allclose(array1.sum(), array1.cumsum()[-1])"
      ]
    },
    {
      "attachments": {},
      "cell_type": "markdown",
      "metadata": {
        "id": "Q-4l8VwnE-XP"
      },
      "source": [
        "* Produto dos valores"
      ]
    },
    {
      "cell_type": "code",
      "execution_count": null,
      "metadata": {
        "id": "jQuVHtiaE-XP",
        "outputId": "5a0b1f21-6694-4dca-bf2e-03f63e47fc60"
      },
      "outputs": [
        {
          "data": {
            "text/plain": [
              "6.715479688671335e-06"
            ]
          },
          "execution_count": 58,
          "metadata": {},
          "output_type": "execute_result"
        }
      ],
      "source": [
        "array1.prod()"
      ]
    },
    {
      "attachments": {},
      "cell_type": "markdown",
      "metadata": {
        "id": "ioWOa8LLE-XQ"
      },
      "source": [
        "* Produto cumulativo dos valores"
      ]
    },
    {
      "cell_type": "code",
      "execution_count": null,
      "metadata": {
        "id": "grAZQeuhE-XQ",
        "outputId": "1ec5c940-3eea-449b-d280-d0bad5e915b2"
      },
      "outputs": [
        {
          "data": {
            "text/plain": [
              "array([3.43368606e-01, 9.33362595e-02, 1.29228197e-02, 1.17463022e-02,\n",
              "       2.84525147e-04, 1.20630108e-04, 8.92895791e-05, 8.23530826e-05,\n",
              "       4.18565325e-05, 6.71547969e-06])"
            ]
          },
          "execution_count": 59,
          "metadata": {},
          "output_type": "execute_result"
        }
      ],
      "source": [
        "array1.cumprod()"
      ]
    },
    {
      "attachments": {},
      "cell_type": "markdown",
      "metadata": {
        "id": "leLZOgaQE-XR"
      },
      "source": [
        "Também é constatado que:"
      ]
    },
    {
      "cell_type": "code",
      "execution_count": null,
      "metadata": {
        "id": "kV2qyULmE-XR",
        "outputId": "3c21d656-6215-44ee-fc8a-002953c8d989"
      },
      "outputs": [
        {
          "data": {
            "text/plain": [
              "True"
            ]
          },
          "execution_count": 60,
          "metadata": {},
          "output_type": "execute_result"
        }
      ],
      "source": [
        "array1.prod() == array1.cumprod()[-1]"
      ]
    },
    {
      "attachments": {},
      "cell_type": "markdown",
      "metadata": {
        "id": "A19RCs8ME-XR"
      },
      "source": [
        "#### E o que acontece em arrays multidimensionais?"
      ]
    },
    {
      "attachments": {},
      "cell_type": "markdown",
      "metadata": {
        "id": "leKFNd28E-XS"
      },
      "source": [
        "Neste caso, o formato não é levado em conta. O método é aplicado ao longo do array como se os valores de entradas fossem uma lista."
      ]
    },
    {
      "cell_type": "code",
      "execution_count": null,
      "metadata": {
        "id": "YoWouvZ8E-XS",
        "outputId": "2e64ef31-3d28-452b-e5ff-f65433fa739a"
      },
      "outputs": [
        {
          "data": {
            "text/plain": [
              "array([[0.52757469, 0.44499104, 0.24150775],\n",
              "       [0.17061932, 0.23133227, 0.48625264],\n",
              "       [0.79868698, 0.93480275, 0.93662729]])"
            ]
          },
          "execution_count": 61,
          "metadata": {},
          "output_type": "execute_result"
        }
      ],
      "source": [
        "shape = (3, 3)\n",
        "vec1 = rnd.random(shape)\n",
        "\n",
        "vec1"
      ]
    },
    {
      "cell_type": "code",
      "execution_count": null,
      "metadata": {
        "id": "8l9aDBMhE-XS",
        "outputId": "72963ac2-d447-47bd-d3bb-2b9d3911c95e"
      },
      "outputs": [
        {
          "data": {
            "text/plain": [
              "0.1706193224360818"
            ]
          },
          "execution_count": 62,
          "metadata": {},
          "output_type": "execute_result"
        }
      ],
      "source": [
        "vec1.min()"
      ]
    },
    {
      "attachments": {},
      "cell_type": "markdown",
      "metadata": {
        "id": "iveK8GShE-XT"
      },
      "source": [
        "Porém, podemos especificar em qual `axis` os métodos serão aplicados:"
      ]
    },
    {
      "cell_type": "code",
      "execution_count": null,
      "metadata": {
        "id": "b_sqidK0E-XT",
        "outputId": "3c0db9ab-ba03-4ac1-f738-ef38cabd5a6c"
      },
      "outputs": [
        {
          "data": {
            "text/plain": [
              "array([0.24150775, 0.17061932, 0.79868698])"
            ]
          },
          "execution_count": 63,
          "metadata": {},
          "output_type": "execute_result"
        }
      ],
      "source": [
        "vec1.min(axis=1)"
      ]
    },
    {
      "attachments": {},
      "cell_type": "markdown",
      "metadata": {
        "id": "GFeH5qYmE-XU"
      },
      "source": [
        "A operação acima retornou o mínimo de cada linha. Analogamente:"
      ]
    },
    {
      "cell_type": "code",
      "execution_count": null,
      "metadata": {
        "id": "dEx-U6VxE-XU",
        "outputId": "55241fe2-f35d-4b7e-d1a3-3008e87a583f"
      },
      "outputs": [
        {
          "data": {
            "text/plain": [
              "array([0.17061932, 0.23133227, 0.24150775])"
            ]
          },
          "execution_count": 64,
          "metadata": {},
          "output_type": "execute_result"
        }
      ],
      "source": [
        "vec1.min(axis=0)"
      ]
    },
    {
      "attachments": {},
      "cell_type": "markdown",
      "metadata": {
        "id": "Oc26newZE-XU"
      },
      "source": [
        "retornou o mínimo em cada coluna. O procedimento pode ser aplicado da mesma maneira para as funções expostas anteriormente."
      ]
    },
    {
      "attachments": {},
      "cell_type": "markdown",
      "metadata": {
        "id": "mNO311mbE-XV"
      },
      "source": [
        "### Indexação, fatiamento e iterações em arrays"
      ]
    },
    {
      "attachments": {},
      "cell_type": "markdown",
      "metadata": {
        "id": "K8UmK5LfE-XV"
      },
      "source": [
        "#### Indexação"
      ]
    },
    {
      "cell_type": "code",
      "execution_count": null,
      "metadata": {
        "id": "1dohfWyiE-XV",
        "outputId": "0649c6a9-2044-46d0-a9c4-2edd9c130fb9"
      },
      "outputs": [
        {
          "data": {
            "text/plain": [
              "array([ 5.        ,  6.66666667,  8.33333333, 10.        , 11.66666667,\n",
              "       13.33333333, 15.        , 16.66666667, 18.33333333, 20.        ])"
            ]
          },
          "execution_count": 65,
          "metadata": {},
          "output_type": "execute_result"
        }
      ],
      "source": [
        "array1 = np.linspace(5, 20, 10)\n",
        "array1"
      ]
    },
    {
      "attachments": {},
      "cell_type": "markdown",
      "metadata": {
        "id": "x8euB_VcE-XW"
      },
      "source": [
        "Semelhantemente às listas, os índices começam a contar do 0. Portanto, a entrada na posição 3 é acessado como"
      ]
    },
    {
      "cell_type": "code",
      "execution_count": null,
      "metadata": {
        "id": "ADb9bz2HE-XW",
        "outputId": "a559301d-76e6-4624-b393-e4c7cfc267c6"
      },
      "outputs": [
        {
          "data": {
            "text/plain": [
              "8.333333333333334"
            ]
          },
          "execution_count": 66,
          "metadata": {},
          "output_type": "execute_result"
        }
      ],
      "source": [
        "array1[2]"
      ]
    },
    {
      "attachments": {},
      "cell_type": "markdown",
      "metadata": {
        "id": "bgcBhqEkE-XW"
      },
      "source": [
        "#### Fatiamento"
      ]
    },
    {
      "attachments": {},
      "cell_type": "markdown",
      "metadata": {
        "id": "1FTp4sllE-XX"
      },
      "source": [
        "##### Array unidimensional"
      ]
    },
    {
      "attachments": {},
      "cell_type": "markdown",
      "metadata": {
        "id": "40nPCJfcE-XX"
      },
      "source": [
        "Em algumas situações, se deseja acessar ou operar em apenas uma parte de um array. No array unidimensional, basta fazer `array[n:m]`. Isso retornará as entradas do índice `n` até o `m-1`."
      ]
    },
    {
      "cell_type": "code",
      "execution_count": null,
      "metadata": {
        "id": "5w-2MAL0E-XX",
        "outputId": "1ba79ee7-cd9b-4c75-af77-00522b7cfc7a"
      },
      "outputs": [
        {
          "data": {
            "text/plain": [
              "array([5.        , 6.66666667, 8.33333333])"
            ]
          },
          "execution_count": 67,
          "metadata": {},
          "output_type": "execute_result"
        }
      ],
      "source": [
        "array1[0:3]"
      ]
    },
    {
      "attachments": {},
      "cell_type": "markdown",
      "metadata": {
        "id": "cpCli3N8E-XX"
      },
      "source": [
        "Neste caso, como o índice inicial é `0`, podemos omitir e simplesmente fazer"
      ]
    },
    {
      "cell_type": "code",
      "execution_count": null,
      "metadata": {
        "id": "xl96lA4WE-XY",
        "outputId": "f8871f49-5da9-45ee-932c-8001ce7f56e3"
      },
      "outputs": [
        {
          "data": {
            "text/plain": [
              "array([5.        , 6.66666667, 8.33333333])"
            ]
          },
          "execution_count": 68,
          "metadata": {},
          "output_type": "execute_result"
        }
      ],
      "source": [
        "array1[:3]"
      ]
    },
    {
      "attachments": {},
      "cell_type": "markdown",
      "metadata": {
        "id": "Sc9EeDtTE-XY"
      },
      "source": [
        "De forma semelhante, se fizermos `array[n:]` a fatia ocorrerá do índice `n` até o fim do array:"
      ]
    },
    {
      "cell_type": "code",
      "execution_count": null,
      "metadata": {
        "id": "OSQHBwjhE-XY",
        "outputId": "d3e90b3c-d7b7-4ec2-c550-7464e3706c1b"
      },
      "outputs": [
        {
          "data": {
            "text/plain": [
              "array([16.66666667, 18.33333333, 20.        ])"
            ]
          },
          "execution_count": 69,
          "metadata": {},
          "output_type": "execute_result"
        }
      ],
      "source": [
        "array1[7:]"
      ]
    },
    {
      "attachments": {},
      "cell_type": "markdown",
      "metadata": {
        "id": "BwOikGuaE-XZ"
      },
      "source": [
        "Outro exemplo:"
      ]
    },
    {
      "cell_type": "code",
      "execution_count": null,
      "metadata": {
        "id": "G1hdKYtFE-XZ",
        "outputId": "f721a280-39e2-41a0-c5fc-a5fb679c610c"
      },
      "outputs": [
        {
          "data": {
            "text/plain": [
              "array([ 8.33333333, 10.        , 11.66666667, 13.33333333, 15.        ,\n",
              "       16.66666667])"
            ]
          },
          "execution_count": 70,
          "metadata": {},
          "output_type": "execute_result"
        }
      ],
      "source": [
        "sliced_array = array1[2:8]\n",
        "sliced_array"
      ]
    },
    {
      "attachments": {},
      "cell_type": "markdown",
      "metadata": {
        "id": "g_W05NM9E-Xa"
      },
      "source": [
        "Também podemos fazer operações em apenas trechos dos arrays:"
      ]
    },
    {
      "cell_type": "code",
      "execution_count": null,
      "metadata": {
        "id": "dBeghGa_E-Xa",
        "outputId": "5fd41513-b13c-4c2f-f027-d38474630519"
      },
      "outputs": [
        {
          "data": {
            "text/plain": [
              "array([15.        , 16.66666667, 18.33333333])"
            ]
          },
          "execution_count": 71,
          "metadata": {},
          "output_type": "execute_result"
        }
      ],
      "source": [
        "array1[:3] + 10"
      ]
    },
    {
      "attachments": {},
      "cell_type": "markdown",
      "metadata": {
        "id": "G4vb1eRqE-Xb"
      },
      "source": [
        "Ou operar partes de arrays com outras partes de outras arrays **(sem fazer laços!)**, desde que sejam compatíveis em tamanho e dimensões:"
      ]
    },
    {
      "cell_type": "code",
      "execution_count": null,
      "metadata": {
        "id": "VRPaMbvaE-Xb",
        "outputId": "0f2f3ea2-0ce2-49db-84ed-7bb341fe51fe"
      },
      "outputs": [
        {
          "data": {
            "text/plain": [
              "array([ 7.77777778, 10.        , 12.22222222, 14.44444444, 16.66666667])"
            ]
          },
          "execution_count": 72,
          "metadata": {},
          "output_type": "execute_result"
        }
      ],
      "source": [
        "array2 = np.linspace(0, 5, 10)\n",
        "array3 = array1[:5] + array2[5:]\n",
        "\n",
        "array3"
      ]
    },
    {
      "attachments": {},
      "cell_type": "markdown",
      "metadata": {
        "id": "_rfyJDXiE-Xd"
      },
      "source": [
        "Esse tipo de operação entre arrays, sem laços, é conhecida como uma das coisas mais poderosas da NumPy, e é comumente chamado de vetorização. Vejamos que alguns exemplos de performance:"
      ]
    },
    {
      "cell_type": "code",
      "execution_count": null,
      "metadata": {
        "id": "hy7OSp9lE-Xe"
      },
      "outputs": [],
      "source": [
        "array1, array2 = rnd.random(1000), rnd.random(1000)\n",
        "n = 800"
      ]
    },
    {
      "cell_type": "code",
      "execution_count": null,
      "metadata": {
        "id": "Vxt4LZTKE-Xe",
        "outputId": "b1bfcde5-c876-46bd-ebfe-a7bea143e647"
      },
      "outputs": [
        {
          "name": "stdout",
          "output_type": "stream",
          "text": [
            "661 µs ± 11.9 µs per loop (mean ± std. dev. of 7 runs, 1000 loops each)\n"
          ]
        }
      ],
      "source": [
        "%%timeit\n",
        "array3 = np.zeros(n)\n",
        "for i in range(n):\n",
        "    array3[i] = array1[i] + array2[i]\n",
        "    \n",
        "array3"
      ]
    },
    {
      "cell_type": "code",
      "execution_count": null,
      "metadata": {
        "id": "9gFcQ2BFE-Xe",
        "outputId": "82c7b814-438d-4104-c2d1-e9f5dafc5b9d"
      },
      "outputs": [
        {
          "name": "stdout",
          "output_type": "stream",
          "text": [
            "1.95 µs ± 393 ns per loop (mean ± std. dev. of 7 runs, 100000 loops each)\n"
          ]
        }
      ],
      "source": [
        "%%timeit\n",
        "array3 = array1[:n] + array2[:n]\n",
        "\n",
        "array3"
      ]
    },
    {
      "attachments": {},
      "cell_type": "markdown",
      "metadata": {
        "id": "5YsYGCGBE-Xf"
      },
      "source": [
        "Então podemos verificar que há um ganho de performance/complexidade temporal na ordem de 300 com a operação vetorizada."
      ]
    },
    {
      "attachments": {},
      "cell_type": "markdown",
      "metadata": {
        "id": "e9BZmTHhE-Xf"
      },
      "source": [
        "##### Array multidimensional"
      ]
    },
    {
      "attachments": {},
      "cell_type": "markdown",
      "metadata": {
        "id": "7NsCLZwtE-Xg"
      },
      "source": [
        "Neste caso, o fatiamento é aplicado em cada eixo (`axis`) separadamente."
      ]
    },
    {
      "cell_type": "code",
      "execution_count": null,
      "metadata": {
        "id": "uwxODFjXE-Xg",
        "outputId": "e1d45926-ad65-48d2-a189-9a5f8630bf95"
      },
      "outputs": [
        {
          "name": "stdout",
          "output_type": "stream",
          "text": [
            "[[1 2 0 4]\n",
            " [3 1 4 4]\n",
            " [1 1 1 0]\n",
            " [2 1 2 2]]\n"
          ]
        }
      ],
      "source": [
        "shape = (4, 4)\n",
        "matrix1 = rnd.randint(5, size=shape)\n",
        "\n",
        "print(matrix1)"
      ]
    },
    {
      "attachments": {},
      "cell_type": "markdown",
      "metadata": {
        "id": "eW0oDA3vE-Xg"
      },
      "source": [
        "* Todas as linhas (`:`) da coluna 2:"
      ]
    },
    {
      "cell_type": "code",
      "execution_count": null,
      "metadata": {
        "id": "JenwxXMTE-Xh",
        "outputId": "462141dd-bb56-4d2c-f45e-369d94d8e105"
      },
      "outputs": [
        {
          "data": {
            "text/plain": [
              "array([2, 1, 1, 1])"
            ]
          },
          "execution_count": 77,
          "metadata": {},
          "output_type": "execute_result"
        }
      ],
      "source": [
        "matrix1[:, 1]"
      ]
    },
    {
      "attachments": {},
      "cell_type": "markdown",
      "metadata": {
        "id": "680nQGn6E-Xi"
      },
      "source": [
        "* Todas as colunas da linha 4:"
      ]
    },
    {
      "cell_type": "code",
      "execution_count": null,
      "metadata": {
        "id": "wmvKcdk1E-Xi",
        "outputId": "b4d6573b-d5ed-4879-d68d-81fb3e4aa113"
      },
      "outputs": [
        {
          "data": {
            "text/plain": [
              "array([2, 1, 2, 2])"
            ]
          },
          "execution_count": 78,
          "metadata": {},
          "output_type": "execute_result"
        }
      ],
      "source": [
        "matrix1[3, :]"
      ]
    },
    {
      "attachments": {},
      "cell_type": "markdown",
      "metadata": {
        "id": "QuztNwXDE-Xj"
      },
      "source": [
        "* Uma matriz formada das linhas 1 até 3 e com as colunas de 2 e 3 `matrix1`:"
      ]
    },
    {
      "cell_type": "code",
      "execution_count": null,
      "metadata": {
        "id": "aqiBsS6-E-Xk",
        "outputId": "fc5b3399-59c0-4b78-9582-60fc20a42ec7"
      },
      "outputs": [
        {
          "data": {
            "text/plain": [
              "array([[2, 0],\n",
              "       [1, 4],\n",
              "       [1, 1]])"
            ]
          },
          "execution_count": 79,
          "metadata": {},
          "output_type": "execute_result"
        }
      ],
      "source": [
        "matrix2 = matrix1[:3, 1:3]\n",
        "\n",
        "matrix2"
      ]
    },
    {
      "attachments": {},
      "cell_type": "markdown",
      "metadata": {
        "id": "xOqRLpmJE-Xl"
      },
      "source": [
        "Agora vamos fazer também um comparativo de performance."
      ]
    },
    {
      "cell_type": "code",
      "execution_count": null,
      "metadata": {
        "id": "cNwB8D3CE-Xl"
      },
      "outputs": [],
      "source": [
        "shape = (200, 200)\n",
        "matrix1 = rnd.randint(5, size=shape)\n",
        "matrix2 = rnd.randint(5, size=shape)\n",
        "matrix3, matrix3_loop = np.zeros(shape), np.zeros(shape)"
      ]
    },
    {
      "cell_type": "code",
      "execution_count": null,
      "metadata": {
        "id": "H4ueS8YeE-Xl",
        "outputId": "764292f1-372f-4cc8-b493-4549b6d2309d"
      },
      "outputs": [
        {
          "name": "stdout",
          "output_type": "stream",
          "text": [
            "23.2 ms ± 477 µs per loop (mean ± std. dev. of 7 runs, 10 loops each)\n"
          ]
        }
      ],
      "source": [
        "%%timeit\n",
        "for j in range(matrix1.shape[0]):\n",
        "    for i in range(matrix1.shape[1]):\n",
        "        matrix3_loop[i, j] = matrix1[i, j] + matrix2[i, j]"
      ]
    },
    {
      "cell_type": "code",
      "execution_count": null,
      "metadata": {
        "id": "MTVufC6XE-Xm",
        "outputId": "11325b30-3750-46bd-e6d1-a7e852cf6750"
      },
      "outputs": [
        {
          "name": "stdout",
          "output_type": "stream",
          "text": [
            "43.5 µs ± 586 ns per loop (mean ± std. dev. of 7 runs, 10000 loops each)\n"
          ]
        }
      ],
      "source": [
        "%%timeit\n",
        "matrix3[:, :] = matrix1[:, :] + matrix2[:, :]"
      ]
    },
    {
      "attachments": {},
      "cell_type": "markdown",
      "metadata": {
        "id": "Xcjdfp5hE-Xn"
      },
      "source": [
        "Apenas fazendo um simples teste de sanidade:"
      ]
    },
    {
      "cell_type": "code",
      "execution_count": null,
      "metadata": {
        "id": "r5FgjeScE-Xn",
        "outputId": "a5b42036-7f37-4a8e-b8d4-abc11c1da33e"
      },
      "outputs": [
        {
          "data": {
            "text/plain": [
              "True"
            ]
          },
          "execution_count": 83,
          "metadata": {},
          "output_type": "execute_result"
        }
      ],
      "source": [
        "np.array_equal(matrix3, matrix3_loop)"
      ]
    },
    {
      "attachments": {},
      "cell_type": "markdown",
      "metadata": {
        "id": "TSvf6CcQE-Xo"
      },
      "source": [
        "Disso, vemos que as operações foram equivalentes, porém a forma vetorizada teve um ganho em performance/complexidade temporal praticamente de $\\mathcal{O}(10^3)$."
      ]
    },
    {
      "attachments": {},
      "cell_type": "markdown",
      "metadata": {
        "id": "Q3jNNlpFE-Xp"
      },
      "source": [
        "#### Iterações"
      ]
    },
    {
      "attachments": {},
      "cell_type": "markdown",
      "metadata": {
        "id": "qZDm6k1pE-Xp"
      },
      "source": [
        "De forma análoga às listas em Python, podemos iterar sobre objetos `numpy.ndarray`."
      ]
    },
    {
      "cell_type": "code",
      "execution_count": null,
      "metadata": {
        "id": "subHA1G3E-Xq",
        "outputId": "a8c8ecc5-6be8-44b5-bd2c-1f3e1d886819"
      },
      "outputs": [
        {
          "data": {
            "text/plain": [
              "array([[1, 3, 0],\n",
              "       [9, 6, 3],\n",
              "       [4, 9, 9]])"
            ]
          },
          "execution_count": 84,
          "metadata": {},
          "output_type": "execute_result"
        }
      ],
      "source": [
        "matrix1 = rnd.randint(10, size=(3, 3))\n",
        "matrix1"
      ]
    },
    {
      "cell_type": "code",
      "execution_count": null,
      "metadata": {
        "id": "AXAKt-w_E-Xq",
        "outputId": "c77858f6-97f2-47c1-ae90-d6f8f3afe8ed"
      },
      "outputs": [
        {
          "name": "stdout",
          "output_type": "stream",
          "text": [
            "[1 3 0]\n",
            "[9 6 3]\n",
            "[4 9 9]\n"
          ]
        }
      ],
      "source": [
        "for row in matrix1:\n",
        "    print(row)"
      ]
    },
    {
      "attachments": {},
      "cell_type": "markdown",
      "metadata": {
        "id": "APpPAfD6E-Xr"
      },
      "source": [
        "Também é válido para percorrer elementos em vetores (arrays unidimensionais):"
      ]
    },
    {
      "cell_type": "code",
      "execution_count": null,
      "metadata": {
        "id": "79APqNwZE-Xs",
        "outputId": "4736cc65-f286-4c00-e602-b352a80ebfdd"
      },
      "outputs": [
        {
          "data": {
            "text/plain": [
              "array([0, 2, 3, 0, 4])"
            ]
          },
          "execution_count": 86,
          "metadata": {},
          "output_type": "execute_result"
        }
      ],
      "source": [
        "array1 = rnd.randint(5, size=5)\n",
        "array1"
      ]
    },
    {
      "cell_type": "code",
      "execution_count": null,
      "metadata": {
        "id": "2tdgX8CDE-Xt",
        "outputId": "1c06dd5b-0376-41f5-f956-98c3aeb62a11"
      },
      "outputs": [
        {
          "name": "stdout",
          "output_type": "stream",
          "text": [
            "0\n",
            "2\n",
            "3\n",
            "0\n",
            "4\n"
          ]
        }
      ],
      "source": [
        "for element in array1:\n",
        "    print(element)"
      ]
    },
    {
      "attachments": {},
      "cell_type": "markdown",
      "metadata": {
        "id": "yXyhMwIvE-Xt"
      },
      "source": [
        "### Manipulação de shapes"
      ]
    },
    {
      "attachments": {},
      "cell_type": "markdown",
      "metadata": {
        "id": "Ff3doYimE-Xu"
      },
      "source": [
        "Em situações práticas, pode ser que seja necessário um rearranjo da configuração de um array. Aqui veremos brevemente como podemos mudar os shapes dos arrays."
      ]
    },
    {
      "cell_type": "code",
      "execution_count": null,
      "metadata": {
        "id": "7PmIiZZwE-Xu",
        "outputId": "33e9ddd6-d04e-47dc-86c4-fac0967c17f7"
      },
      "outputs": [
        {
          "data": {
            "text/plain": [
              "array([[3, 7, 8, 0],\n",
              "       [1, 2, 7, 7],\n",
              "       [7, 7, 5, 4]])"
            ]
          },
          "execution_count": 88,
          "metadata": {},
          "output_type": "execute_result"
        }
      ],
      "source": [
        "shape = (3, 4)\n",
        "matrix1 = rnd.randint(10, size=shape)\n",
        "\n",
        "matrix1"
      ]
    },
    {
      "cell_type": "code",
      "execution_count": null,
      "metadata": {
        "id": "2bT0T2EoE-Xv",
        "outputId": "6afc03b8-72b5-42c5-b9dc-1502d9171835"
      },
      "outputs": [
        {
          "data": {
            "text/plain": [
              "(3, 4)"
            ]
          },
          "execution_count": 89,
          "metadata": {},
          "output_type": "execute_result"
        }
      ],
      "source": [
        "matrix1.shape"
      ]
    },
    {
      "attachments": {},
      "cell_type": "markdown",
      "metadata": {
        "id": "JDPncBSdE-Xv"
      },
      "source": [
        "Como já vimos, o atributo `shape` nos informa quantos elementos há em cada eixo do array multidimensional. Inicialmente, vamos transformar a `matrix1` em um array unidimensional:"
      ]
    },
    {
      "cell_type": "code",
      "execution_count": null,
      "metadata": {
        "id": "JGOMnaKgE-Xx",
        "outputId": "2f595bb9-07ec-4fa9-d526-0c9f30f48c45"
      },
      "outputs": [
        {
          "data": {
            "text/plain": [
              "array([3, 7, 8, 0, 1, 2, 7, 7, 7, 7, 5, 4])"
            ]
          },
          "execution_count": 90,
          "metadata": {},
          "output_type": "execute_result"
        }
      ],
      "source": [
        "matrix1.ravel()"
      ]
    },
    {
      "attachments": {},
      "cell_type": "markdown",
      "metadata": {
        "id": "b2HGHadOE-Xx"
      },
      "source": [
        "Podemos também rearranjar o conteúdo de um array para um outro shape:"
      ]
    },
    {
      "cell_type": "code",
      "execution_count": null,
      "metadata": {
        "id": "bSlqPRMOE-Xy",
        "outputId": "44e5ee01-9fa5-418a-f71d-869c8e3bf4d7"
      },
      "outputs": [
        {
          "data": {
            "text/plain": [
              "array([[3, 7, 8, 0, 1, 2],\n",
              "       [7, 7, 7, 7, 5, 4]])"
            ]
          },
          "execution_count": 91,
          "metadata": {},
          "output_type": "execute_result"
        }
      ],
      "source": [
        "new_shape = (2, 6)\n",
        "matrix1.reshape(new_shape)"
      ]
    },
    {
      "attachments": {},
      "cell_type": "markdown",
      "metadata": {
        "id": "as1Xd6rBE-Xy"
      },
      "source": [
        "Note que é necessário que `shape[0] * shape[1] = new_shape[0] * new_shape[1]`. Mais precisamente, o tamanho do array rearranjado deve ser igual ao do array original. Veja o erro abaixo:"
      ]
    },
    {
      "cell_type": "code",
      "execution_count": null,
      "metadata": {
        "id": "8Z5HNPE8E-Xz",
        "outputId": "caab9703-f78f-471e-e475-f5b44dfa7b78"
      },
      "outputs": [
        {
          "ename": "ValueError",
          "evalue": "cannot reshape array of size 12 into shape (3,3)",
          "output_type": "error",
          "traceback": [
            "\u001b[0;31m---------------------------------------------------------------------------\u001b[0m",
            "\u001b[0;31mValueError\u001b[0m                                Traceback (most recent call last)",
            "\u001b[0;32m<ipython-input-92-e395430efd40>\u001b[0m in \u001b[0;36m<module>\u001b[0;34m\u001b[0m\n\u001b[1;32m      1\u001b[0m \u001b[0mnew_shape\u001b[0m \u001b[0;34m=\u001b[0m \u001b[0;34m(\u001b[0m\u001b[0;36m3\u001b[0m\u001b[0;34m,\u001b[0m \u001b[0;36m3\u001b[0m\u001b[0;34m)\u001b[0m\u001b[0;34m\u001b[0m\u001b[0;34m\u001b[0m\u001b[0m\n\u001b[0;32m----> 2\u001b[0;31m \u001b[0mmatrix1\u001b[0m\u001b[0;34m.\u001b[0m\u001b[0mreshape\u001b[0m\u001b[0;34m(\u001b[0m\u001b[0mnew_shape\u001b[0m\u001b[0;34m)\u001b[0m\u001b[0;34m\u001b[0m\u001b[0;34m\u001b[0m\u001b[0m\n\u001b[0m",
            "\u001b[0;31mValueError\u001b[0m: cannot reshape array of size 12 into shape (3,3)"
          ]
        }
      ],
      "source": [
        "new_shape = (3, 3)\n",
        "matrix1.reshape(new_shape)"
      ]
    },
    {
      "attachments": {},
      "cell_type": "markdown",
      "metadata": {
        "id": "6jkCrwHrE-Xz"
      },
      "source": [
        "É importante observar que o `reshape` não altera o array original, apenas devolve um array rearranjado em relação ao original:"
      ]
    },
    {
      "cell_type": "code",
      "execution_count": null,
      "metadata": {
        "id": "gjT_CObiE-X0",
        "outputId": "f67bea9c-5816-4b45-fe7e-ae272ab612f4"
      },
      "outputs": [
        {
          "data": {
            "text/plain": [
              "array([[3, 7, 8, 0],\n",
              "       [1, 2, 7, 7],\n",
              "       [7, 7, 5, 4]])"
            ]
          },
          "execution_count": 93,
          "metadata": {},
          "output_type": "execute_result"
        }
      ],
      "source": [
        "matrix1"
      ]
    },
    {
      "attachments": {},
      "cell_type": "markdown",
      "metadata": {
        "id": "XPIXCBWqE-X0"
      },
      "source": [
        "Portanto, `matrix1` se mantém inalterada. Isso não ocorre quando se utiliza o `resize`, que modifica também o array original:"
      ]
    },
    {
      "cell_type": "code",
      "execution_count": null,
      "metadata": {
        "id": "yB47OMufE-X0",
        "outputId": "b66fa6be-c4a6-49a9-90b9-43d0fcf62e7c"
      },
      "outputs": [
        {
          "data": {
            "text/plain": [
              "array([[3, 7, 8, 0, 1, 2],\n",
              "       [7, 7, 7, 7, 5, 4]])"
            ]
          },
          "execution_count": 94,
          "metadata": {},
          "output_type": "execute_result"
        }
      ],
      "source": [
        "new_shape = (2, 6)\n",
        "matrix1.resize(new_shape)\n",
        "\n",
        "matrix1"
      ]
    },
    {
      "attachments": {},
      "cell_type": "markdown",
      "metadata": {
        "id": "7ph-kr68E-X1"
      },
      "source": [
        "### Empilhamento de arrays"
      ]
    },
    {
      "attachments": {},
      "cell_type": "markdown",
      "metadata": {
        "id": "GMydaPPXE-X1"
      },
      "source": [
        "Digamos que precisamos unir os dados presentes em dois arrays diferentes. Aqui veremos sucintamente algumas maneiras de fazer isso."
      ]
    },
    {
      "cell_type": "code",
      "execution_count": null,
      "metadata": {
        "id": "e_Q-K86gE-X1",
        "outputId": "a27b097a-dab3-418c-9b84-d555471c00f5"
      },
      "outputs": [
        {
          "name": "stdout",
          "output_type": "stream",
          "text": [
            "[[1 3]\n",
            " [2 1]] \n",
            "\n",
            "[[1 3]\n",
            " [2 3]]\n"
          ]
        }
      ],
      "source": [
        "shape = (2, 2)\n",
        "matrix1, matrix2 = rnd.randint(5, size=shape), rnd.randint(4, size=shape)\n",
        "\n",
        "print(matrix1, '\\n')\n",
        "print(matrix2)"
      ]
    },
    {
      "attachments": {},
      "cell_type": "markdown",
      "metadata": {
        "id": "6LfT9OvLE-X2"
      },
      "source": [
        "* Empilhamento horizontal"
      ]
    },
    {
      "attachments": {},
      "cell_type": "markdown",
      "metadata": {
        "id": "MacIqRnSE-X2"
      },
      "source": [
        "Os arrays são concatenados horizontalmente:"
      ]
    },
    {
      "cell_type": "code",
      "execution_count": null,
      "metadata": {
        "id": "wnhtc-U2E-X3",
        "outputId": "dbd1e48e-005a-44bd-c0b5-815b20cbfa80"
      },
      "outputs": [
        {
          "data": {
            "text/plain": [
              "array([[1, 3, 1, 3],\n",
              "       [2, 1, 2, 3]])"
            ]
          },
          "execution_count": 96,
          "metadata": {},
          "output_type": "execute_result"
        }
      ],
      "source": [
        "np.hstack([matrix1, matrix2])"
      ]
    },
    {
      "attachments": {},
      "cell_type": "markdown",
      "metadata": {
        "id": "FI5tfZBfE-X3"
      },
      "source": [
        "* Empilhamento vertical"
      ]
    },
    {
      "attachments": {},
      "cell_type": "markdown",
      "metadata": {
        "id": "dUuAc6sPE-X4"
      },
      "source": [
        "Analogamente:"
      ]
    },
    {
      "cell_type": "code",
      "execution_count": null,
      "metadata": {
        "id": "P-bxuVdUE-X4",
        "outputId": "58237b6e-d9e3-488d-b413-2923b97bed1a"
      },
      "outputs": [
        {
          "data": {
            "text/plain": [
              "array([[1, 3],\n",
              "       [2, 1],\n",
              "       [1, 3],\n",
              "       [2, 3]])"
            ]
          },
          "execution_count": 97,
          "metadata": {},
          "output_type": "execute_result"
        }
      ],
      "source": [
        "np.vstack([matrix1, matrix2])"
      ]
    },
    {
      "attachments": {},
      "cell_type": "markdown",
      "metadata": {
        "id": "KHgnXXrtE-X4"
      },
      "source": [
        "* Empilhamento de um vetor como coluna em uma matriz"
      ]
    },
    {
      "cell_type": "code",
      "execution_count": null,
      "metadata": {
        "id": "Jemg9Zj7E-X4",
        "outputId": "a8901368-c209-4b9d-f954-2b10d16e1ef1"
      },
      "outputs": [
        {
          "ename": "ValueError",
          "evalue": "all the input arrays must have same number of dimensions",
          "output_type": "error",
          "traceback": [
            "\u001b[0;31m---------------------------------------------------------------------------\u001b[0m",
            "\u001b[0;31mValueError\u001b[0m                                Traceback (most recent call last)",
            "\u001b[0;32m<ipython-input-98-9bfd43ac53dc>\u001b[0m in \u001b[0;36m<module>\u001b[0;34m\u001b[0m\n\u001b[1;32m      1\u001b[0m \u001b[0marray1\u001b[0m \u001b[0;34m=\u001b[0m \u001b[0mnp\u001b[0m\u001b[0;34m.\u001b[0m\u001b[0marray\u001b[0m\u001b[0;34m(\u001b[0m\u001b[0;34m[\u001b[0m\u001b[0;36m10.\u001b[0m\u001b[0;34m,\u001b[0m \u001b[0;36m10.\u001b[0m\u001b[0;34m]\u001b[0m\u001b[0;34m)\u001b[0m\u001b[0;34m\u001b[0m\u001b[0;34m\u001b[0m\u001b[0m\n\u001b[1;32m      2\u001b[0m \u001b[0;34m\u001b[0m\u001b[0m\n\u001b[0;32m----> 3\u001b[0;31m \u001b[0mnp\u001b[0m\u001b[0;34m.\u001b[0m\u001b[0mhstack\u001b[0m\u001b[0;34m(\u001b[0m\u001b[0;34m[\u001b[0m\u001b[0mmatrix1\u001b[0m\u001b[0;34m,\u001b[0m \u001b[0marray1\u001b[0m\u001b[0;34m]\u001b[0m\u001b[0;34m)\u001b[0m\u001b[0;34m\u001b[0m\u001b[0;34m\u001b[0m\u001b[0m\n\u001b[0m",
            "\u001b[0;32m~/miniconda3/envs/sci_env/lib/python3.7/site-packages/numpy/core/shape_base.py\u001b[0m in \u001b[0;36mhstack\u001b[0;34m(tup)\u001b[0m\n\u001b[1;32m    338\u001b[0m         \u001b[0;32mreturn\u001b[0m \u001b[0m_nx\u001b[0m\u001b[0;34m.\u001b[0m\u001b[0mconcatenate\u001b[0m\u001b[0;34m(\u001b[0m\u001b[0marrs\u001b[0m\u001b[0;34m,\u001b[0m \u001b[0;36m0\u001b[0m\u001b[0;34m)\u001b[0m\u001b[0;34m\u001b[0m\u001b[0;34m\u001b[0m\u001b[0m\n\u001b[1;32m    339\u001b[0m     \u001b[0;32melse\u001b[0m\u001b[0;34m:\u001b[0m\u001b[0;34m\u001b[0m\u001b[0;34m\u001b[0m\u001b[0m\n\u001b[0;32m--> 340\u001b[0;31m         \u001b[0;32mreturn\u001b[0m \u001b[0m_nx\u001b[0m\u001b[0;34m.\u001b[0m\u001b[0mconcatenate\u001b[0m\u001b[0;34m(\u001b[0m\u001b[0marrs\u001b[0m\u001b[0;34m,\u001b[0m \u001b[0;36m1\u001b[0m\u001b[0;34m)\u001b[0m\u001b[0;34m\u001b[0m\u001b[0;34m\u001b[0m\u001b[0m\n\u001b[0m\u001b[1;32m    341\u001b[0m \u001b[0;34m\u001b[0m\u001b[0m\n\u001b[1;32m    342\u001b[0m \u001b[0;34m\u001b[0m\u001b[0m\n",
            "\u001b[0;31mValueError\u001b[0m: all the input arrays must have same number of dimensions"
          ]
        }
      ],
      "source": [
        "array1 = np.array([10., 10.])\n",
        "\n",
        "np.hstack([matrix1, array1])"
      ]
    },
    {
      "attachments": {},
      "cell_type": "markdown",
      "metadata": {
        "id": "dhth0UwzE-X5"
      },
      "source": [
        "Observe que isso não é possível com o `hstack`. Porém, temos o `column_stack` para nos salvar!"
      ]
    },
    {
      "cell_type": "code",
      "execution_count": null,
      "metadata": {
        "id": "UYXRBSx5E-X5",
        "outputId": "62f6cfcf-f9b3-4a02-8350-998d14ca098d"
      },
      "outputs": [
        {
          "data": {
            "text/plain": [
              "array([[ 1.,  3., 10.],\n",
              "       [ 2.,  1., 10.]])"
            ]
          },
          "execution_count": 99,
          "metadata": {},
          "output_type": "execute_result"
        }
      ],
      "source": [
        "np.column_stack([matrix1, array1])"
      ]
    },
    {
      "attachments": {},
      "cell_type": "markdown",
      "metadata": {
        "id": "Y99VvlKOE-X5"
      },
      "source": [
        "Também podemos utilizar o `column_stack` para montar um array multidimensional a partir de arrays que irão compor as colunas:"
      ]
    },
    {
      "cell_type": "code",
      "execution_count": null,
      "metadata": {
        "id": "VJsPjSCVE-X6",
        "outputId": "7966d727-5171-405e-eec5-665e7b89dab7"
      },
      "outputs": [
        {
          "data": {
            "text/plain": [
              "array([[10., 15.],\n",
              "       [10., 30.]])"
            ]
          },
          "execution_count": 100,
          "metadata": {},
          "output_type": "execute_result"
        }
      ],
      "source": [
        "array2 = np.array([15, 30])\n",
        "\n",
        "np.column_stack([array1, array2])"
      ]
    },
    {
      "attachments": {},
      "cell_type": "markdown",
      "metadata": {
        "id": "WtMVwGfIE-X6"
      },
      "source": [
        "Analogamente, podemos concatenar como linhas:"
      ]
    },
    {
      "cell_type": "code",
      "execution_count": null,
      "metadata": {
        "id": "wjtYB-UpE-X6",
        "outputId": "97c95388-ad28-42d8-f5c3-e95b643996df"
      },
      "outputs": [
        {
          "data": {
            "text/plain": [
              "array([[10., 10.],\n",
              "       [15., 30.]])"
            ]
          },
          "execution_count": 101,
          "metadata": {},
          "output_type": "execute_result"
        }
      ],
      "source": [
        "np.row_stack([array1, array2])"
      ]
    },
    {
      "attachments": {},
      "cell_type": "markdown",
      "metadata": {
        "id": "T-rXQNCJE-X7"
      },
      "source": [
        "Em tempo, podemos adicionar dois arrays com a função `append`, que difere um pouco do seu primo nos objetos `list`:"
      ]
    },
    {
      "cell_type": "code",
      "execution_count": null,
      "metadata": {
        "id": "oqiCnaZrE-X7",
        "outputId": "2368b4fa-4b06-47b2-9b7b-f078fc49626f"
      },
      "outputs": [
        {
          "data": {
            "text/plain": [
              "array([10., 10., 15., 30.])"
            ]
          },
          "execution_count": 102,
          "metadata": {},
          "output_type": "execute_result"
        }
      ],
      "source": [
        "np.append(array1, array2)"
      ]
    },
    {
      "attachments": {},
      "cell_type": "markdown",
      "metadata": {
        "id": "H6wdWzbqE-X8"
      },
      "source": [
        "Isso também pode ser usado no numpy para criar arrays \"dinamicamente\" (que não existe no numpy, exatamente):"
      ]
    },
    {
      "cell_type": "code",
      "execution_count": null,
      "metadata": {
        "id": "mRYpVqpDE-X8",
        "outputId": "ddecbcd8-b8c2-4ccf-df1e-74ba50af7ca4"
      },
      "outputs": [
        {
          "data": {
            "text/plain": [
              "array([0., 1., 2., 3., 4., 5., 6., 7., 8., 9.])"
            ]
          },
          "execution_count": 103,
          "metadata": {},
          "output_type": "execute_result"
        }
      ],
      "source": [
        "an_array = np.array([])  # cria um array vazio\n",
        "for i in range(10):\n",
        "    an_array = np.append(an_array, i)\n",
        "    \n",
        "an_array"
      ]
    },
    {
      "attachments": {},
      "cell_type": "markdown",
      "metadata": {
        "id": "9GHrgSYDE-X8"
      },
      "source": [
        "A grosso modo, a função `append` possui a seguinte sintaxe: `np.append(array, value)`, onde `array` será adicionado por `value`, que pode ser também um outro `ndarray` ou tipos compatíveis, como `list` ou `tuple`. O `append` não modifica o `array`, retorna um novo `ndarray` com operado como requerido na chamada da função.\n",
        "\n",
        "**Observação:** Criar arrays com `append` pode ser custoso! Afinal, usa laços em Python."
      ]
    },
    {
      "attachments": {},
      "cell_type": "markdown",
      "metadata": {
        "id": "jRtEDsrqE-X8"
      },
      "source": [
        "### Cópias e visões de arrays"
      ]
    },
    {
      "attachments": {},
      "cell_type": "markdown",
      "metadata": {
        "id": "-lSvIMQgE-X9"
      },
      "source": [
        "Durante criação e manipulações de arrays, às vezes cópias são realizadas ou às vezes temos apenas visões dos arrays. Com numpy, temos alguns tipos de cópias e isso pode ser crucial quando desejamos manipular dados apropriadamente ou mantê-los intactos. Basicamente, temos apenas três casos e os veremos a seguir."
      ]
    },
    {
      "attachments": {},
      "cell_type": "markdown",
      "metadata": {
        "id": "KP9onvwHE-X9"
      },
      "source": [
        "#### Sem cópias"
      ]
    },
    {
      "attachments": {},
      "cell_type": "markdown",
      "metadata": {
        "id": "tFoRoeC-E-X9"
      },
      "source": [
        "Em geral, declarações não fazem cópias dos arrays."
      ]
    },
    {
      "cell_type": "code",
      "execution_count": null,
      "metadata": {
        "id": "DSF2o9gZE-X9",
        "outputId": "a7925b2e-222b-4c16-f293-60183d45c84f"
      },
      "outputs": [
        {
          "data": {
            "text/plain": [
              "array([0, 2, 4, 6, 8])"
            ]
          },
          "execution_count": 104,
          "metadata": {},
          "output_type": "execute_result"
        }
      ],
      "source": [
        "array1 = np.arange(0, 10, 2)\n",
        "\n",
        "array1"
      ]
    },
    {
      "cell_type": "code",
      "execution_count": null,
      "metadata": {
        "id": "In1MAGTnE-X-",
        "outputId": "b48490e0-cfb0-4a04-ddaa-d520015a54bd"
      },
      "outputs": [
        {
          "data": {
            "text/plain": [
              "True"
            ]
          },
          "execution_count": 105,
          "metadata": {},
          "output_type": "execute_result"
        }
      ],
      "source": [
        "array2 = array1\n",
        "\n",
        "array1 is array2"
      ]
    },
    {
      "attachments": {},
      "cell_type": "markdown",
      "metadata": {
        "id": "kq6QLqEAE-X_"
      },
      "source": [
        "Então os arrays são iguais. Em Python, isso quer dizer que um mesmo objeto possui dois nomes (ou mais). O que acontece se um dos arrays for modificado?"
      ]
    },
    {
      "cell_type": "code",
      "execution_count": null,
      "metadata": {
        "id": "s4JWPU4IE-X_",
        "outputId": "30579629-d978-4504-9ef4-60a87c42673d"
      },
      "outputs": [
        {
          "data": {
            "text/plain": [
              "array([ 0,  2,  4,  6, 10])"
            ]
          },
          "execution_count": 106,
          "metadata": {},
          "output_type": "execute_result"
        }
      ],
      "source": [
        "array2[-1] = 10\n",
        "\n",
        "array1"
      ]
    },
    {
      "attachments": {},
      "cell_type": "markdown",
      "metadata": {
        "id": "mBlRQzq7E-X_"
      },
      "source": [
        "É importante ter **muita atenção** nisso, pois é uma fonte de bugs frequente. Funções em Python também modificam o valor dos argumentos:"
      ]
    },
    {
      "cell_type": "code",
      "execution_count": null,
      "metadata": {
        "id": "2KwjPjt6E-YA"
      },
      "outputs": [],
      "source": [
        "def f_bug(x):\n",
        "    x[0] = 20.0\n",
        "    print(x)"
      ]
    },
    {
      "cell_type": "code",
      "execution_count": null,
      "metadata": {
        "id": "MGh93ouaE-YA",
        "outputId": "c45cc0c0-9728-434e-fbd3-f8e6b56a8c22"
      },
      "outputs": [
        {
          "name": "stdout",
          "output_type": "stream",
          "text": [
            "[20  2  4  6 10]\n"
          ]
        }
      ],
      "source": [
        "f_bug(array1)"
      ]
    },
    {
      "cell_type": "code",
      "execution_count": null,
      "metadata": {
        "id": "5H2-WzrhE-YB",
        "outputId": "787cee6e-e38c-49e1-8ff6-dbaff834348a"
      },
      "outputs": [
        {
          "data": {
            "text/plain": [
              "array([20,  2,  4,  6, 10])"
            ]
          },
          "execution_count": 109,
          "metadata": {},
          "output_type": "execute_result"
        }
      ],
      "source": [
        "array1"
      ]
    },
    {
      "attachments": {},
      "cell_type": "markdown",
      "metadata": {
        "id": "a0E-1uIUE-YB"
      },
      "source": [
        "Isso é conhecido como **passagem por referência** de um argumento de uma função."
      ]
    },
    {
      "attachments": {},
      "cell_type": "markdown",
      "metadata": {
        "id": "TEDCDUyzE-YB"
      },
      "source": [
        "#### Visão ou cópia raza (shallow copy)"
      ]
    },
    {
      "attachments": {},
      "cell_type": "markdown",
      "metadata": {
        "id": "UH8jFE_KE-YB"
      },
      "source": [
        "Neste caso, diferentes objetos compartilham os mesmos dados. O método `view` cria um novo array com dados iguais aos de outro array."
      ]
    },
    {
      "cell_type": "code",
      "execution_count": null,
      "metadata": {
        "id": "oa_dCfKjE-YC",
        "outputId": "4abca8db-2d32-48fa-a63f-46dea44be5b1"
      },
      "outputs": [
        {
          "data": {
            "text/plain": [
              "array([20,  2,  4,  6, 10])"
            ]
          },
          "execution_count": 110,
          "metadata": {},
          "output_type": "execute_result"
        }
      ],
      "source": [
        "array2 = array1.view()\n",
        "\n",
        "array2"
      ]
    },
    {
      "cell_type": "code",
      "execution_count": null,
      "metadata": {
        "id": "F-aZp6dNE-YC",
        "outputId": "a994f0ac-428e-40fe-f19f-7cd8644a2a6b"
      },
      "outputs": [
        {
          "data": {
            "text/plain": [
              "False"
            ]
          },
          "execution_count": 111,
          "metadata": {},
          "output_type": "execute_result"
        }
      ],
      "source": [
        "array2 is array1"
      ]
    },
    {
      "cell_type": "code",
      "execution_count": null,
      "metadata": {
        "id": "ZSnXk3RXE-YD",
        "outputId": "e0c5da42-4bc4-4e8a-9942-125f252bb10e"
      },
      "outputs": [
        {
          "data": {
            "text/plain": [
              "True"
            ]
          },
          "execution_count": 112,
          "metadata": {},
          "output_type": "execute_result"
        }
      ],
      "source": [
        "array2.base is array1"
      ]
    },
    {
      "attachments": {},
      "cell_type": "markdown",
      "metadata": {
        "id": "pK5z1qWkE-YD"
      },
      "source": [
        "O que acontece com o `array1` se modificarmos o `array2`?"
      ]
    },
    {
      "cell_type": "code",
      "execution_count": null,
      "metadata": {
        "id": "M0yqKWlQE-YE",
        "outputId": "205fbebd-e14f-4271-80b9-013a86b656b2"
      },
      "outputs": [
        {
          "data": {
            "text/plain": [
              "array([20,  2,  4,  6, 10])"
            ]
          },
          "execution_count": 113,
          "metadata": {},
          "output_type": "execute_result"
        }
      ],
      "source": [
        "array2 = array2 + 5\n",
        "\n",
        "array1"
      ]
    },
    {
      "attachments": {},
      "cell_type": "markdown",
      "metadata": {
        "id": "FwpmfFF3E-YE"
      },
      "source": [
        "Aparentemente tudo OK! Esse tipo de cópia ocorre nos fatiamentos, onde são geradas as \"visões\" dos dados para um novo array:"
      ]
    },
    {
      "cell_type": "code",
      "execution_count": null,
      "metadata": {
        "id": "kzywUKivE-YF",
        "outputId": "c1b487cf-df8c-494d-a47e-85192ed86021"
      },
      "outputs": [
        {
          "data": {
            "text/plain": [
              "array([2, 4, 6])"
            ]
          },
          "execution_count": 114,
          "metadata": {},
          "output_type": "execute_result"
        }
      ],
      "source": [
        "array3 = array1[1:4]\n",
        "\n",
        "array3"
      ]
    },
    {
      "cell_type": "code",
      "execution_count": null,
      "metadata": {
        "id": "qlnOfkBdE-YF",
        "outputId": "f4e1b4d8-a499-4066-c58e-e5ed5bc87068"
      },
      "outputs": [
        {
          "data": {
            "text/plain": [
              "array([20,  2, 40,  6, 10])"
            ]
          },
          "execution_count": 115,
          "metadata": {},
          "output_type": "execute_result"
        }
      ],
      "source": [
        "array3[1] = 40\n",
        "\n",
        "array1"
      ]
    },
    {
      "attachments": {},
      "cell_type": "markdown",
      "metadata": {
        "id": "NRqcWpK1E-YF"
      },
      "source": [
        "Então também devemos tomar cuidado com isso!"
      ]
    },
    {
      "attachments": {},
      "cell_type": "markdown",
      "metadata": {
        "id": "vIKAjOgME-YG"
      },
      "source": [
        "#### Cópia profunda (deep copy)"
      ]
    },
    {
      "attachments": {},
      "cell_type": "markdown",
      "metadata": {
        "id": "dTQe6zOwE-YG"
      },
      "source": [
        "É uma perfeita cópia, totalmente independente dos dados originais (e segura!). É feita por meio do método `copy()`."
      ]
    },
    {
      "cell_type": "code",
      "execution_count": null,
      "metadata": {
        "id": "7GFxvV87E-YG"
      },
      "outputs": [],
      "source": [
        "array3 = array1.copy()"
      ]
    },
    {
      "cell_type": "code",
      "execution_count": null,
      "metadata": {
        "id": "HdRtoztxE-YG",
        "outputId": "2d8a56a5-6115-42bd-8e1e-3cf37d8aa9af"
      },
      "outputs": [
        {
          "data": {
            "text/plain": [
              "False"
            ]
          },
          "execution_count": 117,
          "metadata": {},
          "output_type": "execute_result"
        }
      ],
      "source": [
        "array3 is array1"
      ]
    },
    {
      "cell_type": "code",
      "execution_count": null,
      "metadata": {
        "id": "brgN5AvmE-YH",
        "outputId": "14faefe8-5d75-4516-c012-bb9044eda05b"
      },
      "outputs": [
        {
          "data": {
            "text/plain": [
              "False"
            ]
          },
          "execution_count": 118,
          "metadata": {},
          "output_type": "execute_result"
        }
      ],
      "source": [
        "array3.base is array1"
      ]
    },
    {
      "cell_type": "code",
      "execution_count": null,
      "metadata": {
        "id": "AQNubnpZE-YH",
        "outputId": "adf0db46-d642-477e-be35-a872f597c816"
      },
      "outputs": [
        {
          "data": {
            "text/plain": [
              "array([20,  2, 40,  6, 10])"
            ]
          },
          "execution_count": 119,
          "metadata": {},
          "output_type": "execute_result"
        }
      ],
      "source": [
        "array3[:3] = 0.0\n",
        "\n",
        "array1"
      ]
    },
    {
      "attachments": {},
      "cell_type": "markdown",
      "metadata": {
        "id": "f-RsMNE5E-YH"
      },
      "source": [
        "E assim estamos totalmente a salvo!"
      ]
    },
    {
      "attachments": {},
      "cell_type": "markdown",
      "metadata": {
        "id": "RlZUUDq2E-YH"
      },
      "source": [
        "## Aplicações básicas em Álgebra Linear computacional"
      ]
    },
    {
      "attachments": {},
      "cell_type": "markdown",
      "metadata": {
        "id": "v6CwqC6tE-YI"
      },
      "source": [
        "Nesta seção, iremos ver algumas das funcionalidades voltadas para Álgebra Linear computacional em alguns problemas frequentes. Para consultas e detalhes das funcionalidades disponibilizadas abaixo, a [documentação oficial](https://docs.scipy.org/doc/numpy-1.15.1/reference/routines.linalg.html).\n",
        "\n",
        "A NumPy fornece apenas algumas funcionalidades básicas. Métodos mais complexos e eficientes podem ser utilizados no SciPy, como veremos mais na frente do curso. Na NumPy, as funções de Álgebra Linear estão no sub-pacote `numpy.linalg`."
      ]
    },
    {
      "cell_type": "code",
      "execution_count": null,
      "metadata": {
        "id": "a5s5Q5MTE-YI"
      },
      "outputs": [],
      "source": [
        "import numpy.linalg as la"
      ]
    },
    {
      "attachments": {},
      "cell_type": "markdown",
      "metadata": {
        "id": "JmNGUzMsE-YI"
      },
      "source": [
        "### Operações básicas"
      ]
    },
    {
      "attachments": {},
      "cell_type": "markdown",
      "metadata": {
        "id": "z4_iLTH_E-YJ"
      },
      "source": [
        "Vetores e matrizes para testes: $u, v \\in \\mathbb{R}^n$ e $A, B \\in \\mathbb{R}^{n\\,\\times\\,n}$, $n = 3$."
      ]
    },
    {
      "cell_type": "code",
      "execution_count": null,
      "metadata": {
        "id": "GHRyij7uE-YJ",
        "outputId": "15994539-75f6-4afd-db46-18ec76fe4503"
      },
      "outputs": [
        {
          "name": "stdout",
          "output_type": "stream",
          "text": [
            "u:\n",
            " [0.57012495 0.27262238 0.71554926] \n",
            "\n",
            "v:\n",
            " [0.14246231 0.76020427 0.00672093] \n",
            "\n",
            "A:\n",
            " [[0.36349565 0.62509516 0.40577012]\n",
            " [0.71787282 0.91853055 0.71335495]\n",
            " [0.55643619 0.10764589 0.7500328 ]] \n",
            "\n",
            "B:\n",
            " [[0.52474217 0.3235028  0.31363832]\n",
            " [0.24603614 0.40909994 0.14241992]\n",
            " [0.22472984 0.92455571 0.45881707]]\n"
          ]
        }
      ],
      "source": [
        "n = 3\n",
        "shape = (n, n)\n",
        "u, v = rnd.random(n), rnd.random(n)\n",
        "A, B = rnd.random(size=shape), rnd.random(size=shape)\n",
        "\n",
        "print('u:\\n', u, '\\n')\n",
        "print('v:\\n', v, '\\n')\n",
        "print('A:\\n', A, '\\n')\n",
        "print('B:\\n', B)"
      ]
    },
    {
      "attachments": {},
      "cell_type": "markdown",
      "metadata": {
        "id": "1c2kRiePE-YJ"
      },
      "source": [
        "#### Transposta: $A^T$"
      ]
    },
    {
      "cell_type": "code",
      "execution_count": null,
      "metadata": {
        "id": "2qh8IdrqE-YK",
        "outputId": "2a9c1190-f27f-4347-aba8-bd4b3826638c"
      },
      "outputs": [
        {
          "data": {
            "text/plain": [
              "array([[0.36349565, 0.71787282, 0.55643619],\n",
              "       [0.62509516, 0.91853055, 0.10764589],\n",
              "       [0.40577012, 0.71335495, 0.7500328 ]])"
            ]
          },
          "execution_count": 122,
          "metadata": {},
          "output_type": "execute_result"
        }
      ],
      "source": [
        "A.T"
      ]
    },
    {
      "attachments": {},
      "cell_type": "markdown",
      "metadata": {
        "id": "cqdIvk85E-YK"
      },
      "source": [
        "ou"
      ]
    },
    {
      "cell_type": "code",
      "execution_count": null,
      "metadata": {
        "id": "cNdCaAwXE-YK",
        "outputId": "fa4560d2-0f6e-491a-d1ad-7087878b1240"
      },
      "outputs": [
        {
          "data": {
            "text/plain": [
              "array([[0.36349565, 0.71787282, 0.55643619],\n",
              "       [0.62509516, 0.91853055, 0.10764589],\n",
              "       [0.40577012, 0.71335495, 0.7500328 ]])"
            ]
          },
          "execution_count": 123,
          "metadata": {},
          "output_type": "execute_result"
        }
      ],
      "source": [
        "np.transpose(A)"
      ]
    },
    {
      "attachments": {},
      "cell_type": "markdown",
      "metadata": {
        "id": "OpDoXvQVE-YL"
      },
      "source": [
        "#### Produto interno"
      ]
    },
    {
      "attachments": {},
      "cell_type": "markdown",
      "metadata": {
        "id": "wGPeIb-BE-YL"
      },
      "source": [
        "$u \\cdot v$"
      ]
    },
    {
      "cell_type": "code",
      "execution_count": null,
      "metadata": {
        "id": "H_CahtWgE-YL",
        "outputId": "b8a220cc-ec2a-4a86-dfce-4cfb41fa0295"
      },
      "outputs": [
        {
          "data": {
            "text/plain": [
              "0.29327917230988837"
            ]
          },
          "execution_count": 124,
          "metadata": {},
          "output_type": "execute_result"
        }
      ],
      "source": [
        "np.dot(u, v)"
      ]
    },
    {
      "attachments": {},
      "cell_type": "markdown",
      "metadata": {
        "id": "EZMl-z9vE-YL"
      },
      "source": [
        "$A \\cdot u \\equiv Au$"
      ]
    },
    {
      "cell_type": "code",
      "execution_count": null,
      "metadata": {
        "id": "bP8wmmsLE-YM",
        "outputId": "cd6b19be-f38e-48eb-8f9e-a89f79fd075e"
      },
      "outputs": [
        {
          "data": {
            "text/plain": [
              "array([0.66800138, 1.17012979, 0.88327025])"
            ]
          },
          "execution_count": 125,
          "metadata": {},
          "output_type": "execute_result"
        }
      ],
      "source": [
        "np.dot(A, u)"
      ]
    },
    {
      "attachments": {},
      "cell_type": "markdown",
      "metadata": {
        "id": "H_o1LTkHE-YM"
      },
      "source": [
        "$A \\cdot B \\equiv AB$"
      ]
    },
    {
      "cell_type": "code",
      "execution_count": null,
      "metadata": {
        "id": "dOxC9Z34E-YM",
        "outputId": "d5aec38f-b46c-492f-b809-a127b0544b2e"
      },
      "outputs": [
        {
          "data": {
            "text/plain": [
              "array([[0.43572615, 0.74847533, 0.38920642],\n",
              "       [0.76300199, 1.26754104, 0.68326889],\n",
              "       [0.48702506, 0.9174937 , 0.53397848]])"
            ]
          },
          "execution_count": 126,
          "metadata": {},
          "output_type": "execute_result"
        }
      ],
      "source": [
        "np.dot(A, B)"
      ]
    },
    {
      "attachments": {},
      "cell_type": "markdown",
      "metadata": {
        "id": "vxo6aJ_xE-YN"
      },
      "source": [
        "ou"
      ]
    },
    {
      "cell_type": "code",
      "execution_count": null,
      "metadata": {
        "id": "8qGB-hq0E-YN",
        "outputId": "787ca541-4cc0-4be9-a0bd-a45a6b15a304"
      },
      "outputs": [
        {
          "data": {
            "text/plain": [
              "array([[0.43572615, 0.74847533, 0.38920642],\n",
              "       [0.76300199, 1.26754104, 0.68326889],\n",
              "       [0.48702506, 0.9174937 , 0.53397848]])"
            ]
          },
          "execution_count": 127,
          "metadata": {},
          "output_type": "execute_result"
        }
      ],
      "source": [
        "A @ B"
      ]
    },
    {
      "attachments": {},
      "cell_type": "markdown",
      "metadata": {
        "id": "0JHXPWZQE-YN"
      },
      "source": [
        "#### Produto diádico"
      ]
    },
    {
      "attachments": {},
      "cell_type": "markdown",
      "metadata": {
        "id": "T2sTmLmLE-YN"
      },
      "source": [
        "$u \\otimes v$"
      ]
    },
    {
      "cell_type": "code",
      "execution_count": null,
      "metadata": {
        "id": "93AO0fw6E-YO",
        "outputId": "e457adf2-3815-4ee8-8477-cd9b48d21ffa"
      },
      "outputs": [
        {
          "data": {
            "text/plain": [
              "array([[0.08122132, 0.43341142, 0.00383177],\n",
              "       [0.03883841, 0.2072487 , 0.00183228],\n",
              "       [0.1019388 , 0.54396361, 0.00480915]])"
            ]
          },
          "execution_count": 128,
          "metadata": {},
          "output_type": "execute_result"
        }
      ],
      "source": [
        "np.outer(u, v)"
      ]
    },
    {
      "attachments": {},
      "cell_type": "markdown",
      "metadata": {
        "id": "8nbBuhsDE-YO"
      },
      "source": [
        "$A \\otimes B$"
      ]
    },
    {
      "cell_type": "code",
      "execution_count": null,
      "metadata": {
        "id": "eSIorqINE-YO",
        "outputId": "3bc1bdef-2730-4371-e0c5-c79c347881d6"
      },
      "outputs": [
        {
          "data": {
            "text/plain": [
              "array([[0.1907415 , 0.11759186, 0.11400616, 0.08943307, 0.14870605,\n",
              "        0.05176902, 0.08168832, 0.33607197, 0.16677801],\n",
              "       [0.32801379, 0.20222003, 0.1960538 , 0.153796  , 0.25572639,\n",
              "        0.089026  , 0.14047753, 0.5779353 , 0.28680433],\n",
              "       [0.2129247 , 0.13126777, 0.12726506, 0.09983411, 0.16600053,\n",
              "        0.05778975, 0.09118865, 0.37515708, 0.18617426],\n",
              "       [0.37669814, 0.23223386, 0.22515242, 0.17662266, 0.29368172,\n",
              "        0.10223939, 0.16132744, 0.66371341, 0.3293723 ],\n",
              "       [0.48199172, 0.2971472 , 0.28808638, 0.22599171, 0.37577079,\n",
              "        0.13081704, 0.20642122, 0.84923266, 0.42143749],\n",
              "       [0.37432743, 0.23077232, 0.22373545, 0.1755111 , 0.29183346,\n",
              "        0.10159595, 0.16031214, 0.65953639, 0.32729943],\n",
              "       [0.29198553, 0.18000866, 0.17451971, 0.13690341, 0.22763801,\n",
              "        0.07924759, 0.12504781, 0.51445625, 0.25530242],\n",
              "       [0.05648634, 0.03482375, 0.03376188, 0.02648478, 0.04403793,\n",
              "        0.01533092, 0.02419124, 0.09952462, 0.04938977],\n",
              "       [0.39357384, 0.24263771, 0.23523903, 0.18453518, 0.30683837,\n",
              "        0.10681961, 0.16855475, 0.69344711, 0.34412785]])"
            ]
          },
          "execution_count": 129,
          "metadata": {},
          "output_type": "execute_result"
        }
      ],
      "source": [
        "np.outer(A, B)"
      ]
    },
    {
      "attachments": {},
      "cell_type": "markdown",
      "metadata": {
        "id": "HYSi4SueE-YP"
      },
      "source": [
        "Esse é o produto diádico generalizado. Resulta em matriz de blocos $3 \\times 3$."
      ]
    },
    {
      "attachments": {},
      "cell_type": "markdown",
      "metadata": {
        "id": "JbvQC891E-YP"
      },
      "source": [
        "#### Produto cruzado"
      ]
    },
    {
      "attachments": {},
      "cell_type": "markdown",
      "metadata": {
        "id": "cV3NOxV8E-YQ"
      },
      "source": [
        "$u \\times v$"
      ]
    },
    {
      "cell_type": "code",
      "execution_count": null,
      "metadata": {
        "id": "SvTskeTSE-YQ",
        "outputId": "81693dc5-05bb-47a8-f818-78bad88315a5"
      },
      "outputs": [
        {
          "data": {
            "text/plain": [
              "array([-0.54213133,  0.09810703,  0.39457301])"
            ]
          },
          "execution_count": 130,
          "metadata": {},
          "output_type": "execute_result"
        }
      ],
      "source": [
        "np.cross(u, v)"
      ]
    },
    {
      "attachments": {},
      "cell_type": "markdown",
      "metadata": {
        "id": "L4r4bxZKE-YQ"
      },
      "source": [
        "#### Produto de contração tensorial"
      ]
    },
    {
      "attachments": {},
      "cell_type": "markdown",
      "metadata": {
        "id": "ZX3sDVGHE-YQ"
      },
      "source": [
        "$A:B$"
      ]
    },
    {
      "cell_type": "code",
      "execution_count": null,
      "metadata": {
        "id": "32L-IHabE-YR",
        "outputId": "1fdfcc7a-4ec1-49c2-c4fb-9297c1e2ee92"
      },
      "outputs": [
        {
          "data": {
            "text/plain": [
              "array(1.74291627)"
            ]
          },
          "execution_count": 131,
          "metadata": {},
          "output_type": "execute_result"
        }
      ],
      "source": [
        "np.tensordot(A, B)"
      ]
    },
    {
      "attachments": {},
      "cell_type": "markdown",
      "metadata": {
        "id": "pLuHUwwnE-YR"
      },
      "source": [
        "### Característica de Matrizes e condicionamento"
      ]
    },
    {
      "attachments": {},
      "cell_type": "markdown",
      "metadata": {
        "id": "pjQPrwQFE-YR"
      },
      "source": [
        "#### Traço"
      ]
    },
    {
      "cell_type": "code",
      "execution_count": null,
      "metadata": {
        "id": "JaylAnRDE-YR",
        "outputId": "455c5af6-40a9-466d-d05c-14f1c49551ea"
      },
      "outputs": [
        {
          "data": {
            "text/plain": [
              "2.032058999170806"
            ]
          },
          "execution_count": 132,
          "metadata": {},
          "output_type": "execute_result"
        }
      ],
      "source": [
        "np.trace(A)"
      ]
    },
    {
      "attachments": {},
      "cell_type": "markdown",
      "metadata": {
        "id": "tAsTsyL6E-YS"
      },
      "source": [
        "#### Determinante"
      ]
    },
    {
      "cell_type": "code",
      "execution_count": null,
      "metadata": {
        "id": "eEy2wehuE-YS",
        "outputId": "cc2c1aa2-61ab-45db-bfd7-998abbb28679"
      },
      "outputs": [
        {
          "data": {
            "text/plain": [
              "-0.041970404338626255"
            ]
          },
          "execution_count": 133,
          "metadata": {},
          "output_type": "execute_result"
        }
      ],
      "source": [
        "la.det(A)"
      ]
    },
    {
      "attachments": {},
      "cell_type": "markdown",
      "metadata": {
        "id": "OE-3EcIhE-YS"
      },
      "source": [
        "O determinante ser diferente de zero é uma característica muito desejada quando se tem que resolver um sistema. Ele garante que o sistema é invertível, e portanto tenha solução única."
      ]
    },
    {
      "attachments": {},
      "cell_type": "markdown",
      "metadata": {
        "id": "odgg3FIqE-YT"
      },
      "source": [
        "#### Número de condicionamento"
      ]
    },
    {
      "cell_type": "code",
      "execution_count": null,
      "metadata": {
        "id": "TpJASNOtE-YT",
        "outputId": "47a12cf3-cc6b-4e2b-b601-0923ef20df50"
      },
      "outputs": [
        {
          "data": {
            "text/plain": [
              "39.59718654379296"
            ]
          },
          "execution_count": 134,
          "metadata": {},
          "output_type": "execute_result"
        }
      ],
      "source": [
        "la.cond(A)"
      ]
    },
    {
      "attachments": {},
      "cell_type": "markdown",
      "metadata": {
        "id": "wAMhNPyeE-YU"
      },
      "source": [
        "O número de condicionamento nos informa a sensibilidade numérica do problema/função/sistema. Um sistema com número de condicionamento baixo não é sensível a erros numéricos que podem se propagar nas manipulações e iterações. Ou seja, é um sistema fácil de se resolver. O problema mal-condicionado é justamente o inverso. São problemas sensíveis e que podem convergir para soluções inadequadas, com muito erro, ou mesmo nem convergir (em métodos iterativos de sistemas). Em geral, dizemos que um sistema com número de condicionamento $\\kappa(A) \\le 1$ (ou próximo de um) é bem condicionado."
      ]
    },
    {
      "attachments": {},
      "cell_type": "markdown",
      "metadata": {
        "id": "kl3WYI5yE-YU"
      },
      "source": [
        "#### Posto de uma matriz"
      ]
    },
    {
      "cell_type": "code",
      "execution_count": null,
      "metadata": {
        "id": "vUfhGlp9E-YU",
        "outputId": "a1eaefb1-6f87-4c77-dcc6-fb701487228b"
      },
      "outputs": [
        {
          "data": {
            "text/plain": [
              "3"
            ]
          },
          "execution_count": 135,
          "metadata": {},
          "output_type": "execute_result"
        }
      ],
      "source": [
        "la.matrix_rank(A)"
      ]
    },
    {
      "attachments": {},
      "cell_type": "markdown",
      "metadata": {
        "id": "biw4E_vUE-YV"
      },
      "source": [
        "O posto de uma matriz também é um número muito importante, pois informa quantas linhas linearmente independentes a matriz possui. Podemos usar essa informação para comparar com o número de linhas da matriz. Se for igual, então isso é um indicativo que o sistema é **determinado**."
      ]
    },
    {
      "attachments": {},
      "cell_type": "markdown",
      "metadata": {
        "id": "bkI5PKuWE-YV"
      },
      "source": [
        "#### Norma"
      ]
    },
    {
      "cell_type": "code",
      "execution_count": null,
      "metadata": {
        "id": "AYK-oTYhE-YV",
        "outputId": "40ff9f0d-89c5-4e73-ce7d-475187214398"
      },
      "outputs": [
        {
          "data": {
            "text/plain": [
              "1.8545068183606386"
            ]
          },
          "execution_count": 136,
          "metadata": {},
          "output_type": "execute_result"
        }
      ],
      "source": [
        "la.norm(A)"
      ]
    },
    {
      "attachments": {},
      "cell_type": "markdown",
      "metadata": {
        "id": "rGkAITb6E-YW"
      },
      "source": [
        "A função `la.norm` calcula a norma de uma matriz ou vetor. Pode ser usada genericamente como `la.norm(A, ord=n)`, sendo `n` a ordem da norma. No caso da norma Euclidiana, `n = 2`, por exemplo. A norma do máximo é dada por:"
      ]
    },
    {
      "cell_type": "code",
      "execution_count": null,
      "metadata": {
        "id": "s1kTGq16E-YW",
        "outputId": "e0bcac53-0f6a-42fe-e52a-b95096724b22"
      },
      "outputs": [
        {
          "data": {
            "text/plain": [
              "2.3497583103569863"
            ]
          },
          "execution_count": 137,
          "metadata": {},
          "output_type": "execute_result"
        }
      ],
      "source": [
        "la.norm(A, np.inf)"
      ]
    },
    {
      "attachments": {},
      "cell_type": "markdown",
      "metadata": {
        "id": "iKdveymqE-YW"
      },
      "source": [
        "ou, em um vetor:"
      ]
    },
    {
      "cell_type": "code",
      "execution_count": null,
      "metadata": {
        "id": "eebRh9bXE-YW",
        "outputId": "5136d742-9578-43c2-9f06-a29486769560"
      },
      "outputs": [
        {
          "data": {
            "text/plain": [
              "0.7155492635807369"
            ]
          },
          "execution_count": 138,
          "metadata": {},
          "output_type": "execute_result"
        }
      ],
      "source": [
        "la.norm(u, np.inf)"
      ]
    },
    {
      "attachments": {},
      "cell_type": "markdown",
      "metadata": {
        "id": "P_D1zrhfE-YX"
      },
      "source": [
        "que é equivalente a"
      ]
    },
    {
      "cell_type": "code",
      "execution_count": null,
      "metadata": {
        "id": "EL5JVVQzE-YX",
        "outputId": "b4202017-d3f3-4f04-d6ca-964a80f48ae4"
      },
      "outputs": [
        {
          "data": {
            "text/plain": [
              "0.7155492635807369"
            ]
          },
          "execution_count": 139,
          "metadata": {},
          "output_type": "execute_result"
        }
      ],
      "source": [
        "u.max()"
      ]
    },
    {
      "attachments": {},
      "cell_type": "markdown",
      "metadata": {
        "id": "x4uG10JiE-YX"
      },
      "source": [
        "### Autovalores e autovetores"
      ]
    },
    {
      "attachments": {},
      "cell_type": "markdown",
      "metadata": {
        "id": "n6k2QiT1E-YY"
      },
      "source": [
        "São fornecidos por uma única função:"
      ]
    },
    {
      "cell_type": "code",
      "execution_count": null,
      "metadata": {
        "id": "BVYKxKFTE-YY",
        "outputId": "3a0accd5-c395-48c3-d724-6b3f278ebc7b"
      },
      "outputs": [
        {
          "data": {
            "text/plain": [
              "(array([ 1.69680194, -0.06222866,  0.39748572]),\n",
              " array([[ 0.48460418,  0.81912549, -0.38439744],\n",
              "        [ 0.79042533, -0.21184004, -0.51725859],\n",
              "        [ 0.37468199, -0.53306401,  0.76464512]]))"
            ]
          },
          "execution_count": 140,
          "metadata": {},
          "output_type": "execute_result"
        }
      ],
      "source": [
        "e_vals, e_vecs = la.eig(A)\n",
        "\n",
        "e_vals, e_vecs"
      ]
    },
    {
      "attachments": {},
      "cell_type": "markdown",
      "metadata": {
        "id": "wZcy62o5E-YY"
      },
      "source": [
        "sendo cada autovalor dado por `e_vals[i]` e seu correspondente autovetor dado por `e_vecs[:, i]`."
      ]
    },
    {
      "attachments": {},
      "cell_type": "markdown",
      "metadata": {
        "id": "W7hle0olE-YZ"
      },
      "source": [
        "### Solução de sistemas lineares"
      ]
    },
    {
      "attachments": {},
      "cell_type": "markdown",
      "metadata": {
        "id": "2lu5ZBkSE-YZ"
      },
      "source": [
        "As duas funções principais aqui são o solucionador de sistemas e o cálculo da inversa."
      ]
    },
    {
      "attachments": {},
      "cell_type": "markdown",
      "metadata": {
        "id": "jJCW3IExE-YZ"
      },
      "source": [
        "#### Inversa de uma matriz"
      ]
    },
    {
      "cell_type": "code",
      "execution_count": null,
      "metadata": {
        "id": "GEowM6DjE-Ya",
        "outputId": "cde9ac41-166c-46a2-db93-d335035d3a4a"
      },
      "outputs": [
        {
          "data": {
            "text/plain": [
              "array([[-14.58499921,  10.13005231,  -1.74414509],\n",
              "       [  3.37122449,  -1.11622659,  -0.76220188],\n",
              "       [ 10.33651171,  -7.35510558,   2.73661809]])"
            ]
          },
          "execution_count": 141,
          "metadata": {},
          "output_type": "execute_result"
        }
      ],
      "source": [
        "la.inv(A)"
      ]
    },
    {
      "attachments": {},
      "cell_type": "markdown",
      "metadata": {
        "id": "qOQTi11IE-Ya"
      },
      "source": [
        "lembrando que isso só é possível já que"
      ]
    },
    {
      "cell_type": "code",
      "execution_count": null,
      "metadata": {
        "id": "Aq6Ye75OE-Ya",
        "outputId": "100685ae-3318-40f6-c218-03f99226fee3"
      },
      "outputs": [
        {
          "data": {
            "text/plain": [
              "True"
            ]
          },
          "execution_count": 142,
          "metadata": {},
          "output_type": "execute_result"
        }
      ],
      "source": [
        "la.det(A) != 0"
      ]
    },
    {
      "attachments": {},
      "cell_type": "markdown",
      "metadata": {
        "id": "sMmclaSBE-Yb"
      },
      "source": [
        "Também podemos facilmente verificar que"
      ]
    },
    {
      "cell_type": "code",
      "execution_count": null,
      "metadata": {
        "id": "r728_rIaE-Yb",
        "outputId": "9f2ded65-f3de-4055-c3c8-f17805640810"
      },
      "outputs": [
        {
          "data": {
            "text/plain": [
              "array([[ 1.00000e+00, -1.09228e-15,  3.18047e-16],\n",
              "       [ 2.63890e-16,  1.00000e+00,  9.63232e-17],\n",
              "       [ 9.89491e-16,  6.48609e-16,  1.00000e+00]])"
            ]
          },
          "execution_count": 143,
          "metadata": {},
          "output_type": "execute_result"
        }
      ],
      "source": [
        "np.set_printoptions(5)\n",
        "la.inv(A) @ A"
      ]
    },
    {
      "cell_type": "code",
      "execution_count": null,
      "metadata": {
        "id": "dkQA68dnE-Yb",
        "outputId": "821a5146-ebfb-40ff-c291-a2b2f5c84109"
      },
      "outputs": [
        {
          "data": {
            "text/plain": [
              "array([[ 1.00000e+00,  7.18267e-16, -2.22578e-16],\n",
              "       [-6.17238e-17,  1.00000e+00, -4.98952e-17],\n",
              "       [ 1.46013e-16, -1.39849e-16,  1.00000e+00]])"
            ]
          },
          "execution_count": 144,
          "metadata": {},
          "output_type": "execute_result"
        }
      ],
      "source": [
        "A @ la.inv(A)"
      ]
    },
    {
      "attachments": {},
      "cell_type": "markdown",
      "metadata": {
        "id": "ninvhUB9E-Yb"
      },
      "source": [
        "#### Solução de sistemas lineares"
      ]
    },
    {
      "attachments": {},
      "cell_type": "markdown",
      "metadata": {
        "id": "g3pQzXT8E-Yc"
      },
      "source": [
        "Vamos criar um vetor do lado direito com valores fáceis de checarmos a qualidade da solução:"
      ]
    },
    {
      "cell_type": "code",
      "execution_count": null,
      "metadata": {
        "id": "PfJwhBafE-Yc",
        "outputId": "4954114e-5c4a-4dd6-c8f5-25676eab13c6"
      },
      "outputs": [
        {
          "data": {
            "text/plain": [
              "array([1., 1., 1.])"
            ]
          },
          "execution_count": 145,
          "metadata": {},
          "output_type": "execute_result"
        }
      ],
      "source": [
        "b = np.ones(n)\n",
        "b"
      ]
    },
    {
      "attachments": {},
      "cell_type": "markdown",
      "metadata": {
        "id": "Qe78dDalE-Yc"
      },
      "source": [
        "Agora vamos resolver o sistema $A u = b$:"
      ]
    },
    {
      "cell_type": "code",
      "execution_count": null,
      "metadata": {
        "id": "UQ-5i8c-E-Yd",
        "outputId": "08b8c61d-6bd0-4a13-b316-fa31e356fc90"
      },
      "outputs": [
        {
          "data": {
            "text/plain": [
              "array([-6.19909,  1.4928 ,  5.71802])"
            ]
          },
          "execution_count": 146,
          "metadata": {},
          "output_type": "execute_result"
        }
      ],
      "source": [
        "x = la.solve(A, b)\n",
        "x"
      ]
    },
    {
      "attachments": {},
      "cell_type": "markdown",
      "metadata": {
        "id": "jlWpMeG8E-Yn"
      },
      "source": [
        "Podemos verificar que:"
      ]
    },
    {
      "cell_type": "code",
      "execution_count": null,
      "metadata": {
        "id": "En2-IZ-RE-Yo",
        "outputId": "68e0ffbc-4aa9-49b4-f6ce-6a0ae0139de0"
      },
      "outputs": [
        {
          "data": {
            "text/plain": [
              "array([1., 1., 1.])"
            ]
          },
          "execution_count": 147,
          "metadata": {},
          "output_type": "execute_result"
        }
      ],
      "source": [
        "np.dot(A, x)"
      ]
    },
    {
      "attachments": {},
      "cell_type": "markdown",
      "metadata": {
        "id": "OxFsreDUE-Yo"
      },
      "source": [
        "Por baixo dos panos, o NumPy utiliza a `_gesv` do LAPACK, que nada mais é do que uma [fatoração LU](https://software.intel.com/sites/products/documentation/doclib/mkl_sa/11/mkl_lapack_examples/dgesv.htm). Pró: é um método direto, portanto fornece uma solução \"exata\", sujeita apenas à precisão da representação numérica empregada. Contra: Pode ser bastante custoso em sistemas grandes."
      ]
    },
    {
      "attachments": {},
      "cell_type": "markdown",
      "metadata": {
        "id": "urP2sUnCE-Yp"
      },
      "source": [
        "## Aplicações básicas em Estatística"
      ]
    },
    {
      "attachments": {},
      "cell_type": "markdown",
      "metadata": {
        "id": "9wKjhLJfE-Yq"
      },
      "source": [
        "A NumPy tem uma grande variedades de funções para Estatística. Não teremos tempo para detalhar aqui neste curso. Esse material demandaria um curso próprio de Análise de Dados com NumPy ou com pandas. Quem tiver interesse, pode verificar as funções disponíveis na [documentação oficial online](https://docs.scipy.org/doc/scipy/reference/stats.html) ou também na página de [rotinas estatísticas básicas](https://docs.scipy.org/doc/numpy-1.15.0/reference/routines.statistics.html).\n",
        "\n",
        "Aqui, veremos só o básico do básico inerente apenas a entrada de valores em vetores e matrizes."
      ]
    },
    {
      "attachments": {},
      "cell_type": "markdown",
      "metadata": {
        "id": "ecLPVokIE-Yq"
      },
      "source": [
        "### Média"
      ]
    },
    {
      "cell_type": "code",
      "execution_count": null,
      "metadata": {
        "id": "rOknz_cNE-Yr",
        "outputId": "e3271916-49f9-4409-e307-bbe085d9d42c"
      },
      "outputs": [
        {
          "data": {
            "text/plain": [
              "0.51943219773322"
            ]
          },
          "execution_count": 148,
          "metadata": {},
          "output_type": "execute_result"
        }
      ],
      "source": [
        "u.mean()"
      ]
    },
    {
      "attachments": {},
      "cell_type": "markdown",
      "metadata": {
        "id": "zh7iZ-RJE-Yr"
      },
      "source": [
        "### Desvio-padrão"
      ]
    },
    {
      "cell_type": "code",
      "execution_count": null,
      "metadata": {
        "id": "hoCUnNBlE-Ys",
        "outputId": "b6b684c7-a3b7-4bd3-f9f4-ac8823b21bb9"
      },
      "outputs": [
        {
          "data": {
            "text/plain": [
              "0.184342746224072"
            ]
          },
          "execution_count": 149,
          "metadata": {},
          "output_type": "execute_result"
        }
      ],
      "source": [
        "u.std()"
      ]
    },
    {
      "attachments": {},
      "cell_type": "markdown",
      "metadata": {
        "id": "K31WNSwOE-Yt"
      },
      "source": [
        "### Variância"
      ]
    },
    {
      "cell_type": "code",
      "execution_count": null,
      "metadata": {
        "id": "4amUMF3pE-Yu",
        "outputId": "55c1cb18-a9e9-4bc6-9684-f685f0716bcd"
      },
      "outputs": [
        {
          "data": {
            "text/plain": [
              "0.03398224808543262"
            ]
          },
          "execution_count": 150,
          "metadata": {},
          "output_type": "execute_result"
        }
      ],
      "source": [
        "u.var()"
      ]
    },
    {
      "attachments": {},
      "cell_type": "markdown",
      "metadata": {
        "id": "GomPtA6-E-Yu"
      },
      "source": [
        "que naturalmente é equivalente a"
      ]
    },
    {
      "cell_type": "code",
      "execution_count": null,
      "metadata": {
        "id": "C0E0F6DkE-Yv",
        "outputId": "047e1002-672e-4420-e535-0a85e355e13d"
      },
      "outputs": [
        {
          "data": {
            "text/plain": [
              "0.03398224808543262"
            ]
          },
          "execution_count": 151,
          "metadata": {},
          "output_type": "execute_result"
        }
      ],
      "source": [
        "u.std() ** 2"
      ]
    },
    {
      "attachments": {},
      "cell_type": "markdown",
      "metadata": {
        "id": "YDqtFfUwE-Yw"
      },
      "source": [
        "## Escrita e Leitura"
      ]
    },
    {
      "attachments": {},
      "cell_type": "markdown",
      "metadata": {
        "id": "9iI64ZfVE-Yx"
      },
      "source": [
        "O NumPy oferece rotinas convenientes para leitura e escrita de dados numéricos. Basicamente podemos sobreviver com `loadtxt()` e seu dual `savetxt()`."
      ]
    },
    {
      "attachments": {},
      "cell_type": "markdown",
      "metadata": {
        "id": "MN7ITbiDE-Yz"
      },
      "source": [
        "### Escrita"
      ]
    },
    {
      "attachments": {},
      "cell_type": "markdown",
      "metadata": {
        "id": "_kCpkHqWE-Y0"
      },
      "source": [
        "Vamos começar com a escrita, assim poderemos usar o resultado para testar a leitura depois."
      ]
    },
    {
      "attachments": {},
      "cell_type": "markdown",
      "metadata": {
        "id": "qBhj-XlQE-Y0"
      },
      "source": [
        "#### Escrita de um único vetor"
      ]
    },
    {
      "cell_type": "code",
      "execution_count": null,
      "metadata": {
        "id": "kp4jz71DE-Y0"
      },
      "outputs": [],
      "source": [
        "np.savetxt('u_out.dat', u)"
      ]
    },
    {
      "attachments": {},
      "cell_type": "markdown",
      "metadata": {
        "id": "OGM6eANLE-Y1"
      },
      "source": [
        "Vamos agora verificar como ficou o arquivo:"
      ]
    },
    {
      "cell_type": "code",
      "execution_count": null,
      "metadata": {
        "id": "MjCgT7oKE-Y1",
        "outputId": "77580bca-2122-4333-f224-fa84bb78dfde"
      },
      "outputs": [
        {
          "name": "stdout",
          "output_type": "stream",
          "text": [
            "5.701249488061702619e-01\r\n",
            "2.726223808127529180e-01\r\n",
            "7.155492635807368940e-01\r\n"
          ]
        }
      ],
      "source": [
        "!cat u_out.dat"
      ]
    },
    {
      "attachments": {},
      "cell_type": "markdown",
      "metadata": {
        "id": "sISHPX-hE-Y1"
      },
      "source": [
        "Podemos ainda mudar o formato da escrita:"
      ]
    },
    {
      "cell_type": "code",
      "execution_count": null,
      "metadata": {
        "id": "tW-XLfeuE-Y2"
      },
      "outputs": [],
      "source": [
        "np.savetxt('u_out_2.dat', u, fmt='%1.3e')"
      ]
    },
    {
      "cell_type": "code",
      "execution_count": null,
      "metadata": {
        "id": "BLpUU8mfE-Y2",
        "outputId": "6558fff8-6ca4-4c03-e38a-4832337baaa2"
      },
      "outputs": [
        {
          "name": "stdout",
          "output_type": "stream",
          "text": [
            "5.701e-01\r\n",
            "2.726e-01\r\n",
            "7.155e-01\r\n"
          ]
        }
      ],
      "source": [
        "!cat u_out_2.dat"
      ]
    },
    {
      "attachments": {},
      "cell_type": "markdown",
      "metadata": {
        "id": "Hq109p9AE-Y2"
      },
      "source": [
        "#### Escrita de mais de um vetor"
      ]
    },
    {
      "cell_type": "code",
      "execution_count": null,
      "metadata": {
        "id": "HB6m_LPRE-Y3"
      },
      "outputs": [],
      "source": [
        "np.savetxt('uv_out.dat', (u, v), fmt='%1.4e')"
      ]
    },
    {
      "cell_type": "code",
      "execution_count": null,
      "metadata": {
        "id": "GeA_uVT2E-Y3",
        "outputId": "6c548dc6-d8f5-4395-c24f-6c2b90e902d1"
      },
      "outputs": [
        {
          "name": "stdout",
          "output_type": "stream",
          "text": [
            "5.7012e-01 2.7262e-01 7.1555e-01\r\n",
            "1.4246e-01 7.6020e-01 6.7209e-03\r\n"
          ]
        }
      ],
      "source": [
        "!cat uv_out.dat"
      ]
    },
    {
      "attachments": {},
      "cell_type": "markdown",
      "metadata": {
        "id": "hqmYemh6E-Y3"
      },
      "source": [
        "Note que a escrita é feita por linhas. Em cada linha do arquivo de saída, temos um dos vetores. Caso queira salvar cada vetor em uma coluna, basta fazer:"
      ]
    },
    {
      "cell_type": "code",
      "execution_count": null,
      "metadata": {
        "id": "xO4I_IcgE-Y4"
      },
      "outputs": [],
      "source": [
        "np.savetxt('uv_out_2.dat', np.column_stack((u, v)), fmt='%1.4e')"
      ]
    },
    {
      "cell_type": "code",
      "execution_count": null,
      "metadata": {
        "id": "XL2-R0P8E-Y4",
        "outputId": "740c2be4-6fc0-4a9e-fb05-c49f76c3cc3e"
      },
      "outputs": [
        {
          "name": "stdout",
          "output_type": "stream",
          "text": [
            "5.7012e-01 1.4246e-01\r\n",
            "2.7262e-01 7.6020e-01\r\n",
            "7.1555e-01 6.7209e-03\r\n"
          ]
        }
      ],
      "source": [
        "!cat uv_out_2.dat"
      ]
    },
    {
      "attachments": {},
      "cell_type": "markdown",
      "metadata": {
        "id": "tk6y4eCtE-Y4"
      },
      "source": [
        "#### Escrita de uma matriz"
      ]
    },
    {
      "attachments": {},
      "cell_type": "markdown",
      "metadata": {
        "id": "7KSxUoYjE-Y5"
      },
      "source": [
        "Uma matriz nada mais é do que um aglomerado de vetores colunas, então é meio intuitivo como o `savetxt()` irá agir."
      ]
    },
    {
      "cell_type": "code",
      "execution_count": null,
      "metadata": {
        "id": "QjqFZFE-E-Y5"
      },
      "outputs": [],
      "source": [
        "np.savetxt('A_out.dat', A, fmt='%1.3e')"
      ]
    },
    {
      "cell_type": "code",
      "execution_count": null,
      "metadata": {
        "id": "cvkMfvm-E-Y5",
        "outputId": "8926f22d-0734-4edf-bfdf-c0fcecf137b0"
      },
      "outputs": [
        {
          "name": "stdout",
          "output_type": "stream",
          "text": [
            "3.635e-01 6.251e-01 4.058e-01\r\n",
            "7.179e-01 9.185e-01 7.134e-01\r\n",
            "5.564e-01 1.076e-01 7.500e-01\r\n"
          ]
        }
      ],
      "source": [
        "!cat A_out.dat"
      ]
    },
    {
      "attachments": {},
      "cell_type": "markdown",
      "metadata": {
        "id": "0kZrfJMpE-Y5"
      },
      "source": [
        "Só para verificação:"
      ]
    },
    {
      "cell_type": "code",
      "execution_count": null,
      "metadata": {
        "id": "M9YwoG__E-Y6",
        "outputId": "ca22fbf6-fdfb-4b9b-c5f0-2d57b7be4ae7"
      },
      "outputs": [
        {
          "data": {
            "text/plain": [
              "array([[0.3635 , 0.6251 , 0.40577],\n",
              "       [0.71787, 0.91853, 0.71335],\n",
              "       [0.55644, 0.10765, 0.75003]])"
            ]
          },
          "execution_count": 162,
          "metadata": {},
          "output_type": "execute_result"
        }
      ],
      "source": [
        "A"
      ]
    },
    {
      "attachments": {},
      "cell_type": "markdown",
      "metadata": {
        "id": "L-Kt4NP7E-Y6"
      },
      "source": [
        "Podemos mudar o delimitador simplesmente com"
      ]
    },
    {
      "cell_type": "code",
      "execution_count": null,
      "metadata": {
        "id": "omV2UuwjE-Y6"
      },
      "outputs": [],
      "source": [
        "np.savetxt('A_out_2.dat', A, fmt='%1.3e', delimiter=',')"
      ]
    },
    {
      "cell_type": "code",
      "execution_count": null,
      "metadata": {
        "id": "_AftM0wLE-Y7",
        "outputId": "eed3ab5d-14c7-49bb-e83a-5670beb663a6"
      },
      "outputs": [
        {
          "name": "stdout",
          "output_type": "stream",
          "text": [
            "3.635e-01,6.251e-01,4.058e-01\r\n",
            "7.179e-01,9.185e-01,7.134e-01\r\n",
            "5.564e-01,1.076e-01,7.500e-01\r\n"
          ]
        }
      ],
      "source": [
        "!cat A_out_2.dat"
      ]
    },
    {
      "attachments": {},
      "cell_type": "markdown",
      "metadata": {
        "id": "2jg0lqw4E-Y7"
      },
      "source": [
        "que pode vir a calhar para determinados leitores csv-like."
      ]
    },
    {
      "attachments": {},
      "cell_type": "markdown",
      "metadata": {
        "id": "6oQhgscnE-Y7"
      },
      "source": [
        "### Leitura"
      ]
    },
    {
      "attachments": {},
      "cell_type": "markdown",
      "metadata": {
        "id": "PpSi7U7IE-Y8"
      },
      "source": [
        "#### Leitura simples de um vetor em arquivo"
      ]
    },
    {
      "cell_type": "code",
      "execution_count": null,
      "metadata": {
        "id": "UNulIk08E-Y8",
        "outputId": "30a5f1bc-d0ff-44e1-c7da-ed77665b23d1"
      },
      "outputs": [
        {
          "data": {
            "text/plain": [
              "array([0.57012, 0.27262, 0.71555])"
            ]
          },
          "execution_count": 165,
          "metadata": {},
          "output_type": "execute_result"
        }
      ],
      "source": [
        "x = np.loadtxt('u_out.dat')\n",
        "x"
      ]
    },
    {
      "attachments": {},
      "cell_type": "markdown",
      "metadata": {
        "id": "oJAyzdsEE-Y8"
      },
      "source": [
        "#### Leitura de 2 ou mais vetores por linhas"
      ]
    },
    {
      "attachments": {},
      "cell_type": "markdown",
      "metadata": {
        "id": "k0_y4KjdE-Y9"
      },
      "source": [
        "Aqui apenas com 2 para exemplificar. A extensão para mais é trivial."
      ]
    },
    {
      "cell_type": "code",
      "execution_count": null,
      "metadata": {
        "id": "BgiqIyK-E-Y9",
        "outputId": "791f5c5a-ebf6-48ca-c169-6bae02ac241b"
      },
      "outputs": [
        {
          "data": {
            "text/plain": [
              "(array([0.57012, 0.27262, 0.71555]), array([0.14246, 0.7602 , 0.00672]))"
            ]
          },
          "execution_count": 166,
          "metadata": {},
          "output_type": "execute_result"
        }
      ],
      "source": [
        "x, y = np.loadtxt('uv_out.dat')\n",
        "\n",
        "x, y"
      ]
    },
    {
      "attachments": {},
      "cell_type": "markdown",
      "metadata": {
        "id": "OGdbJBBuE-Y-"
      },
      "source": [
        "A leitura aqui foi feita com um array por linha do arquivo."
      ]
    },
    {
      "attachments": {},
      "cell_type": "markdown",
      "metadata": {
        "id": "qNed5rrcE-Y-"
      },
      "source": [
        "#### Leitura de 2 ou mais vetores por coluna "
      ]
    },
    {
      "cell_type": "code",
      "execution_count": null,
      "metadata": {
        "id": "-MryteIWE-Y_",
        "outputId": "7612069b-4918-4446-a334-7ab05d2791a1"
      },
      "outputs": [
        {
          "data": {
            "text/plain": [
              "(array([0.57012, 0.27262, 0.71555]), array([0.14246, 0.7602 , 0.00672]))"
            ]
          },
          "execution_count": 167,
          "metadata": {},
          "output_type": "execute_result"
        }
      ],
      "source": [
        "x, y = np.loadtxt('uv_out_2.dat', unpack=True)\n",
        "\n",
        "x, y"
      ]
    },
    {
      "attachments": {},
      "cell_type": "markdown",
      "metadata": {
        "id": "jGY7DTPIE-Y_"
      },
      "source": [
        "#### Leitura de partes de uma matriz em arrays"
      ]
    },
    {
      "attachments": {},
      "cell_type": "markdown",
      "metadata": {
        "id": "eur-wTnbE-Y_"
      },
      "source": [
        "Caso se deseje ler dados em formato matricial de apenas determinadas colunas, basta especificar isso por meio do argumento opcional `usecols`."
      ]
    },
    {
      "cell_type": "code",
      "execution_count": null,
      "metadata": {
        "id": "Zbv6J1TEE-ZA",
        "outputId": "cc482d74-88c0-444b-fea2-3e7763b8931d"
      },
      "outputs": [
        {
          "data": {
            "text/plain": [
              "(array([0.3635, 0.7179, 0.5564]), array([0.6251, 0.9185, 0.1076]))"
            ]
          },
          "execution_count": 168,
          "metadata": {},
          "output_type": "execute_result"
        }
      ],
      "source": [
        "x, y = np.loadtxt('A_out.dat', usecols=(0, 1), unpack=True)\n",
        "\n",
        "x, y"
      ]
    },
    {
      "attachments": {},
      "cell_type": "markdown",
      "metadata": {
        "id": "wRZgcBzaE-ZA"
      },
      "source": [
        "Verificando:"
      ]
    },
    {
      "cell_type": "code",
      "execution_count": null,
      "metadata": {
        "id": "h0U2smk_E-ZB",
        "outputId": "894158ed-4775-4d09-d33b-0ba05dd25f84"
      },
      "outputs": [
        {
          "data": {
            "text/plain": [
              "array([[0.3635 , 0.6251 , 0.40577],\n",
              "       [0.71787, 0.91853, 0.71335],\n",
              "       [0.55644, 0.10765, 0.75003]])"
            ]
          },
          "execution_count": 169,
          "metadata": {},
          "output_type": "execute_result"
        }
      ],
      "source": [
        "A"
      ]
    },
    {
      "attachments": {},
      "cell_type": "markdown",
      "metadata": {
        "id": "bPzVFG9kE-ZC"
      },
      "source": [
        "#### Leitura de uma matriz"
      ]
    },
    {
      "attachments": {},
      "cell_type": "markdown",
      "metadata": {
        "id": "uDasz9G4E-ZC"
      },
      "source": [
        "Basta simplesmente fazer"
      ]
    },
    {
      "cell_type": "code",
      "execution_count": null,
      "metadata": {
        "id": "XYd6gqX4E-ZD",
        "outputId": "14afc9ac-f849-4a79-b294-b75375c57fde"
      },
      "outputs": [
        {
          "data": {
            "text/plain": [
              "array([[0.3635, 0.6251, 0.4058],\n",
              "       [0.7179, 0.9185, 0.7134],\n",
              "       [0.5564, 0.1076, 0.75  ]])"
            ]
          },
          "execution_count": 170,
          "metadata": {},
          "output_type": "execute_result"
        }
      ],
      "source": [
        "M = np.loadtxt('A_out.dat')\n",
        "\n",
        "M"
      ]
    }
  ],
  "metadata": {
    "colab": {
      "provenance": []
    },
    "kernelspec": {
      "display_name": "Python 3",
      "language": "python",
      "name": "python3"
    },
    "language_info": {
      "codemirror_mode": {
        "name": "ipython",
        "version": 3
      },
      "file_extension": ".py",
      "mimetype": "text/x-python",
      "name": "python",
      "nbconvert_exporter": "python",
      "pygments_lexer": "ipython3",
      "version": "3.7.1"
    },
    "toc": {
      "base_numbering": 1,
      "nav_menu": {},
      "number_sections": true,
      "sideBar": true,
      "skip_h1_title": true,
      "title_cell": "Conteúdo",
      "title_sidebar": "Conteúdo",
      "toc_cell": true,
      "toc_position": {},
      "toc_section_display": true,
      "toc_window_display": true
    }
  },
  "nbformat": 4,
  "nbformat_minor": 0
}
