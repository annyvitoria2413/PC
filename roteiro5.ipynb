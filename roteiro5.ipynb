{
  "cells": [
    {
      "cell_type": "markdown",
      "metadata": {
        "id": "view-in-github",
        "colab_type": "text"
      },
      "source": [
        "<a href=\"https://colab.research.google.com/github/lomurta/PC/blob/main/roteiro5.ipynb\" target=\"_parent\"><img src=\"https://colab.research.google.com/assets/colab-badge.svg\" alt=\"Open In Colab\"/></a>"
      ]
    },
    {
      "cell_type": "markdown",
      "metadata": {
        "id": "PlQ-zz5WtM2p"
      },
      "source": [
        "## <center>Introdução ao Python</center>\n",
        "---\n",
        "## <center>Roteiro 5. Estruturas de Repetição</center>\n"
      ]
    },
    {
      "cell_type": "markdown",
      "metadata": {
        "id": "xULuhB-rtM2w"
      },
      "source": [
        "### Objetivos. \n",
        "\n",
        "Após este roteiro você deverá ser capaz de:\n",
        "* Escrever trechos de código repetitivos usando estruturas de repetição;\n",
        "* Compreender o conceito de iteração;\n",
        "* Reconhecer casos de uso de variáveis de iteração e variáveis contadoras;\n",
        "* Percorrer programaticamente elementos em listas."
      ]
    },
    {
      "cell_type": "markdown",
      "metadata": {
        "id": "wrtmFebetM2x"
      },
      "source": [
        "## 1. Loops e Iterações"
      ]
    },
    {
      "cell_type": "markdown",
      "metadata": {
        "id": "IGXtMjV_tM2y"
      },
      "source": [
        "No jargão da computação, chamamos de **loop** uma estrutura contendo código que será executado múltiplas vezes. Cada repetição do loop é chamada **iteração**.\n",
        "\n",
        "A estrutura de um loop do tipo \"**for**\" é composta por:\n",
        "\n",
        "* uma **variável de iteração** (normalmente chamada `i` ou `j`, mas poderia ser qualquer outro nome, como por exemplo `dinossauro`);\n",
        "* uma **lista** com os elementos que desejamos percorrer. \n",
        "\n",
        "Para exemplificar, vamos construir uma estrutura que imprima no console a frase \"nova iteração\" algumas vezes.\n"
      ]
    },
    {
      "cell_type": "code",
      "execution_count": null,
      "metadata": {
        "id": "pmWlOKHAtM2z"
      },
      "outputs": [],
      "source": [
        "print(\"Antes do loop...\")\n",
        "\n",
        "for i in range(10):\n",
        "    print(\"Nova iteração\")\n",
        "\n",
        "print(\"Depois do loop\")"
      ]
    },
    {
      "cell_type": "markdown",
      "metadata": {
        "id": "5CJN0rtBtM21"
      },
      "source": [
        "Uma característica da variável de iteração é que ela, a cada iteração, assumirá o valor seguinte na lista percorrida. Podemos então imprimir no console o número de cada nova iteração."
      ]
    },
    {
      "cell_type": "code",
      "execution_count": null,
      "metadata": {
        "id": "HnskA7i3tM22"
      },
      "outputs": [],
      "source": [
        "print(\"Antes do loop...\")\n",
        "\n",
        "for i in range(10):\n",
        "    print(\"Iteração\",i)\n",
        "\n",
        "print(\"Depois do loop\")"
      ]
    },
    {
      "cell_type": "markdown",
      "metadata": {
        "id": "epOv1vPatM22"
      },
      "source": [
        "Podemos também percorrer listas com elementos não-numéricos por meio de loops."
      ]
    },
    {
      "cell_type": "code",
      "execution_count": null,
      "metadata": {
        "id": "-5K5vf3PtM23"
      },
      "outputs": [],
      "source": [
        "minhaLista = [\"Olá\", \"Dinossauro\", True, False, [\"a\", \"b\", \"c\"], 42.5 ]\n",
        "\n",
        "for el in minhaLista: # neste caso a variável `el` é a variável de iteração\n",
        "    print(\"Nova iteração: elemento\", el)"
      ]
    },
    {
      "cell_type": "markdown",
      "metadata": {
        "id": "7w2axYd4tM24"
      },
      "source": [
        "**Variáveis contadoras** (normalmente chamadas `ctr`) podem ser usadas para armazenar resultados de forma gradativa durante as iterações. Elas são usualmente inicializadas com valor zero e, a cada iteração, são atualizadas (normalmente somando-se 1).\n",
        "Usando variáveis contadoras podemos, por exemplo, calcular a soma de números em uma lista."
      ]
    },
    {
      "cell_type": "code",
      "execution_count": null,
      "metadata": {
        "id": "qklt2vcutM25"
      },
      "outputs": [],
      "source": [
        "minhaLista = [ 1,2,3,4,5,6,7,8,9,10 ]\n",
        "\n",
        "ctr = 0\n",
        "print(\"Antes do loop\")\n",
        "print(\"Valor inicial de ctr:\", ctr)\n",
        "print(\"\")\n",
        "\n",
        "for i in minhaLista:\n",
        "    print(\"Dentro do loop: nova iteração\")\n",
        "    print(\"Valor anterior de ctr:\",ctr)\n",
        "    print(\"Somando\", i)\n",
        "    ctr = ctr + i # é assim que atualizamos o valor de uma variável usando como base seu valor antigo\n",
        "    print(\"Novo valor de ctr:\",ctr)\n",
        "    print(\"\")\n",
        "\n",
        "print(\"Fora do loop\")\n",
        "print(\"Valor final de ctr:\", ctr)"
      ]
    },
    {
      "cell_type": "markdown",
      "metadata": {
        "id": "D8iQzlCUtM26"
      },
      "source": [
        "Podemos também usar loops para percorrer strings, como se fossem uma lista de caracteres."
      ]
    },
    {
      "cell_type": "code",
      "execution_count": null,
      "metadata": {
        "id": "6qDEavmptM26"
      },
      "outputs": [],
      "source": [
        "meuNome = \"Luke Skywalker\"\n",
        "\n",
        "for caractere in meuNome: # neste caso a variável `caractere` é a variável de iteração\n",
        "    print(\"Nova iteração: caractere\", caractere)"
      ]
    },
    {
      "cell_type": "markdown",
      "metadata": {
        "id": "L_p6vnH6tM27"
      },
      "source": [
        "---"
      ]
    },
    {
      "cell_type": "markdown",
      "metadata": {
        "id": "XGZCQM_7tM27"
      },
      "source": [
        "## Exercícios."
      ]
    },
    {
      "cell_type": "markdown",
      "metadata": {
        "id": "qqUp-kzgtM28"
      },
      "source": [
        "**Ex 1.** Escreva a função `conta_sup` que recebe: uma lista `l` contendo valores numéricos; e um número `limite`. A função deve contar quantos elementos na lista `l` têm valor maior ou igual a `limite`."
      ]
    },
    {
      "cell_type": "code",
      "execution_count": null,
      "metadata": {
        "id": "Fm6ToFustM28"
      },
      "outputs": [],
      "source": [
        "def conta_sup(l, limite):\n",
        "    ctr=0\n",
        "    for i in l:\n",
        "        if i >= limite:\n",
        "            ctr = ctr + 1\n",
        "\n",
        "    return ctr"
      ]
    },
    {
      "cell_type": "code",
      "execution_count": null,
      "metadata": {
        "id": "2mgy3Qk9tM28"
      },
      "outputs": [],
      "source": [
        "minhaLista = [42, 52,6,30,42,68,28,48,2,100,29,172,0,-1,-50]\n",
        "\n",
        "# Existem 2 elementos com valor maior ou igual a 100 na lista\n",
        "conta_sup(minhaLista, 100)"
      ]
    },
    {
      "cell_type": "markdown",
      "metadata": {
        "id": "ojhB374ztM29"
      },
      "source": [
        "**Ex 2.** Escreva a função `busca_max` que recebe uma lista `l` contendo valores numéricos e retorna o valor máximo encontrado nela. O comportamento dessa função é equivalente ao da função `max`. No entanto, não use a função `max` neste exercício."
      ]
    },
    {
      "cell_type": "code",
      "execution_count": null,
      "metadata": {
        "id": "WIMyzBF5tM29"
      },
      "outputs": [],
      "source": [
        "def busca_max(l):\n",
        "    elem_max = l[0] # a princípio assumiremos que o primeiro elemento da lista é o máximo\n",
        "\n",
        "    # agora no loop vamos atualizar o valor em `elem_max` sempre que encontrarmos algum com valor maior\n",
        "    for el in l:\n",
        "        if el > elem_max:\n",
        "            elem_max = el\n",
        "  \n",
        "    return elem_max"
      ]
    },
    {
      "cell_type": "code",
      "execution_count": null,
      "metadata": {
        "id": "l8lXf4rrtM2-"
      },
      "outputs": [],
      "source": [
        "minhaLista = [42, 52,6,30,42,68,28,48,2,100,29,172,0,-1,-50]\n",
        "\n",
        "# O elemento de valor máximo na lista é o 172\n",
        "busca_max(minhaLista)"
      ]
    },
    {
      "cell_type": "markdown",
      "metadata": {
        "id": "tRkMfoxUtM2-"
      },
      "source": [
        "**Ex 3.** Escreva uma função `busca_primeiro_sup` que recebe: uma lista `l` contendo valores numéricos; e um número `limite`. A função deve retornar imediatamente assim que encontrar um elemento na lista `l` com valor maior que `limite`. Caso encontre um valor maior que o limtie, este valor deve ser retornado como resultado. Caso contrário, a função deve retornar uma string `\"Não encontrado\"`."
      ]
    },
    {
      "cell_type": "code",
      "execution_count": null,
      "metadata": {
        "id": "YXK2u3PitM2-"
      },
      "outputs": [],
      "source": [
        "def busca_primeiro_sup(l, limite):\n",
        "    for el in l:\n",
        "        if el > limite:\n",
        "            return el\n",
        "\n",
        "    return \"Não encontrado\""
      ]
    },
    {
      "cell_type": "code",
      "execution_count": null,
      "metadata": {
        "id": "8CiHrv3CtM2_"
      },
      "outputs": [],
      "source": [
        "minhaLista = [42, 52,6,30,42,68,28,48,2,100,29,172,0,-1,-50]"
      ]
    },
    {
      "cell_type": "code",
      "execution_count": null,
      "metadata": {
        "id": "NbaVU_7ktM2_"
      },
      "outputs": [],
      "source": [
        "busca_primeiro_sup(minhaLista, 100)"
      ]
    },
    {
      "cell_type": "code",
      "execution_count": null,
      "metadata": {
        "id": "qWl_pon4tM2_"
      },
      "outputs": [],
      "source": [
        "busca_primeiro_sup(minhaLista,200)"
      ]
    },
    {
      "cell_type": "markdown",
      "metadata": {
        "id": "CXaeYANwtM3A"
      },
      "source": [
        "**Ex 4.** Escreva uma função `complementaBases` que recebe como input uma sequência de bases de um fragmento de DNA e retorna as bases complementares."
      ]
    },
    {
      "cell_type": "code",
      "execution_count": null,
      "metadata": {
        "id": "caD9gjkctM3A"
      },
      "outputs": [],
      "source": [
        "def complementaBases(dna):\n",
        "    complemento = \"\"\n",
        "\n",
        "    for base in dna:\n",
        "        if base==\"A\":\n",
        "            complemento = complemento + \"T\"\n",
        "        elif base==\"T\":\n",
        "            complemento = complemento + \"A\"\n",
        "        elif base==\"G\":\n",
        "            complemento = complemento + \"C\"\n",
        "        elif base==\"C\": \n",
        "            complemento = complemento + \"G\"\n",
        "\n",
        "    return complemento"
      ]
    },
    {
      "cell_type": "code",
      "execution_count": null,
      "metadata": {
        "id": "EsUxMm-AtM3A"
      },
      "outputs": [],
      "source": [
        "complementaBases(\"GATTACA\")"
      ]
    }
  ],
  "metadata": {
    "kernelspec": {
      "display_name": "Python 3",
      "language": "python",
      "name": "python3"
    },
    "language_info": {
      "codemirror_mode": {
        "name": "ipython",
        "version": 3
      },
      "file_extension": ".py",
      "mimetype": "text/x-python",
      "name": "python",
      "nbconvert_exporter": "python",
      "pygments_lexer": "ipython3",
      "version": "3.6.5"
    },
    "toc": {
      "base_numbering": 1,
      "nav_menu": {},
      "number_sections": false,
      "sideBar": true,
      "skip_h1_title": false,
      "title_cell": "Table of Contents",
      "title_sidebar": "Contents",
      "toc_cell": false,
      "toc_position": {},
      "toc_section_display": true,
      "toc_window_display": false
    },
    "colab": {
      "name": "roteiro5.ipynb",
      "provenance": [],
      "include_colab_link": true
    }
  },
  "nbformat": 4,
  "nbformat_minor": 0
}