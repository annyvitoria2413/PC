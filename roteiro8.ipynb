{
 "cells": [
  {
   "attachments": {},
   "cell_type": "markdown",
   "metadata": {},
   "source": [
    "## <center>Programação de Computadores</center>\n",
    "###  <center>Física Médica</center>\n",
    "---\n",
    "## <center>Aula 8. Manipulação de arquivos</center>\n",
    "\n",
    "\n",
    "É possível criar e manipular arquivor em linguagem Pythom."
   ]
  },
  {
   "attachments": {},
   "cell_type": "markdown",
   "metadata": {},
   "source": [
    "Até agora, usamos a função de **print** para exibir os dados na tela. Mas há muitas maneiras de armazenar dados em seu disco e compartilhá-los com outros programas ou colegas. Por exemplo, se temos algumas strings neste notebook, mas queremos usá-las em outro notebook, a maneira mais fácil é armazenar as strings em um arquivo de texto primeiro e depois abri-lo em outro notebook. Um **arquivo de texto**, que geralmente aparece com uma extensão **.txt**, é um arquivo que contém apenas texto simples, definido como uma sequência pura de códigos de caracteres. Observe que os programas que você escreve e os programas que leem seus arquivos de texto geralmente esperam que o arquivo de texto esteja em um determinado formato, ou seja, organizado de uma maneira específica.\n",
    "\n",
    "Para trabalhar com arquivos de texto, precisamos usar a função open, que retorna um objeto de arquivo. É comumente usado com dois argumentos:\n",
    "\n",
    "---\n",
    "\n",
    "f = open(filename, mode)\n",
    "\n",
    "---\n",
    "\n",
    "O f acima é o objeto de arquivo retornado. O nome do arquivo recebe uma string que informa ao computador o localização do arquivo que você deseja abrir e mode é outra string contendo alguns caracteres, que descreve a maneira como o arquivo será usado."
   ]
  },
  {
   "attachments": {},
   "cell_type": "markdown",
   "metadata": {},
   "source": [
    "## Caminhos de abertura\n",
    "- Caminhos Relativos => A partir da pasta atual\n",
    "    - Ex: arquivos//arquivo.txt\n",
    "- Arquivos na pasta atual => Apenas o nome do arquivo\n",
    "    - Ex: arquivo.txt\n",
    "- Caminho Total => Todo o caminho\n",
    "    - Ex: C://caminho//arquivo.txt"
   ]
  },
  {
   "attachments": {},
   "cell_type": "markdown",
   "metadata": {},
   "source": [
    "## Permissões de abertura\n",
    " - 'r' = Read => Apenas escrita (Permissão padrão do Python)\n",
    " - 'a' = Append => Ler e Escrever sem deletar o conteúdo (adicionar conteúdo)\n",
    " - 'w' = Write => Escrever no arquivo a partir do zero (deleta o conteúdo)\n",
    " - 'w+' = Write+ => Escrever no arquivo a partir do zero (deletando o conteúdo) e criando caso ele não exista"
   ]
  },
  {
   "attachments": {},
   "cell_type": "markdown",
   "metadata": {},
   "source": [
    "## Tipos de Leitura\n",
    "- 't' = Text => Arquivo de texto\n",
    "- 'b' = Binary => Arquivo binários (como imagens)"
   ]
  },
  {
   "cell_type": "code",
   "execution_count": null,
   "metadata": {},
   "outputs": [],
   "source": [
    "\n",
    "f = open(\"arquivo.txt\", \"w\")\n",
    "for i in range(5):\n",
    "f.write(f\"This is line {i}\\n\")\n",
    "f.close()\n",
    "\n",
    "f = open(\"arquivo.txt\",\"r\") # Read => Apenas Escrita\n",
    "print(f)"
   ]
  },
  {
   "cell_type": "code",
   "execution_count": null,
   "metadata": {},
   "outputs": [],
   "source": [
    "f = open(\"arquivo.txt\",\"a\") # Append => Leio e quero adicionar textos\n",
    "print(f)"
   ]
  },
  {
   "cell_type": "code",
   "execution_count": null,
   "metadata": {},
   "outputs": [],
   "source": [
    "f = open(\"arquivo.txt\",\"w\") # Write => Escrita => Quero escrever nesse arquivo a partir do zero\n",
    "print(f)"
   ]
  },
  {
   "cell_type": "code",
   "execution_count": null,
   "metadata": {},
   "outputs": [],
   "source": [
    "f = open(\"arquivos//arquivo3.txt\", \"r\") # Arquivo inexistente\n",
    "print(f)"
   ]
  },
  {
   "cell_type": "code",
   "execution_count": null,
   "metadata": {},
   "outputs": [],
   "source": [
    "f = open(\"arquivos//arquivo.txt\") # Read => Apenas Escrita\n",
    "print(f)"
   ]
  },
  {
   "cell_type": "code",
   "execution_count": null,
   "metadata": {},
   "outputs": [],
   "source": [
    "f = open(\"arquivos//arquivo.txt\", \"rt\") # T => Texto => TextIOWrapper\n",
    "print(f)"
   ]
  },
  {
   "cell_type": "code",
   "execution_count": null,
   "metadata": {},
   "outputs": [],
   "source": [
    "f = open(\"arquivos//arquivo.txt\", \"rb\") # B => Binário => BufferedReader\n",
    "print(f)"
   ]
  },
  {
   "attachments": {},
   "cell_type": "markdown",
   "metadata": {},
   "source": [
    "## Abertura e Fechamento de Arquivo\n",
    "Quando eu abro um arquivo eu estou dizendo que eu estou usando ele e ele deve permanecer existente até o final do uso.  \n",
    "Quando eu termino de usar eu preciso informar isso através da função **close()**."
   ]
  },
  {
   "cell_type": "code",
   "execution_count": 53,
   "metadata": {},
   "outputs": [],
   "source": [
    "f = open(\"arquivos//arquivo3.txt\") # Abrir o arquivo"
   ]
  },
  {
   "cell_type": "code",
   "execution_count": 54,
   "metadata": {},
   "outputs": [],
   "source": [
    "f.close() # Fechei o arquivo"
   ]
  },
  {
   "attachments": {},
   "cell_type": "markdown",
   "metadata": {},
   "source": [
    "## Leitura do arquivo"
   ]
  },
  {
   "cell_type": "code",
   "execution_count": 15,
   "metadata": {},
   "outputs": [
    {
     "name": "stdout",
     "output_type": "stream",
     "text": [
      "<_io.TextIOWrapper name='arquivos//arquivo.txt' mode='r' encoding='cp1252'>\n"
     ]
    }
   ],
   "source": [
    "f = open(\"arquivos//arquivo.txt\") # Read => Apenas Escrita\n",
    "print(f)"
   ]
  },
  {
   "attachments": {},
   "cell_type": "markdown",
   "metadata": {},
   "source": [
    "Para ler todo o arquivo em uma string só usamos o **read()**"
   ]
  },
  {
   "cell_type": "code",
   "execution_count": null,
   "metadata": {},
   "outputs": [],
   "source": [
    "print(f.read()) # Read => Lê todo o arquivo em uma string só"
   ]
  },
  {
   "attachments": {},
   "cell_type": "markdown",
   "metadata": {},
   "source": [
    "Para ler apenas uma linha usamos o **readline()**"
   ]
  },
  {
   "cell_type": "code",
   "execution_count": null,
   "metadata": {
    "scrolled": true
   },
   "outputs": [],
   "source": [
    "f = open(\"arquivos//arquivo.txt\")\n",
    "f.readline()"
   ]
  },
  {
   "attachments": {},
   "cell_type": "markdown",
   "metadata": {},
   "source": [
    "A cada execução o Python lê a próxima linha, ou seja, 'ignora' a leitura das anteriores.  \n",
    "Em outras palavras ele 'segue a diante'"
   ]
  },
  {
   "cell_type": "code",
   "execution_count": null,
   "metadata": {},
   "outputs": [],
   "source": [
    "f.readline() "
   ]
  },
  {
   "attachments": {},
   "cell_type": "markdown",
   "metadata": {},
   "source": [
    "Para ler todas as linhas uma por uma e retornar em uma lista usamos o **readlines()**"
   ]
  },
  {
   "cell_type": "code",
   "execution_count": null,
   "metadata": {},
   "outputs": [],
   "source": [
    "f = open(\"arquivos//arquivo.txt\")\n",
    "linhas = f.readlines()\n",
    "print(linhas)"
   ]
  },
  {
   "cell_type": "code",
   "execution_count": null,
   "metadata": {},
   "outputs": [],
   "source": [
    "linhas[0]"
   ]
  },
  {
   "cell_type": "code",
   "execution_count": null,
   "metadata": {},
   "outputs": [],
   "source": [
    "type(linhas)"
   ]
  },
  {
   "cell_type": "code",
   "execution_count": null,
   "metadata": {},
   "outputs": [],
   "source": [
    "linhas = f.readlines()\n",
    "linhas"
   ]
  },
  {
   "attachments": {},
   "cell_type": "markdown",
   "metadata": {},
   "source": [
    "Repare que ao chamarmos pela segunda vez a função retornar uma lista vazia pois ela, na verdade, **retorna as linhas restantes.**  \n",
    "Como, ao abrir o arquivo, restavam todas as linhas então ela retornou todas as linhas.\n",
    "\n",
    "**Confundiu? Veja se este exemplo clareia as coisas.**"
   ]
  },
  {
   "cell_type": "code",
   "execution_count": 42,
   "metadata": {},
   "outputs": [],
   "source": [
    "f = open(\"arquivos//arquivo.txt\")\n",
    "primeira_linha = f.readline() # Leio o inicio do arquivo\n",
    "segunda_linha = f.readline() # Move o cabeçote de leitura para frente indo para o 'novo' (ainda não lido) => Lê 2ª linha\n",
    "proximas_linhas = f.readlines() # Lê as linhas restantes"
   ]
  },
  {
   "cell_type": "code",
   "execution_count": 44,
   "metadata": {},
   "outputs": [
    {
     "name": "stdout",
     "output_type": "stream",
     "text": [
      "Primeira Linha: primeira linha\n",
      "\n",
      "Segunda Linha: segunda linha\n",
      "\n",
      "Próximas Linhas: ['terceira linha\\n', 'quarta linha\\n', 'quinta linha']\n"
     ]
    }
   ],
   "source": [
    "print(\"Primeira Linha:\",primeira_linha)\n",
    "print(\"Segunda Linha:\",segunda_linha)\n",
    "print(\"Próximas Linhas:\",proximas_linhas)"
   ]
  },
  {
   "attachments": {},
   "cell_type": "markdown",
   "metadata": {},
   "source": [
    "Para ler apenas **X** caracteres uso a função **Read()** passando a quantidade por parâmetro"
   ]
  },
  {
   "cell_type": "code",
   "execution_count": 48,
   "metadata": {},
   "outputs": [
    {
     "name": "stdout",
     "output_type": "stream",
     "text": [
      "primeira l\n"
     ]
    }
   ],
   "source": [
    "f = open(\"arquivos//arquivo.txt\")\n",
    "print(f.read(10)) # Passo por parâmetro a quantidade que quero ler"
   ]
  },
  {
   "attachments": {},
   "cell_type": "markdown",
   "metadata": {},
   "source": [
    "Podemos percorrer linha por linha através de um **loop for**"
   ]
  },
  {
   "cell_type": "code",
   "execution_count": 55,
   "metadata": {},
   "outputs": [
    {
     "name": "stdout",
     "output_type": "stream",
     "text": [
      "primeira linha\n",
      "\n",
      "segunda linha\n",
      "\n",
      "terceira linha\n",
      "\n",
      "quarta linha\n",
      "\n",
      "quinta linha\n"
     ]
    }
   ],
   "source": [
    "f = open(\"arquivos//arquivo.txt\")\n",
    "for l in f:\n",
    "    print(l)"
   ]
  },
  {
   "attachments": {},
   "cell_type": "markdown",
   "metadata": {},
   "source": [
    "## Escrevendo em arquivos\n",
    "Lembrete:\n",
    "- 'w' => Write => Escrever a partir do zero => Deleto tudo o que existe\n",
    "- 'a' => Append => Incremento o conteúdo => Adiciono ao que já existe"
   ]
  },
  {
   "cell_type": "code",
   "execution_count": 65,
   "metadata": {},
   "outputs": [],
   "source": [
    "f = open(\"arquivos//arquivo2.txt\", \"w\")\n",
    "f.write(\"Apaguei todo o conteúdo e escrevi este aqui :)\")\n",
    "f.close()"
   ]
  },
  {
   "cell_type": "code",
   "execution_count": 68,
   "metadata": {},
   "outputs": [
    {
     "name": "stdout",
     "output_type": "stream",
     "text": [
      "Apaguei todo o conteúdo e escrevi este aqui :)\n",
      "Estou adicionando também esse conteúdo :)\n"
     ]
    }
   ],
   "source": [
    "f = open(\"arquivos//arquivo2.txt\", \"r\")\n",
    "print(f.read())\n",
    "f.close()"
   ]
  },
  {
   "cell_type": "code",
   "execution_count": 67,
   "metadata": {},
   "outputs": [],
   "source": [
    "f = open(\"arquivos//arquivo2.txt\", \"a\")\n",
    "f.write(\"\\nEstou adicionando também esse conteúdo :)\")\n",
    "f.close()"
   ]
  },
  {
   "attachments": {},
   "cell_type": "markdown",
   "metadata": {},
   "source": [
    "**Lidando com números e arrays**\n",
    "</p>Como trabalharemos com métodos numéricos mais tarde e geralmente trabalharemos com números ou matrizes, podemos usar os métodos acima para salvar os números ou matrizes em um arquivo e lê-lo de volta na memória. Embora viável, é um pouco desajeitado. Em vez disso, os programadores geralmente usam o pacote NumPy para salvar/ler diretamente uma matriz. Um exemplo é apresentado a seguir.</p>"
   ]
  },
  {
   "cell_type": "code",
   "execution_count": null,
   "metadata": {},
   "outputs": [],
   "source": [
    "import numpy as np\n",
    "arr = np.array([[1.20, 2.20, 3.00], [4.14, 5.65, 6.42]])\n",
    "arr\n",
    "np.savetxt(\"my_arr.txt\", arr, fmt=\"%.2f\",\n",
    "            header = \"Col1 Col2 Col3\")"
   ]
  },
  {
   "attachments": {},
   "cell_type": "markdown",
   "metadata": {},
   "source": [
    "O exemplo acima demonstra como salvar um array 2D em um arquivo de texto usando **np.savetxt**. O primeiro argumento é o nome do arquivo, o segundo argumento é o objeto que desejamos salvar e o terceiro argumento é para definir o formato da saída (usamos **\"%.2f\"** para indicar que queremos os números de saída com duas casas decimais) . O quarto argumento é o cabeçalho que desejamos escrever no arquivo."
   ]
  },
  {
   "cell_type": "code",
   "execution_count": null,
   "metadata": {},
   "outputs": [],
   "source": [
    "my_arr = np.loadtxt(\"my_arr.txt\")\n",
    "my_arr"
   ]
  },
  {
   "attachments": {},
   "cell_type": "markdown",
   "metadata": {},
   "source": [
    "Ler o arquivo diretamente em um array é muito simples usando a função **np.loadtxt**, que pula o primeiro cabeçalho. Existem muitos argumentos diferentes que podem controlar como um arquivo é lido. Discussões adicionais sobre esse tópico serão exploradas na próxima seção; no entanto, não entraremos em muitos detalhes aqui além do que foi apresentado acima. Verifique a documentação ou use o ponto de interrogação se precisar de ajuda."
   ]
  },
  {
   "attachments": {},
   "cell_type": "markdown",
   "metadata": {},
   "source": [
    "***Arquivos CSV***\n",
    "\n",
    "Muitas vezes, os dados científicos são armazenados no formato de arquivo de valores separados por vírgula (CSV), que é um arquivo de texto delimitado que usa uma vírgula para separar os valores. É um formato muito útil que pode armazenar grandes tabelas de dados (números e texto) em texto simples. Cada linha (linha) nos dados é um registro de dados e cada registro consiste em um ou mais campos separados por vírgulas. Também pode ser aberto usando o Microsoft Excel para visualizar as linhas e colunas.\n",
    "\n",
    "Python tem seu próprio módulo CSV para ler e gravar um arquivo CSV; não vamos discutir mais isso. Detalhes sobre este módulo estão disponíveis na documentação.1 Em vez disso, usaremos o pacote NumPy para lidar com arquivos CSV, porque é preferível ler um arquivo CSV diretamente em um array NumPy."
   ]
  },
  {
   "cell_type": "code",
   "execution_count": null,
   "metadata": {},
   "outputs": [],
   "source": [
    "import numpy as np\n",
    "data = np.random.random((100,5))\n",
    "np.savetxt(\"test.csv\", data, fmt = \"%.2f\",\n",
    "            delimiter=\",\", header = \"c1, c2, c3, c4, c5\")"
   ]
  },
  {
   "attachments": {},
   "cell_type": "markdown",
   "metadata": {},
   "source": [
    "***Escrevendo e abrindo um arquivo CSV***\n",
    "\n",
    "Primeiro, geramos alguns dados aleatórios para 100 linhas e 5 colunas usando a função **np.random** e os atribuímos a uma variável de dados, usando a função **np.savetxt** para salvar os dados em um arquivo CSV. Observe que os três primeiros argumentos são os mesmos usados anteriormente, mas neste caso definimos o argumento delimitador como \",\", o que indica que queremos separar os dados usando uma vírgula.\n",
    "\n",
    "Agora, podemos abrir o arquivo CSV usando o Microsoft Excel. Também podemos abrir o arquivo CSV usando um editor de texto; observe que os valores são separados por vírgulas"
   ]
  },
  {
   "attachments": {},
   "cell_type": "markdown",
   "metadata": {},
   "source": [
    "***Lendo um arquivo CSV***\n",
    "\n",
    "Como antes, podemos ler o arquivo CSV usando a função **np.loadtxt**. Se lermos o arquivo CSV que acabamos de salvar no disco para uma variável **my_csv** e exibirmos as 5 primeiras linhas, precisamos usar o **delimitador** novamente para especificar que os dados no arquivo são separados por vírgulas."
   ]
  },
  {
   "cell_type": "code",
   "execution_count": null,
   "metadata": {},
   "outputs": [],
   "source": [
    "my_csv = np.loadtxt(\"./test.csv\", delimiter=\",\")\n",
    "my_csv[:5, :]"
   ]
  },
  {
   "attachments": {},
   "cell_type": "markdown",
   "metadata": {},
   "source": [
    "***Arquivos Pickle***\n",
    "\n",
    "Agora vamos apresentar outra maneira de armazenar os dados no disco, ou seja, **pickle**. Falamos sobre salvar dados em arquivos de texto ou arquivos CSV, mas, em certos casos, queremos armazenar dicionários, tuplas, listas ou qualquer outro tipo de dados no disco e usá-los posteriormente ou enviá-los a colegas. É aqui que entra o pickle; ele pode serializar objetos para que possam ser salvos em um arquivo e carregados novamente mais tarde.\n",
    "\n",
    "Pickle pode ser usado para serializar estruturas de objeto Python, que se refere ao processo de conversão de um objeto na memória em um fluxo de bytes que pode ser armazenado como um arquivo binário no disco. Quando o carregamos de volta para um programa Python, esse arquivo binário pode ser desserializado de volta para um objeto Python."
   ]
  },
  {
   "cell_type": "code",
   "execution_count": null,
   "metadata": {},
   "outputs": [],
   "source": [
    "import pickle\n",
    "\n",
    "dict_a = {\"A\":0, \"B\":1, \"C\":2}\n",
    "pickle.dump(dict_a, open(\"test.pkl\", \"wb\"))"
   ]
  },
  {
   "attachments": {},
   "cell_type": "markdown",
   "metadata": {},
   "source": [
    "Para usar pickle para serializar um objeto, usamos a função **pickle.dump** que recebe dois argumentos:\n",
    "\n",
    "o primeiro é o objeto e o segundo argumento é um objeto de arquivo retornado pela função **open**. Observe que o modo da função aberta é **\"wb\"**, o que indica que está gravando em um arquivo binário.\n",
    "\n",
    "***Lendo um arquivo Pickle***\n",
    "\n",
    "Em seguida, carregamos o arquivo pickle que acabamos de salvar no disco usando a função **pickle.load**."
   ]
  },
  {
   "cell_type": "code",
   "execution_count": null,
   "metadata": {},
   "outputs": [],
   "source": [
    "my_dict = pickle.load(open(\"./test.pkl\", \"rb\"))\n",
    "my_dict"
   ]
  },
  {
   "attachments": {},
   "cell_type": "markdown",
   "metadata": {},
   "source": [
    "Podemos ver que o carregamento de um arquivo pickle é muito semelhante ao processo de salvamento, mas aqui o modo da função **open** é **\"rb\"**, que indica que está lendo o arquivo binário. Esta função desserializa o arquivo binário de volta ao objeto original, que neste caso é um dicionário. Esse também é um dos motivos pelos quais o formato **picles** é popular; é muito fácil armazenar e carregar uma estrutura de dados Python sem adicionar código extra para alterá-la."
   ]
  }
 ],
 "metadata": {
  "kernelspec": {
   "display_name": "Python 3",
   "language": "python",
   "name": "python3"
  },
  "language_info": {
   "codemirror_mode": {
    "name": "ipython",
    "version": 3
   },
   "file_extension": ".py",
   "mimetype": "text/x-python",
   "name": "python",
   "nbconvert_exporter": "python",
   "pygments_lexer": "ipython3",
   "version": "3.7.3"
  }
 },
 "nbformat": 4,
 "nbformat_minor": 2
}
